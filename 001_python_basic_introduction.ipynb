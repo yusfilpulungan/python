{
  "nbformat": 4,
  "nbformat_minor": 0,
  "metadata": {
    "colab": {
      "name": "001_python_basic_introduction.ipynb",
      "provenance": [],
      "collapsed_sections": [],
      "toc_visible": true,
      "include_colab_link": true
    },
    "kernelspec": {
      "name": "python3",
      "display_name": "Python 3"
    }
  },
  "cells": [
    {
      "cell_type": "markdown",
      "metadata": {
        "id": "view-in-github",
        "colab_type": "text"
      },
      "source": [
        "<a href=\"https://colab.research.google.com/github/yusfilpulungan/python/blob/master/001_python_basic_introduction.ipynb\" target=\"_parent\"><img src=\"https://colab.research.google.com/assets/colab-badge.svg\" alt=\"Open In Colab\"/></a>"
      ]
    },
    {
      "cell_type": "markdown",
      "metadata": {
        "id": "4GfEZlF_2KPM",
        "colab_type": "text"
      },
      "source": [
        "# Python Basic Introduction"
      ]
    },
    {
      "cell_type": "markdown",
      "metadata": {
        "id": "qYxiVlC1Fek5",
        "colab_type": "text"
      },
      "source": [
        "## Data Structures\n",
        "There are quite a few data structures available. The builtins data structures are: lists, tuples, dictionaries, strings, sets and frozensets.\n"
      ]
    },
    {
      "cell_type": "markdown",
      "metadata": {
        "id": "eaIKztKNdoWT",
        "colab_type": "text"
      },
      "source": [
        "### Strings\n",
        "Strings are immutable sequence of letters, numbers or symbols named characters. The sequence of character is begin with 0 from the left to the right and -1 from the right to the left.\n",
        "To create string, we need to use the ' '."
      ]
    },
    {
      "cell_type": "code",
      "metadata": {
        "id": "ehHIQPIIdwZp",
        "colab_type": "code",
        "colab": {
          "base_uri": "https://localhost:8080/",
          "height": 34
        },
        "outputId": "4cf5b4c2-769e-45eb-f208-cca053b20092"
      },
      "source": [
        "# Create String\n",
        "string_a = 'Hello World'\n",
        "string_a"
      ],
      "execution_count": 1,
      "outputs": [
        {
          "output_type": "execute_result",
          "data": {
            "text/plain": [
              "'Hello World'"
            ]
          },
          "metadata": {
            "tags": []
          },
          "execution_count": 1
        }
      ]
    },
    {
      "cell_type": "code",
      "metadata": {
        "id": "X_fRWZxLk0iv",
        "colab_type": "code",
        "colab": {
          "base_uri": "https://localhost:8080/",
          "height": 34
        },
        "outputId": "39bd230c-9f1e-4c39-f827-e18593326ee7"
      },
      "source": [
        "# Check Type\n",
        "type(string_a)"
      ],
      "execution_count": 2,
      "outputs": [
        {
          "output_type": "execute_result",
          "data": {
            "text/plain": [
              "str"
            ]
          },
          "metadata": {
            "tags": []
          },
          "execution_count": 2
        }
      ]
    },
    {
      "cell_type": "code",
      "metadata": {
        "id": "W6OqGsOidTIK",
        "colab_type": "code",
        "colab": {
          "base_uri": "https://localhost:8080/",
          "height": 34
        },
        "outputId": "8ebc5475-eaf1-46b1-9f20-a3e1fd7b570a"
      },
      "source": [
        "# Show String Length\n",
        "len(string_a)"
      ],
      "execution_count": 3,
      "outputs": [
        {
          "output_type": "execute_result",
          "data": {
            "text/plain": [
              "11"
            ]
          },
          "metadata": {
            "tags": []
          },
          "execution_count": 3
        }
      ]
    },
    {
      "cell_type": "code",
      "metadata": {
        "id": "jM6j8f0VmMW-",
        "colab_type": "code",
        "colab": {
          "base_uri": "https://localhost:8080/",
          "height": 34
        },
        "outputId": "8d040d9d-7d37-4efd-f530-4e09999056d0"
      },
      "source": [
        "# Select the nth Character from the Left\n",
        "string_a[1]"
      ],
      "execution_count": 4,
      "outputs": [
        {
          "output_type": "execute_result",
          "data": {
            "text/plain": [
              "'e'"
            ]
          },
          "metadata": {
            "tags": []
          },
          "execution_count": 4
        }
      ]
    },
    {
      "cell_type": "markdown",
      "metadata": {
        "id": "mVUbOh6cGBjy",
        "colab_type": "text"
      },
      "source": [
        "### Lists\n",
        "Lists can contain any type of objects. We use [1, 2, 3] to add numeric object but for character we need to use ['one', 'two', 'three']. A single list may contain DataTypes like Integers, Strings, as well as Objects.\n",
        "\n",
        "Lists are mutable, and hence, they can be altered even after their creation.\n",
        "\n",
        "Each data has an address referred to as an index. The index is begins with 0 from the left to the right and begins with -1 from the right to the left."
      ]
    },
    {
      "cell_type": "markdown",
      "metadata": {
        "id": "500C7nm6TL9A",
        "colab_type": "text"
      },
      "source": [
        "Create list"
      ]
    },
    {
      "cell_type": "code",
      "metadata": {
        "id": "Ym3SjhyPfOzq",
        "colab_type": "code",
        "colab": {
          "base_uri": "https://localhost:8080/",
          "height": 34
        },
        "outputId": "c7345586-a485-4e09-897f-0d960231e178"
      },
      "source": [
        "# Create an Empty List\n",
        "list_fruits = []\n",
        "list_fruits"
      ],
      "execution_count": 5,
      "outputs": [
        {
          "output_type": "execute_result",
          "data": {
            "text/plain": [
              "[]"
            ]
          },
          "metadata": {
            "tags": []
          },
          "execution_count": 5
        }
      ]
    },
    {
      "cell_type": "code",
      "metadata": {
        "id": "fhalAB2YVO6z",
        "colab_type": "code",
        "colab": {
          "base_uri": "https://localhost:8080/",
          "height": 34
        },
        "outputId": "87c0466e-ae9d-4e1f-dfd4-9c03a4c6dfec"
      },
      "source": [
        "# Check Type\n",
        "type(list_fruits)"
      ],
      "execution_count": 6,
      "outputs": [
        {
          "output_type": "execute_result",
          "data": {
            "text/plain": [
              "list"
            ]
          },
          "metadata": {
            "tags": []
          },
          "execution_count": 6
        }
      ]
    },
    {
      "cell_type": "code",
      "metadata": {
        "id": "d9smdvctG5u9",
        "colab_type": "code",
        "colab": {
          "base_uri": "https://localhost:8080/",
          "height": 34
        },
        "outputId": "cc529cb0-4ca1-4c8f-e915-10606f2ac4ea"
      },
      "source": [
        "# Create List\n",
        "list_fruits = ['orange', 'apple', 'pear']\n",
        "list_fruits"
      ],
      "execution_count": 7,
      "outputs": [
        {
          "output_type": "execute_result",
          "data": {
            "text/plain": [
              "['orange', 'apple', 'pear']"
            ]
          },
          "metadata": {
            "tags": []
          },
          "execution_count": 7
        }
      ]
    },
    {
      "cell_type": "markdown",
      "metadata": {
        "id": "tmOEGrzdTQGO",
        "colab_type": "text"
      },
      "source": [
        "Add items to the list"
      ]
    },
    {
      "cell_type": "code",
      "metadata": {
        "id": "fEJqbmTSHmuS",
        "colab_type": "code",
        "colab": {
          "base_uri": "https://localhost:8080/",
          "height": 34
        },
        "outputId": "884762c4-af53-4411-bfbd-3ba8bf273ecd"
      },
      "source": [
        "# Append an Item to the end of List\n",
        "list_fruits.append('banana')\n",
        "list_fruits"
      ],
      "execution_count": 8,
      "outputs": [
        {
          "output_type": "execute_result",
          "data": {
            "text/plain": [
              "['orange', 'apple', 'pear', 'banana']"
            ]
          },
          "metadata": {
            "tags": []
          },
          "execution_count": 8
        }
      ]
    },
    {
      "cell_type": "code",
      "metadata": {
        "id": "cfZUFHJJH331",
        "colab_type": "code",
        "colab": {
          "base_uri": "https://localhost:8080/",
          "height": 187
        },
        "outputId": "48e7f8f9-2376-4aa3-9d20-b2272e5ad72e"
      },
      "source": [
        "# Extend Items to List\n",
        "list_fruits.extend(['kiwi', 'apple', 'banana', 'durian', 'rambutan', 'grape'])\n",
        "list_fruits"
      ],
      "execution_count": 9,
      "outputs": [
        {
          "output_type": "execute_result",
          "data": {
            "text/plain": [
              "['orange',\n",
              " 'apple',\n",
              " 'pear',\n",
              " 'banana',\n",
              " 'kiwi',\n",
              " 'apple',\n",
              " 'banana',\n",
              " 'durian',\n",
              " 'rambutan',\n",
              " 'grape']"
            ]
          },
          "metadata": {
            "tags": []
          },
          "execution_count": 9
        }
      ]
    },
    {
      "cell_type": "code",
      "metadata": {
        "id": "kp9ruthjPvF2",
        "colab_type": "code",
        "colab": {
          "base_uri": "https://localhost:8080/",
          "height": 204
        },
        "outputId": "a4cb9902-09b9-49a1-9ba2-eca854d007b9"
      },
      "source": [
        "# Insert an Item to a Specific Index of a List\n",
        "list_fruits.insert(2,'orange')\n",
        "list_fruits"
      ],
      "execution_count": 10,
      "outputs": [
        {
          "output_type": "execute_result",
          "data": {
            "text/plain": [
              "['orange',\n",
              " 'apple',\n",
              " 'orange',\n",
              " 'pear',\n",
              " 'banana',\n",
              " 'kiwi',\n",
              " 'apple',\n",
              " 'banana',\n",
              " 'durian',\n",
              " 'rambutan',\n",
              " 'grape']"
            ]
          },
          "metadata": {
            "tags": []
          },
          "execution_count": 10
        }
      ]
    },
    {
      "cell_type": "markdown",
      "metadata": {
        "id": "6Xij3x8lUYzP",
        "colab_type": "text"
      },
      "source": [
        "Explore the list"
      ]
    },
    {
      "cell_type": "code",
      "metadata": {
        "id": "Uu2A4X86Lpxs",
        "colab_type": "code",
        "colab": {
          "base_uri": "https://localhost:8080/",
          "height": 34
        },
        "outputId": "d701fd9e-ef0e-4331-a502-e388a0db5d9c"
      },
      "source": [
        "# Count an Item\n",
        "list_fruits.count('banana')"
      ],
      "execution_count": 11,
      "outputs": [
        {
          "output_type": "execute_result",
          "data": {
            "text/plain": [
              "2"
            ]
          },
          "metadata": {
            "tags": []
          },
          "execution_count": 11
        }
      ]
    },
    {
      "cell_type": "code",
      "metadata": {
        "id": "y1Gsa_RJSeII",
        "colab_type": "code",
        "colab": {
          "base_uri": "https://localhost:8080/",
          "height": 34
        },
        "outputId": "570479d7-9ad6-4972-fa10-a9c081f50864"
      },
      "source": [
        "# View the nth Item\n",
        "list_fruits[2]"
      ],
      "execution_count": 12,
      "outputs": [
        {
          "output_type": "execute_result",
          "data": {
            "text/plain": [
              "'orange'"
            ]
          },
          "metadata": {
            "tags": []
          },
          "execution_count": 12
        }
      ]
    },
    {
      "cell_type": "code",
      "metadata": {
        "id": "4uYzIDGphEnx",
        "colab_type": "code",
        "colab": {
          "base_uri": "https://localhost:8080/",
          "height": 34
        },
        "outputId": "5a377f5b-aa3c-4a0f-bb59-b8570169586d"
      },
      "source": [
        "# View the nth Item\n",
        "list_fruits[1:3]"
      ],
      "execution_count": 13,
      "outputs": [
        {
          "output_type": "execute_result",
          "data": {
            "text/plain": [
              "['apple', 'orange']"
            ]
          },
          "metadata": {
            "tags": []
          },
          "execution_count": 13
        }
      ]
    },
    {
      "cell_type": "code",
      "metadata": {
        "id": "GHYa2WzWMUhY",
        "colab_type": "code",
        "colab": {
          "base_uri": "https://localhost:8080/",
          "height": 204
        },
        "outputId": "f9c337a3-226c-4546-98b7-6851fb1e03eb"
      },
      "source": [
        "# Sorts Items\n",
        "list_fruits.sort(reverse=False)\n",
        "list_fruits"
      ],
      "execution_count": 14,
      "outputs": [
        {
          "output_type": "execute_result",
          "data": {
            "text/plain": [
              "['apple',\n",
              " 'apple',\n",
              " 'banana',\n",
              " 'banana',\n",
              " 'durian',\n",
              " 'grape',\n",
              " 'kiwi',\n",
              " 'orange',\n",
              " 'orange',\n",
              " 'pear',\n",
              " 'rambutan']"
            ]
          },
          "metadata": {
            "tags": []
          },
          "execution_count": 14
        }
      ]
    },
    {
      "cell_type": "code",
      "metadata": {
        "id": "O_I6r4xeNkJ0",
        "colab_type": "code",
        "colab": {
          "base_uri": "https://localhost:8080/",
          "height": 204
        },
        "outputId": "c3ef8be5-dab6-41d5-a44e-130ace7d5854"
      },
      "source": [
        "# Reverse Items\n",
        "list_fruits.reverse()\n",
        "list_fruits"
      ],
      "execution_count": 15,
      "outputs": [
        {
          "output_type": "execute_result",
          "data": {
            "text/plain": [
              "['rambutan',\n",
              " 'pear',\n",
              " 'orange',\n",
              " 'orange',\n",
              " 'kiwi',\n",
              " 'grape',\n",
              " 'durian',\n",
              " 'banana',\n",
              " 'banana',\n",
              " 'apple',\n",
              " 'apple']"
            ]
          },
          "metadata": {
            "tags": []
          },
          "execution_count": 15
        }
      ]
    },
    {
      "cell_type": "markdown",
      "metadata": {
        "id": "E5kxVDekUe7j",
        "colab_type": "text"
      },
      "source": [
        "Remove items from the list"
      ]
    },
    {
      "cell_type": "code",
      "metadata": {
        "id": "jOWfzkBPSv30",
        "colab_type": "code",
        "colab": {
          "base_uri": "https://localhost:8080/",
          "height": 204
        },
        "outputId": "0755893a-fea5-4ece-b813-7ba33ee4729b"
      },
      "source": [
        "# Change the nth Item\n",
        "list_fruits[2] = 'coconut'\n",
        "list_fruits"
      ],
      "execution_count": 16,
      "outputs": [
        {
          "output_type": "execute_result",
          "data": {
            "text/plain": [
              "['rambutan',\n",
              " 'pear',\n",
              " 'coconut',\n",
              " 'orange',\n",
              " 'kiwi',\n",
              " 'grape',\n",
              " 'durian',\n",
              " 'banana',\n",
              " 'banana',\n",
              " 'apple',\n",
              " 'apple']"
            ]
          },
          "metadata": {
            "tags": []
          },
          "execution_count": 16
        }
      ]
    },
    {
      "cell_type": "code",
      "metadata": {
        "id": "0ox9eK0nKc2l",
        "colab_type": "code",
        "colab": {
          "base_uri": "https://localhost:8080/",
          "height": 187
        },
        "outputId": "729132b7-cd66-4a58-d8e3-6cc1365da796"
      },
      "source": [
        "# Remove the Nearest Item from List\n",
        "list_fruits.remove('coconut')\n",
        "list_fruits"
      ],
      "execution_count": 17,
      "outputs": [
        {
          "output_type": "execute_result",
          "data": {
            "text/plain": [
              "['rambutan',\n",
              " 'pear',\n",
              " 'orange',\n",
              " 'kiwi',\n",
              " 'grape',\n",
              " 'durian',\n",
              " 'banana',\n",
              " 'banana',\n",
              " 'apple',\n",
              " 'apple']"
            ]
          },
          "metadata": {
            "tags": []
          },
          "execution_count": 17
        }
      ]
    },
    {
      "cell_type": "code",
      "metadata": {
        "id": "vJhSuxAKVc-F",
        "colab_type": "code",
        "colab": {
          "base_uri": "https://localhost:8080/",
          "height": 170
        },
        "outputId": "50ce2f40-c373-4b16-e812-1d27892c1b64"
      },
      "source": [
        "# Remove the nth Item\n",
        "del list_fruits[1]\n",
        "list_fruits"
      ],
      "execution_count": 18,
      "outputs": [
        {
          "output_type": "execute_result",
          "data": {
            "text/plain": [
              "['rambutan',\n",
              " 'orange',\n",
              " 'kiwi',\n",
              " 'grape',\n",
              " 'durian',\n",
              " 'banana',\n",
              " 'banana',\n",
              " 'apple',\n",
              " 'apple']"
            ]
          },
          "metadata": {
            "tags": []
          },
          "execution_count": 18
        }
      ]
    },
    {
      "cell_type": "code",
      "metadata": {
        "id": "Ss7F7xQXYizt",
        "colab_type": "code",
        "colab": {
          "base_uri": "https://localhost:8080/",
          "height": 34
        },
        "outputId": "46c6c937-032f-4d7e-c2f8-dd0fed20a5c9"
      },
      "source": [
        "# Remove the Multiple Items by Index Range\n",
        "del list_fruits[4:6]\n",
        "list_fruits"
      ],
      "execution_count": 19,
      "outputs": [
        {
          "output_type": "execute_result",
          "data": {
            "text/plain": [
              "['rambutan', 'orange', 'kiwi', 'grape', 'banana', 'apple', 'apple']"
            ]
          },
          "metadata": {
            "tags": []
          },
          "execution_count": 19
        }
      ]
    },
    {
      "cell_type": "code",
      "metadata": {
        "id": "tE4f3sUJZHHP",
        "colab_type": "code",
        "colab": {
          "base_uri": "https://localhost:8080/",
          "height": 34
        },
        "outputId": "649e6487-cf66-46bc-bfad-45f56c133d6c"
      },
      "source": [
        "# Remove Items by specifying step as [start:stop:step]\n",
        "del list_fruits[0:6:2]\n",
        "list_fruits"
      ],
      "execution_count": 20,
      "outputs": [
        {
          "output_type": "execute_result",
          "data": {
            "text/plain": [
              "['orange', 'grape', 'apple', 'apple']"
            ]
          },
          "metadata": {
            "tags": []
          },
          "execution_count": 20
        }
      ]
    },
    {
      "cell_type": "markdown",
      "metadata": {
        "id": "-3eRc7o2bvVE",
        "colab_type": "text"
      },
      "source": [
        "Show items that meet the condition"
      ]
    },
    {
      "cell_type": "code",
      "metadata": {
        "id": "ojRKFsW4Zkzi",
        "colab_type": "code",
        "colab": {
          "base_uri": "https://localhost:8080/",
          "height": 34
        },
        "outputId": "60674f70-6b2a-4388-fce1-f29b4b6496ab"
      },
      "source": [
        "# Show List without Items\n",
        "print([s for s in list_fruits if s != 'apple'])"
      ],
      "execution_count": 21,
      "outputs": [
        {
          "output_type": "stream",
          "text": [
            "['orange', 'grape']\n"
          ],
          "name": "stdout"
        }
      ]
    },
    {
      "cell_type": "code",
      "metadata": {
        "id": "4LJlRPLTZmaU",
        "colab_type": "code",
        "colab": {
          "base_uri": "https://localhost:8080/",
          "height": 34
        },
        "outputId": "d677d64a-b59d-489c-d64a-3b67a0c2f06f"
      },
      "source": [
        "# Show Multiple Items that Starts with X\n",
        "print([s for s in list_fruits if s.startswith('o')])"
      ],
      "execution_count": 22,
      "outputs": [
        {
          "output_type": "stream",
          "text": [
            "['orange']\n"
          ],
          "name": "stdout"
        }
      ]
    },
    {
      "cell_type": "code",
      "metadata": {
        "id": "dnSWtv-AaWA2",
        "colab_type": "code",
        "colab": {
          "base_uri": "https://localhost:8080/",
          "height": 34
        },
        "outputId": "081587f7-5a9d-4037-aff1-4d76d2e36005"
      },
      "source": [
        "# Remove Multiple Items that Ends with X\n",
        "print([s for s in list_fruits if s.endswith('e')])"
      ],
      "execution_count": 23,
      "outputs": [
        {
          "output_type": "stream",
          "text": [
            "['orange', 'grape', 'apple', 'apple']\n"
          ],
          "name": "stdout"
        }
      ]
    },
    {
      "cell_type": "code",
      "metadata": {
        "id": "vvAV_uLVbUMO",
        "colab_type": "code",
        "colab": {
          "base_uri": "https://localhost:8080/",
          "height": 34
        },
        "outputId": "161565b9-1e89-43c1-d634-a6cbd414f9eb"
      },
      "source": [
        "# Remove Multiple Items that Start with X and Ends with Y\n",
        "print([s for s in list_fruits if s.startswith('o') and s.endswith('e')])"
      ],
      "execution_count": 24,
      "outputs": [
        {
          "output_type": "stream",
          "text": [
            "['orange']\n"
          ],
          "name": "stdout"
        }
      ]
    },
    {
      "cell_type": "markdown",
      "metadata": {
        "id": "4PbAGAoxVP2I",
        "colab_type": "text"
      },
      "source": [
        "Remove list"
      ]
    },
    {
      "cell_type": "code",
      "metadata": {
        "id": "Jxx3-JB7Qkuq",
        "colab_type": "code",
        "colab": {
          "base_uri": "https://localhost:8080/",
          "height": 34
        },
        "outputId": "d172638a-6f81-4e95-9007-3d6cfef46504"
      },
      "source": [
        "# Remove List\n",
        "list_fruits.clear()\n",
        "list_fruits"
      ],
      "execution_count": 25,
      "outputs": [
        {
          "output_type": "execute_result",
          "data": {
            "text/plain": [
              "[]"
            ]
          },
          "metadata": {
            "tags": []
          },
          "execution_count": 25
        }
      ]
    },
    {
      "cell_type": "markdown",
      "metadata": {
        "id": "DjTznqnmImVj",
        "colab_type": "text"
      },
      "source": [
        "### Tuples\n",
        "In someways a tuple is similar to a list in terms of indexing, nested objects and repetition but a tuple is immutable. We use (1, 2, 3) to add numeric object but for character we need to use ('one', 'two', 'three'). "
      ]
    },
    {
      "cell_type": "code",
      "metadata": {
        "id": "L8erk8oKfUSp",
        "colab_type": "code",
        "colab": {
          "base_uri": "https://localhost:8080/",
          "height": 34
        },
        "outputId": "f65d48a4-090b-451c-d395-80641b90118a"
      },
      "source": [
        "# Create Tuple\n",
        "tuple_animals = ()\n",
        "tuple_animals"
      ],
      "execution_count": 26,
      "outputs": [
        {
          "output_type": "execute_result",
          "data": {
            "text/plain": [
              "()"
            ]
          },
          "metadata": {
            "tags": []
          },
          "execution_count": 26
        }
      ]
    },
    {
      "cell_type": "code",
      "metadata": {
        "id": "fSiSBWWdVXEs",
        "colab_type": "code",
        "colab": {
          "base_uri": "https://localhost:8080/",
          "height": 34
        },
        "outputId": "b81df40c-55c0-420c-aa22-c202399d4d24"
      },
      "source": [
        "# Check Type\n",
        "type(tuple_animals)"
      ],
      "execution_count": 27,
      "outputs": [
        {
          "output_type": "execute_result",
          "data": {
            "text/plain": [
              "tuple"
            ]
          },
          "metadata": {
            "tags": []
          },
          "execution_count": 27
        }
      ]
    },
    {
      "cell_type": "code",
      "metadata": {
        "id": "wDlZXYl9JEZ-",
        "colab_type": "code",
        "colab": {
          "base_uri": "https://localhost:8080/",
          "height": 34
        },
        "outputId": "41abe2d3-e88f-4497-e065-7f8ea15d9012"
      },
      "source": [
        "# Create Tuple\n",
        "tuple_animals = ('cat', 'lion', 'bear', 'dog', 'bird')\n",
        "tuple_animals"
      ],
      "execution_count": 28,
      "outputs": [
        {
          "output_type": "execute_result",
          "data": {
            "text/plain": [
              "('cat', 'lion', 'bear', 'dog', 'bird')"
            ]
          },
          "metadata": {
            "tags": []
          },
          "execution_count": 28
        }
      ]
    },
    {
      "cell_type": "code",
      "metadata": {
        "id": "S6hiKlhNJQtv",
        "colab_type": "code",
        "colab": {
          "base_uri": "https://localhost:8080/",
          "height": 34
        },
        "outputId": "9184bbe5-719e-499a-e5e1-a70ad06097b2"
      },
      "source": [
        "# Create Tuple\n",
        "tuple_animals1 = 'cat', 'lion', 'bear', 'dog', 'bird'\n",
        "tuple_animals1"
      ],
      "execution_count": 29,
      "outputs": [
        {
          "output_type": "execute_result",
          "data": {
            "text/plain": [
              "('cat', 'lion', 'bear', 'dog', 'bird')"
            ]
          },
          "metadata": {
            "tags": []
          },
          "execution_count": 29
        }
      ]
    },
    {
      "cell_type": "markdown",
      "metadata": {
        "id": "aO2eRakCgMsv",
        "colab_type": "text"
      },
      "source": [
        "Explore the tuple"
      ]
    },
    {
      "cell_type": "code",
      "metadata": {
        "id": "yV3DpcVdhN-p",
        "colab_type": "code",
        "colab": {
          "base_uri": "https://localhost:8080/",
          "height": 34
        },
        "outputId": "74e8aece-eee1-459b-e334-dc5af5392990"
      },
      "source": [
        "# Count an Item\n",
        "tuple_animals.count('cat')"
      ],
      "execution_count": 30,
      "outputs": [
        {
          "output_type": "execute_result",
          "data": {
            "text/plain": [
              "1"
            ]
          },
          "metadata": {
            "tags": []
          },
          "execution_count": 30
        }
      ]
    },
    {
      "cell_type": "code",
      "metadata": {
        "id": "4X0ttKK9gDfU",
        "colab_type": "code",
        "colab": {
          "base_uri": "https://localhost:8080/",
          "height": 34
        },
        "outputId": "2f872133-c998-4761-f65f-75d9a7283541"
      },
      "source": [
        "# Show the nth Item\n",
        "tuple_animals[1]"
      ],
      "execution_count": 31,
      "outputs": [
        {
          "output_type": "execute_result",
          "data": {
            "text/plain": [
              "'lion'"
            ]
          },
          "metadata": {
            "tags": []
          },
          "execution_count": 31
        }
      ]
    },
    {
      "cell_type": "code",
      "metadata": {
        "id": "drHbK23fgSYw",
        "colab_type": "code",
        "colab": {
          "base_uri": "https://localhost:8080/",
          "height": 34
        },
        "outputId": "790d2ec6-ec8c-42e2-96e8-bf90f38f201b"
      },
      "source": [
        "# Show range of Items\n",
        "tuple_animals[1:3]"
      ],
      "execution_count": 32,
      "outputs": [
        {
          "output_type": "execute_result",
          "data": {
            "text/plain": [
              "('lion', 'bear')"
            ]
          },
          "metadata": {
            "tags": []
          },
          "execution_count": 32
        }
      ]
    },
    {
      "cell_type": "code",
      "metadata": {
        "id": "2P_2qzHYg9L4",
        "colab_type": "code",
        "colab": {
          "base_uri": "https://localhost:8080/",
          "height": 34
        },
        "outputId": "969e6bc4-4f4a-4471-d69d-fd4cd3551319"
      },
      "source": [
        "# Show range of Items\n",
        "tuple_animals[:2]"
      ],
      "execution_count": 33,
      "outputs": [
        {
          "output_type": "execute_result",
          "data": {
            "text/plain": [
              "('cat', 'lion')"
            ]
          },
          "metadata": {
            "tags": []
          },
          "execution_count": 33
        }
      ]
    },
    {
      "cell_type": "code",
      "metadata": {
        "id": "KnPL1MCCh-PS",
        "colab_type": "code",
        "colab": {
          "base_uri": "https://localhost:8080/",
          "height": 34
        },
        "outputId": "274d56f1-2949-4e34-faf3-0a1bdc03aff6"
      },
      "source": [
        "# Sorts Items\n",
        "sorted(tuple_animals, reverse=False)"
      ],
      "execution_count": 34,
      "outputs": [
        {
          "output_type": "execute_result",
          "data": {
            "text/plain": [
              "['bear', 'bird', 'cat', 'dog', 'lion']"
            ]
          },
          "metadata": {
            "tags": []
          },
          "execution_count": 34
        }
      ]
    },
    {
      "cell_type": "code",
      "metadata": {
        "id": "gxSKnEfFienW",
        "colab_type": "code",
        "colab": {
          "base_uri": "https://localhost:8080/",
          "height": 34
        },
        "outputId": "ca8633df-2069-4ad9-ecff-184c8bc49417"
      },
      "source": [
        "# Sorts Items\n",
        "sorted(tuple_animals, reverse=True)"
      ],
      "execution_count": 35,
      "outputs": [
        {
          "output_type": "execute_result",
          "data": {
            "text/plain": [
              "['lion', 'dog', 'cat', 'bird', 'bear']"
            ]
          },
          "metadata": {
            "tags": []
          },
          "execution_count": 35
        }
      ]
    },
    {
      "cell_type": "markdown",
      "metadata": {
        "id": "7Ua5ImaHi6IN",
        "colab_type": "text"
      },
      "source": [
        "Convert tuple to the list"
      ]
    },
    {
      "cell_type": "code",
      "metadata": {
        "id": "-WIL7NxojAFz",
        "colab_type": "code",
        "colab": {
          "base_uri": "https://localhost:8080/",
          "height": 34
        },
        "outputId": "d0b1cd1c-3977-41d1-c1be-eab70b5840b7"
      },
      "source": [
        "list_animals = list(tuple_animals)\n",
        "list_animals"
      ],
      "execution_count": 36,
      "outputs": [
        {
          "output_type": "execute_result",
          "data": {
            "text/plain": [
              "['cat', 'lion', 'bear', 'dog', 'bird']"
            ]
          },
          "metadata": {
            "tags": []
          },
          "execution_count": 36
        }
      ]
    },
    {
      "cell_type": "markdown",
      "metadata": {
        "id": "7KLV7RiLfTjS",
        "colab_type": "text"
      },
      "source": [
        "### Sets\n",
        "Python also includes a data type for sets. A set is an unordered collection with no duplicate elements. Basic uses include membership testing and eliminating duplicate entries. Set objects also support mathematical operations like union, intersection, difference, and symmetric difference.\n",
        "Curly braces or the set() function can be used to create sets. Note: to create an empty set you have to use set(), not {}.\n",
        "No index in sets since the values are unordered."
      ]
    },
    {
      "cell_type": "markdown",
      "metadata": {
        "id": "LvxMFmF9THb8",
        "colab_type": "text"
      },
      "source": [
        "Create set"
      ]
    },
    {
      "cell_type": "code",
      "metadata": {
        "id": "PXwIY3KpTFVs",
        "colab_type": "code",
        "colab": {
          "base_uri": "https://localhost:8080/",
          "height": 34
        },
        "outputId": "aa7424be-89ca-4574-9068-1cbc014b54c0"
      },
      "source": [
        "# Create an Empty Set\n",
        "set_groceries_a = set()\n",
        "set_groceries_a"
      ],
      "execution_count": 37,
      "outputs": [
        {
          "output_type": "execute_result",
          "data": {
            "text/plain": [
              "set()"
            ]
          },
          "metadata": {
            "tags": []
          },
          "execution_count": 37
        }
      ]
    },
    {
      "cell_type": "code",
      "metadata": {
        "id": "z2Fi6b_9VGPZ",
        "colab_type": "code",
        "colab": {
          "base_uri": "https://localhost:8080/",
          "height": 34
        },
        "outputId": "fced606f-1ad5-4979-b579-8530bd23c4ff"
      },
      "source": [
        "# Check Type\n",
        "type(set_groceries_a)"
      ],
      "execution_count": 38,
      "outputs": [
        {
          "output_type": "execute_result",
          "data": {
            "text/plain": [
              "set"
            ]
          },
          "metadata": {
            "tags": []
          },
          "execution_count": 38
        }
      ]
    },
    {
      "cell_type": "code",
      "metadata": {
        "id": "0ZMELN5pfWqM",
        "colab_type": "code",
        "colab": {
          "base_uri": "https://localhost:8080/",
          "height": 34
        },
        "outputId": "77c4ebda-b81d-4473-ceb2-d6788a0337f7"
      },
      "source": [
        "# Create Set\n",
        "set_groceries_a = {'milk', 'diaper', 'parfume', 'noodle', 'bread', 'vegetable', 'milk', 'vegetable'}\n",
        "set_groceries_a"
      ],
      "execution_count": 39,
      "outputs": [
        {
          "output_type": "execute_result",
          "data": {
            "text/plain": [
              "{'bread', 'diaper', 'milk', 'noodle', 'parfume', 'vegetable'}"
            ]
          },
          "metadata": {
            "tags": []
          },
          "execution_count": 39
        }
      ]
    },
    {
      "cell_type": "code",
      "metadata": {
        "id": "z_gHbo14Vy_h",
        "colab_type": "code",
        "colab": {
          "base_uri": "https://localhost:8080/",
          "height": 34
        },
        "outputId": "7ffa754a-554a-4a2f-9eb4-15cebbd66be9"
      },
      "source": [
        "# Create Set\n",
        "set_groceries_b = {'milk', 'ball', 'towel', 'noodle', 'tea', 'vegetable'}\n",
        "set_groceries_b"
      ],
      "execution_count": 40,
      "outputs": [
        {
          "output_type": "execute_result",
          "data": {
            "text/plain": [
              "{'ball', 'milk', 'noodle', 'tea', 'towel', 'vegetable'}"
            ]
          },
          "metadata": {
            "tags": []
          },
          "execution_count": 40
        }
      ]
    },
    {
      "cell_type": "markdown",
      "metadata": {
        "id": "i9GA0bKHWqAA",
        "colab_type": "text"
      },
      "source": [
        "Add items to the set"
      ]
    },
    {
      "cell_type": "code",
      "metadata": {
        "id": "1NzFNF6FWxZv",
        "colab_type": "code",
        "colab": {
          "base_uri": "https://localhost:8080/",
          "height": 34
        },
        "outputId": "18f4b21e-0667-42a4-f630-68f1cd5b1960"
      },
      "source": [
        "# Add an Item\n",
        "set_groceries_a.add('sausage') \n",
        "set_groceries_a"
      ],
      "execution_count": 41,
      "outputs": [
        {
          "output_type": "execute_result",
          "data": {
            "text/plain": [
              "{'bread', 'diaper', 'milk', 'noodle', 'parfume', 'sausage', 'vegetable'}"
            ]
          },
          "metadata": {
            "tags": []
          },
          "execution_count": 41
        }
      ]
    },
    {
      "cell_type": "code",
      "metadata": {
        "id": "Q99VQCr9W-eW",
        "colab_type": "code",
        "colab": {
          "base_uri": "https://localhost:8080/",
          "height": 187
        },
        "outputId": "c5304519-b1ee-491c-ed67-88f606e56811"
      },
      "source": [
        "# Add Items\n",
        "set_groceries_a.update(['beef','cheese','tofu']) \n",
        "set_groceries_a"
      ],
      "execution_count": 42,
      "outputs": [
        {
          "output_type": "execute_result",
          "data": {
            "text/plain": [
              "{'beef',\n",
              " 'bread',\n",
              " 'cheese',\n",
              " 'diaper',\n",
              " 'milk',\n",
              " 'noodle',\n",
              " 'parfume',\n",
              " 'sausage',\n",
              " 'tofu',\n",
              " 'vegetable'}"
            ]
          },
          "metadata": {
            "tags": []
          },
          "execution_count": 42
        }
      ]
    },
    {
      "cell_type": "markdown",
      "metadata": {
        "id": "GvGMXJIeV9Kk",
        "colab_type": "text"
      },
      "source": [
        "Explore the set"
      ]
    },
    {
      "cell_type": "code",
      "metadata": {
        "id": "wQb6q4qsWDgm",
        "colab_type": "code",
        "colab": {
          "base_uri": "https://localhost:8080/",
          "height": 34
        },
        "outputId": "59fe2eae-3f3d-41e7-ad89-19eb3ee0748f"
      },
      "source": [
        "# Search for Item Availability\n",
        "'milk' in set_groceries_a"
      ],
      "execution_count": 43,
      "outputs": [
        {
          "output_type": "execute_result",
          "data": {
            "text/plain": [
              "True"
            ]
          },
          "metadata": {
            "tags": []
          },
          "execution_count": 43
        }
      ]
    },
    {
      "cell_type": "code",
      "metadata": {
        "id": "uRoQVQRSfi6l",
        "colab_type": "code",
        "colab": {
          "base_uri": "https://localhost:8080/",
          "height": 238
        },
        "outputId": "e4f557f0-7ccc-400f-fc98-1a963dc6ae14"
      },
      "source": [
        "# Show Union (items in a or b or both)\n",
        "set_groceries_a | set_groceries_b"
      ],
      "execution_count": 44,
      "outputs": [
        {
          "output_type": "execute_result",
          "data": {
            "text/plain": [
              "{'ball',\n",
              " 'beef',\n",
              " 'bread',\n",
              " 'cheese',\n",
              " 'diaper',\n",
              " 'milk',\n",
              " 'noodle',\n",
              " 'parfume',\n",
              " 'sausage',\n",
              " 'tea',\n",
              " 'tofu',\n",
              " 'towel',\n",
              " 'vegetable'}"
            ]
          },
          "metadata": {
            "tags": []
          },
          "execution_count": 44
        }
      ]
    },
    {
      "cell_type": "code",
      "metadata": {
        "id": "cPduNQ4RY3uG",
        "colab_type": "code",
        "colab": {}
      },
      "source": [
        "# Show Intersection (items in both a and b)\n",
        "set_groceries_a & set_groceries_b"
      ],
      "execution_count": 0,
      "outputs": []
    },
    {
      "cell_type": "code",
      "metadata": {
        "id": "JPdy6kLjZJGW",
        "colab_type": "code",
        "colab": {}
      },
      "source": [
        "# Show Symetric Difference (items in a or b but not both)\n",
        "set_groceries_a ^ set_groceries_b"
      ],
      "execution_count": 0,
      "outputs": []
    },
    {
      "cell_type": "code",
      "metadata": {
        "id": "0nUVV3jiZejG",
        "colab_type": "code",
        "colab": {}
      },
      "source": [
        "# Show Difference (items in a but not in b)\n",
        "set_groceries_a - set_groceries_b"
      ],
      "execution_count": 0,
      "outputs": []
    },
    {
      "cell_type": "markdown",
      "metadata": {
        "id": "ldNquadUXdpa",
        "colab_type": "text"
      },
      "source": [
        "Remove items from the set"
      ]
    },
    {
      "cell_type": "code",
      "metadata": {
        "id": "Q7QmaYxiXgDj",
        "colab_type": "code",
        "colab": {}
      },
      "source": [
        "# Remove an Item\n",
        "set_groceries_a.remove('sausage') \n",
        "set_groceries_a"
      ],
      "execution_count": 0,
      "outputs": []
    },
    {
      "cell_type": "markdown",
      "metadata": {
        "id": "P9PqUTfkbgdw",
        "colab_type": "text"
      },
      "source": [
        "The frozenset() is an inbuilt function is Python which takes an iterable object as input and makes them immutable. Simply it freezes the iterable objects and makes them unchangeable."
      ]
    },
    {
      "cell_type": "code",
      "metadata": {
        "id": "VcwE68DCbfp-",
        "colab_type": "code",
        "colab": {}
      },
      "source": [
        "# Create Frozenset\n",
        "frzset_groceries_a = frozenset(set_groceries_a)\n",
        "frzset_groceries_a"
      ],
      "execution_count": 0,
      "outputs": []
    },
    {
      "cell_type": "markdown",
      "metadata": {
        "id": "BZimBACWZ3QH",
        "colab_type": "text"
      },
      "source": [
        "Remove set"
      ]
    },
    {
      "cell_type": "code",
      "metadata": {
        "id": "oziZ0uWwZwSL",
        "colab_type": "code",
        "colab": {}
      },
      "source": [
        "# Remove Set\n",
        "set_groceries_b.clear()\n",
        "set_groceries_b"
      ],
      "execution_count": 0,
      "outputs": []
    },
    {
      "cell_type": "markdown",
      "metadata": {
        "id": "0l7MW6NNaFQp",
        "colab_type": "text"
      },
      "source": [
        "### Dictionary\n",
        "Dictionaries are sometimes found in other languages as “associative memories”.\n",
        "Unlike list and tuples, which are indexed by a range of numbers, dictionaries are indexed by keys. Keys can be any immutable type.\n",
        "The immutable frozenset and tuple can be used as keys. A mutable object cannot be used as a key. \n",
        "Another requirement is that the keys are unique (within one dictionary).\n",
        "A pair of braces creates an empty dictionary {}"
      ]
    },
    {
      "cell_type": "markdown",
      "metadata": {
        "id": "qCTzyK6BcwC1",
        "colab_type": "text"
      },
      "source": [
        "Create dictionary"
      ]
    },
    {
      "cell_type": "code",
      "metadata": {
        "id": "GisflQsMcx_B",
        "colab_type": "code",
        "colab": {}
      },
      "source": [
        "# Create an Empty Dictionary\n",
        "dict_colors = {}"
      ],
      "execution_count": 0,
      "outputs": []
    },
    {
      "cell_type": "code",
      "metadata": {
        "id": "ywcpVSSGafQJ",
        "colab_type": "code",
        "colab": {
          "base_uri": "https://localhost:8080/",
          "height": 34
        },
        "outputId": "866a04d4-1666-4906-e459-1040424d56d2"
      },
      "source": [
        "# Create Dictionary\n",
        "dict_colors = {'apple':'red',\n",
        "               'blueberry':'blue',\n",
        "               'avocado':'green',\n",
        "               'banana':'yellow'}\n",
        "dict_colors"
      ],
      "execution_count": 46,
      "outputs": [
        {
          "output_type": "execute_result",
          "data": {
            "text/plain": [
              "{'apple': 'red', 'avocado': 'green', 'banana': 'yellow', 'blueberry': 'blue'}"
            ]
          },
          "metadata": {
            "tags": []
          },
          "execution_count": 46
        }
      ]
    },
    {
      "cell_type": "code",
      "metadata": {
        "id": "7T96ut7sdKnH",
        "colab_type": "code",
        "colab": {
          "base_uri": "https://localhost:8080/",
          "height": 34
        },
        "outputId": "7c034a57-eb54-45c5-d1ee-fe5248543869"
      },
      "source": [
        "# Show Access Key\n",
        "dict_colors.keys()"
      ],
      "execution_count": 47,
      "outputs": [
        {
          "output_type": "execute_result",
          "data": {
            "text/plain": [
              "dict_keys(['apple', 'blueberry', 'avocado', 'banana'])"
            ]
          },
          "metadata": {
            "tags": []
          },
          "execution_count": 47
        }
      ]
    },
    {
      "cell_type": "markdown",
      "metadata": {
        "id": "Pnbaup68pdUc",
        "colab_type": "text"
      },
      "source": [
        "Use the dictionary"
      ]
    },
    {
      "cell_type": "code",
      "metadata": {
        "id": "FP36DZ6rpa9b",
        "colab_type": "code",
        "colab": {
          "base_uri": "https://localhost:8080/",
          "height": 34
        },
        "outputId": "bc099e10-9dbe-420b-86a4-6723b11c2f3a"
      },
      "source": [
        "# Show the Value from a Key\n",
        "print(dict_colors.get('avocado'))"
      ],
      "execution_count": 48,
      "outputs": [
        {
          "output_type": "stream",
          "text": [
            "green\n"
          ],
          "name": "stdout"
        }
      ]
    },
    {
      "cell_type": "code",
      "metadata": {
        "id": "lxwLQ598odsF",
        "colab_type": "code",
        "colab": {
          "base_uri": "https://localhost:8080/",
          "height": 34
        },
        "outputId": "63d40a91-c216-4cf9-99c7-52b2d1728ae4"
      },
      "source": [
        "# Show the Value from a Key\n",
        "print('The color of an avocado is %s' % dict_colors['avocado'])"
      ],
      "execution_count": 49,
      "outputs": [
        {
          "output_type": "stream",
          "text": [
            "The color of an avocado is green\n"
          ],
          "name": "stdout"
        }
      ]
    },
    {
      "cell_type": "code",
      "metadata": {
        "id": "HDOluaxap-t8",
        "colab_type": "code",
        "colab": {
          "base_uri": "https://localhost:8080/",
          "height": 85
        },
        "outputId": "33d391c9-d347-420e-f676-5c1cc9cb89ef"
      },
      "source": [
        "# Show the Values from All Keys\n",
        "for key, val in dict_colors.items():\n",
        "    print(\"%s : %s\" % (key, val))"
      ],
      "execution_count": 50,
      "outputs": [
        {
          "output_type": "stream",
          "text": [
            "apple : red\n",
            "blueberry : blue\n",
            "avocado : green\n",
            "banana : yellow\n"
          ],
          "name": "stdout"
        }
      ]
    },
    {
      "cell_type": "markdown",
      "metadata": {
        "id": "8Hmw5AZ-2SX4",
        "colab_type": "text"
      },
      "source": [
        "##NumPy\n",
        "NumPy is a basic package for scientific computing with Python and especially for data analysis. NumPy is a library for the Python programming language, adding support for large, multi-dimensional arrays and matrices, along with a large collection of high-level mathematical functions to operate on these arrays. "
      ]
    },
    {
      "cell_type": "markdown",
      "metadata": {
        "id": "gErXn3yOwUoW",
        "colab_type": "text"
      },
      "source": [
        "Install and import library"
      ]
    },
    {
      "cell_type": "code",
      "metadata": {
        "id": "b8IAagqk2GKZ",
        "colab_type": "code",
        "colab": {}
      },
      "source": [
        "# Install library\n",
        "!pip install numpy"
      ],
      "execution_count": 0,
      "outputs": []
    },
    {
      "cell_type": "code",
      "metadata": {
        "id": "5aIZ92SO2Bvs",
        "colab_type": "code",
        "colab": {}
      },
      "source": [
        "# Import library\n",
        "import numpy as np"
      ],
      "execution_count": 0,
      "outputs": []
    },
    {
      "cell_type": "markdown",
      "metadata": {
        "id": "6x6cUi9s31YG",
        "colab_type": "text"
      },
      "source": [
        "### Array\n",
        "An array is a special variable, which can hold more than one value at a time. Arrays are used to store multiple values in one single variable\n"
      ]
    },
    {
      "cell_type": "markdown",
      "metadata": {
        "id": "0hjhK9ADwbzh",
        "colab_type": "text"
      },
      "source": [
        "Create array"
      ]
    },
    {
      "cell_type": "code",
      "metadata": {
        "id": "1S_SOmVSvCX3",
        "colab_type": "code",
        "colab": {
          "base_uri": "https://localhost:8080/",
          "height": 34
        },
        "outputId": "b66978e3-b1dc-4ff8-81c5-760a34caea3b"
      },
      "source": [
        "# Create an Array\n",
        "array = np.array([1,2,3,4,5,6,7,8,9])\n",
        "array"
      ],
      "execution_count": 52,
      "outputs": [
        {
          "output_type": "execute_result",
          "data": {
            "text/plain": [
              "array([1, 2, 3, 4, 5, 6, 7, 8, 9])"
            ]
          },
          "metadata": {
            "tags": []
          },
          "execution_count": 52
        }
      ]
    },
    {
      "cell_type": "code",
      "metadata": {
        "id": "TyLLdX0f2x_o",
        "colab_type": "code",
        "colab": {
          "base_uri": "https://localhost:8080/",
          "height": 68
        },
        "outputId": "b1953b2a-849c-4100-8a90-5fb0176b4838"
      },
      "source": [
        "# Create an Array with Shape\n",
        "array_a = np.array([1,2,3,4,5,6,7,8,9]).reshape((3,3))\n",
        "array_a"
      ],
      "execution_count": 53,
      "outputs": [
        {
          "output_type": "execute_result",
          "data": {
            "text/plain": [
              "array([[1, 2, 3],\n",
              "       [4, 5, 6],\n",
              "       [7, 8, 9]])"
            ]
          },
          "metadata": {
            "tags": []
          },
          "execution_count": 53
        }
      ]
    },
    {
      "cell_type": "code",
      "metadata": {
        "id": "3jFy2w6Gm4mD",
        "colab_type": "code",
        "colab": {
          "base_uri": "https://localhost:8080/",
          "height": 68
        },
        "outputId": "36414501-0099-4d18-fe73-2e44a0faf8bd"
      },
      "source": [
        "# Create an Array based on Other Array\n",
        "array_b = array_a + 6\n",
        "array_b"
      ],
      "execution_count": 54,
      "outputs": [
        {
          "output_type": "execute_result",
          "data": {
            "text/plain": [
              "array([[ 7,  8,  9],\n",
              "       [10, 11, 12],\n",
              "       [13, 14, 15]])"
            ]
          },
          "metadata": {
            "tags": []
          },
          "execution_count": 54
        }
      ]
    },
    {
      "cell_type": "code",
      "metadata": {
        "id": "JKaBngZvE9r-",
        "colab_type": "code",
        "colab": {
          "base_uri": "https://localhost:8080/",
          "height": 68
        },
        "outputId": "fc48f35c-a687-49e8-e198-24c40017020a"
      },
      "source": [
        "# Concat Array a and Array b (Horizontally)\n",
        "np.concatenate([array_a,array_b],axis=1)"
      ],
      "execution_count": 55,
      "outputs": [
        {
          "output_type": "execute_result",
          "data": {
            "text/plain": [
              "array([[ 1,  2,  3,  7,  8,  9],\n",
              "       [ 4,  5,  6, 10, 11, 12],\n",
              "       [ 7,  8,  9, 13, 14, 15]])"
            ]
          },
          "metadata": {
            "tags": []
          },
          "execution_count": 55
        }
      ]
    },
    {
      "cell_type": "code",
      "metadata": {
        "id": "sT_DEtCfisaB",
        "colab_type": "code",
        "colab": {
          "base_uri": "https://localhost:8080/",
          "height": 119
        },
        "outputId": "d870177c-c197-4e7a-e458-73d03ac03cfd"
      },
      "source": [
        "# Concat Array a and Array b (Vertically)\n",
        "np.concatenate([array_a,array_b],axis=0)"
      ],
      "execution_count": 56,
      "outputs": [
        {
          "output_type": "execute_result",
          "data": {
            "text/plain": [
              "array([[ 1,  2,  3],\n",
              "       [ 4,  5,  6],\n",
              "       [ 7,  8,  9],\n",
              "       [ 7,  8,  9],\n",
              "       [10, 11, 12],\n",
              "       [13, 14, 15]])"
            ]
          },
          "metadata": {
            "tags": []
          },
          "execution_count": 56
        }
      ]
    },
    {
      "cell_type": "markdown",
      "metadata": {
        "id": "SCIPyEZKkmFP",
        "colab_type": "text"
      },
      "source": [
        "Explore the array"
      ]
    },
    {
      "cell_type": "code",
      "metadata": {
        "id": "TJQRB4gsmw38",
        "colab_type": "code",
        "colab": {
          "base_uri": "https://localhost:8080/",
          "height": 34
        },
        "outputId": "c8fa7a06-16c1-4e91-cb32-e74a8b506b53"
      },
      "source": [
        "# Show the nth Row Index and nth Coulmn Index of an Array\n",
        "array_a[0,1]"
      ],
      "execution_count": 57,
      "outputs": [
        {
          "output_type": "execute_result",
          "data": {
            "text/plain": [
              "2"
            ]
          },
          "metadata": {
            "tags": []
          },
          "execution_count": 57
        }
      ]
    },
    {
      "cell_type": "code",
      "metadata": {
        "id": "RsoZeZeJth3N",
        "colab_type": "code",
        "colab": {
          "base_uri": "https://localhost:8080/",
          "height": 34
        },
        "outputId": "fdfc7891-f583-405c-ffe8-3b7dee6d1041"
      },
      "source": [
        "# Show the nth Row Index of an Array\n",
        "array_a[0,:]"
      ],
      "execution_count": 58,
      "outputs": [
        {
          "output_type": "execute_result",
          "data": {
            "text/plain": [
              "array([1, 2, 3])"
            ]
          },
          "metadata": {
            "tags": []
          },
          "execution_count": 58
        }
      ]
    },
    {
      "cell_type": "code",
      "metadata": {
        "id": "nj5YWur30Je1",
        "colab_type": "code",
        "colab": {
          "base_uri": "https://localhost:8080/",
          "height": 34
        },
        "outputId": "de2695ea-9e1d-4d38-a590-a824a5afe8c6"
      },
      "source": [
        "# Show the nth Column Index of an Array\n",
        "array_a[:,1]"
      ],
      "execution_count": 59,
      "outputs": [
        {
          "output_type": "execute_result",
          "data": {
            "text/plain": [
              "array([2, 5, 8])"
            ]
          },
          "metadata": {
            "tags": []
          },
          "execution_count": 59
        }
      ]
    },
    {
      "cell_type": "markdown",
      "metadata": {
        "id": "86dbPcF20p2C",
        "colab_type": "text"
      },
      "source": [
        "Assign value"
      ]
    },
    {
      "cell_type": "code",
      "metadata": {
        "id": "5GUMFlqp0sT4",
        "colab_type": "code",
        "colab": {
          "base_uri": "https://localhost:8080/",
          "height": 68
        },
        "outputId": "defc943c-34e9-454e-8bc4-efe69c23492a"
      },
      "source": [
        "# Assign Value to the nth Row Index of an Array\n",
        "array_a[0,:] = 5\n",
        "array_a"
      ],
      "execution_count": 60,
      "outputs": [
        {
          "output_type": "execute_result",
          "data": {
            "text/plain": [
              "array([[5, 5, 5],\n",
              "       [4, 5, 6],\n",
              "       [7, 8, 9]])"
            ]
          },
          "metadata": {
            "tags": []
          },
          "execution_count": 60
        }
      ]
    },
    {
      "cell_type": "markdown",
      "metadata": {
        "id": "X5wC5gTanKVm",
        "colab_type": "text"
      },
      "source": [
        "Basic operation"
      ]
    },
    {
      "cell_type": "code",
      "metadata": {
        "id": "G5qWOy9fFIPV",
        "colab_type": "code",
        "colab": {
          "base_uri": "https://localhost:8080/",
          "height": 68
        },
        "outputId": "8378306e-b097-4c26-d549-37ad7acab788"
      },
      "source": [
        "# Summation\n",
        "array_a + array_b"
      ],
      "execution_count": 61,
      "outputs": [
        {
          "output_type": "execute_result",
          "data": {
            "text/plain": [
              "array([[12, 13, 14],\n",
              "       [14, 16, 18],\n",
              "       [20, 22, 24]])"
            ]
          },
          "metadata": {
            "tags": []
          },
          "execution_count": 61
        }
      ]
    },
    {
      "cell_type": "code",
      "metadata": {
        "id": "_JhGTqwJ2s8-",
        "colab_type": "code",
        "colab": {
          "base_uri": "https://localhost:8080/",
          "height": 68
        },
        "outputId": "4509f784-73ad-4c45-f66e-95a11ef23bd6"
      },
      "source": [
        "# Multiplication\n",
        "array_a * 2"
      ],
      "execution_count": 62,
      "outputs": [
        {
          "output_type": "execute_result",
          "data": {
            "text/plain": [
              "array([[10, 10, 10],\n",
              "       [ 8, 10, 12],\n",
              "       [14, 16, 18]])"
            ]
          },
          "metadata": {
            "tags": []
          },
          "execution_count": 62
        }
      ]
    },
    {
      "cell_type": "code",
      "metadata": {
        "id": "EqSHeTKR1DhW",
        "colab_type": "code",
        "colab": {
          "base_uri": "https://localhost:8080/",
          "height": 68
        },
        "outputId": "e7009017-5a0f-4e06-f0c1-6743c63e22e3"
      },
      "source": [
        "# Multiplication\n",
        "array_a * array_b"
      ],
      "execution_count": 63,
      "outputs": [
        {
          "output_type": "execute_result",
          "data": {
            "text/plain": [
              "array([[ 35,  40,  45],\n",
              "       [ 40,  55,  72],\n",
              "       [ 91, 112, 135]])"
            ]
          },
          "metadata": {
            "tags": []
          },
          "execution_count": 63
        }
      ]
    },
    {
      "cell_type": "code",
      "metadata": {
        "id": "0c1fxQBDnriZ",
        "colab_type": "code",
        "colab": {
          "base_uri": "https://localhost:8080/",
          "height": 34
        },
        "outputId": "80de759a-e01a-4541-c397-5b72d644db63"
      },
      "source": [
        "# Sum All Values in an Array\n",
        "array_a.sum()"
      ],
      "execution_count": 64,
      "outputs": [
        {
          "output_type": "execute_result",
          "data": {
            "text/plain": [
              "54"
            ]
          },
          "metadata": {
            "tags": []
          },
          "execution_count": 64
        }
      ]
    },
    {
      "cell_type": "code",
      "metadata": {
        "id": "nG4dE-u_GBQP",
        "colab_type": "code",
        "colab": {
          "base_uri": "https://localhost:8080/",
          "height": 68
        },
        "outputId": "3853250b-80cf-4291-ee40-6f990a13c2e9"
      },
      "source": [
        "# Log\n",
        "np.log(array_a)"
      ],
      "execution_count": 65,
      "outputs": [
        {
          "output_type": "execute_result",
          "data": {
            "text/plain": [
              "array([[1.60943791, 1.60943791, 1.60943791],\n",
              "       [1.38629436, 1.60943791, 1.79175947],\n",
              "       [1.94591015, 2.07944154, 2.19722458]])"
            ]
          },
          "metadata": {
            "tags": []
          },
          "execution_count": 65
        }
      ]
    },
    {
      "cell_type": "markdown",
      "metadata": {
        "id": "VtdLhjBNvkiE",
        "colab_type": "text"
      },
      "source": [
        "### Matrix"
      ]
    },
    {
      "cell_type": "markdown",
      "metadata": {
        "id": "E1NZFCzsvwYL",
        "colab_type": "text"
      },
      "source": [
        "Create matrix"
      ]
    },
    {
      "cell_type": "code",
      "metadata": {
        "id": "fdR85Mc8vxpD",
        "colab_type": "code",
        "colab": {
          "base_uri": "https://localhost:8080/",
          "height": 68
        },
        "outputId": "82a2a115-bd95-4dbf-f278-b78a0d15439e"
      },
      "source": [
        "# Create Matrix\n",
        "matrix_a = np.matrix([1,2,3,4,5,6,7,8,9]).reshape((3,3))\n",
        "matrix_a"
      ],
      "execution_count": 66,
      "outputs": [
        {
          "output_type": "execute_result",
          "data": {
            "text/plain": [
              "matrix([[1, 2, 3],\n",
              "        [4, 5, 6],\n",
              "        [7, 8, 9]])"
            ]
          },
          "metadata": {
            "tags": []
          },
          "execution_count": 66
        }
      ]
    },
    {
      "cell_type": "code",
      "metadata": {
        "id": "d7wqzPsDv7y4",
        "colab_type": "code",
        "colab": {
          "base_uri": "https://localhost:8080/",
          "height": 68
        },
        "outputId": "e2970cfb-7c3d-4b3f-fcc9-09c8e6111efb"
      },
      "source": [
        "# Create a Matrix based on Other Matrix\n",
        "matrix_b = matrix_a + 6\n",
        "matrix_b"
      ],
      "execution_count": 67,
      "outputs": [
        {
          "output_type": "execute_result",
          "data": {
            "text/plain": [
              "matrix([[ 7,  8,  9],\n",
              "        [10, 11, 12],\n",
              "        [13, 14, 15]])"
            ]
          },
          "metadata": {
            "tags": []
          },
          "execution_count": 67
        }
      ]
    },
    {
      "cell_type": "markdown",
      "metadata": {
        "id": "KNps7sJSwJIX",
        "colab_type": "text"
      },
      "source": [
        "Basic operation"
      ]
    },
    {
      "cell_type": "code",
      "metadata": {
        "id": "SDkySUAfwKc0",
        "colab_type": "code",
        "colab": {
          "base_uri": "https://localhost:8080/",
          "height": 68
        },
        "outputId": "554cbfb6-f581-48b1-e7e3-8c05c9464349"
      },
      "source": [
        "# Summation\n",
        "matrix_a + matrix_b"
      ],
      "execution_count": 68,
      "outputs": [
        {
          "output_type": "execute_result",
          "data": {
            "text/plain": [
              "matrix([[ 8, 10, 12],\n",
              "        [14, 16, 18],\n",
              "        [20, 22, 24]])"
            ]
          },
          "metadata": {
            "tags": []
          },
          "execution_count": 68
        }
      ]
    },
    {
      "cell_type": "code",
      "metadata": {
        "id": "ygx9_2UiwMmM",
        "colab_type": "code",
        "colab": {
          "base_uri": "https://localhost:8080/",
          "height": 68
        },
        "outputId": "e37c744a-216c-4cc1-b382-e5669d0bb28e"
      },
      "source": [
        "# Multiplication\n",
        "matrix_a * matrix_b"
      ],
      "execution_count": 69,
      "outputs": [
        {
          "output_type": "execute_result",
          "data": {
            "text/plain": [
              "matrix([[ 66,  72,  78],\n",
              "        [156, 171, 186],\n",
              "        [246, 270, 294]])"
            ]
          },
          "metadata": {
            "tags": []
          },
          "execution_count": 69
        }
      ]
    },
    {
      "cell_type": "markdown",
      "metadata": {
        "id": "pRrAKp32CzHh",
        "colab_type": "text"
      },
      "source": [
        "## Pandas\n",
        "Pandas is a software library written for the Python programming language for data manipulation and analysis. We can analyze data in pandas with Series and DataFrames."
      ]
    },
    {
      "cell_type": "markdown",
      "metadata": {
        "id": "K8pfuf06wwJ1",
        "colab_type": "text"
      },
      "source": [
        "Import library"
      ]
    },
    {
      "cell_type": "code",
      "metadata": {
        "id": "bJlUlFLqDncg",
        "colab_type": "code",
        "colab": {}
      },
      "source": [
        "# Import Library\n",
        "import pandas as pd"
      ],
      "execution_count": 0,
      "outputs": []
    },
    {
      "cell_type": "markdown",
      "metadata": {
        "id": "yVfgpESjttW_",
        "colab_type": "text"
      },
      "source": [
        "### Series"
      ]
    },
    {
      "cell_type": "markdown",
      "metadata": {
        "id": "HYx4c8POHXbg",
        "colab_type": "text"
      },
      "source": [
        "Series is one dimensional(1-D) array defined in pandas that can be used to store any data type."
      ]
    },
    {
      "cell_type": "markdown",
      "metadata": {
        "id": "pQo2RRP3w488",
        "colab_type": "text"
      },
      "source": [
        "Create series"
      ]
    },
    {
      "cell_type": "code",
      "metadata": {
        "id": "7VVegnB_DGVq",
        "colab_type": "code",
        "colab": {
          "base_uri": "https://localhost:8080/",
          "height": 102
        },
        "outputId": "18910e4d-49cd-43e2-ed45-2c2d5b49b0d9"
      },
      "source": [
        "# Create a Series\n",
        "series_a = pd.Series([12,-4,7,9])\n",
        "series_a"
      ],
      "execution_count": 71,
      "outputs": [
        {
          "output_type": "execute_result",
          "data": {
            "text/plain": [
              "0    12\n",
              "1    -4\n",
              "2     7\n",
              "3     9\n",
              "dtype: int64"
            ]
          },
          "metadata": {
            "tags": []
          },
          "execution_count": 71
        }
      ]
    },
    {
      "cell_type": "code",
      "metadata": {
        "id": "oLHYrNBkCyth",
        "colab_type": "code",
        "colab": {
          "base_uri": "https://localhost:8080/",
          "height": 170
        },
        "outputId": "c143b4bf-804c-4479-e775-8cbbab7435b8"
      },
      "source": [
        "# Create a Series with Index\n",
        "series_a = pd.Series([12,-4,7,9,8,8,7,9], index=['a','b','c','d','e','f','g','h'])\n",
        "series_a"
      ],
      "execution_count": 72,
      "outputs": [
        {
          "output_type": "execute_result",
          "data": {
            "text/plain": [
              "a    12\n",
              "b    -4\n",
              "c     7\n",
              "d     9\n",
              "e     8\n",
              "f     8\n",
              "g     7\n",
              "h     9\n",
              "dtype: int64"
            ]
          },
          "metadata": {
            "tags": []
          },
          "execution_count": 72
        }
      ]
    },
    {
      "cell_type": "markdown",
      "metadata": {
        "id": "xQqTLRsDw8aU",
        "colab_type": "text"
      },
      "source": [
        "Explore the series"
      ]
    },
    {
      "cell_type": "code",
      "metadata": {
        "id": "dVFE0rAlDDP0",
        "colab_type": "code",
        "colab": {
          "base_uri": "https://localhost:8080/",
          "height": 34
        },
        "outputId": "837d7a0a-6a02-4b13-de2a-496b9b2e1ac2"
      },
      "source": [
        "# Show the nth Value of a Series\n",
        "series_a[2]"
      ],
      "execution_count": 73,
      "outputs": [
        {
          "output_type": "execute_result",
          "data": {
            "text/plain": [
              "7"
            ]
          },
          "metadata": {
            "tags": []
          },
          "execution_count": 73
        }
      ]
    },
    {
      "cell_type": "code",
      "metadata": {
        "id": "0EqVX3QjD7lw",
        "colab_type": "code",
        "colab": {
          "base_uri": "https://localhost:8080/",
          "height": 34
        },
        "outputId": "d88395b9-fbe2-4fc5-8b44-a9896ceece33"
      },
      "source": [
        "# Show the Value of a Series based on Index\n",
        "series_a['a']"
      ],
      "execution_count": 74,
      "outputs": [
        {
          "output_type": "execute_result",
          "data": {
            "text/plain": [
              "12"
            ]
          },
          "metadata": {
            "tags": []
          },
          "execution_count": 74
        }
      ]
    },
    {
      "cell_type": "code",
      "metadata": {
        "id": "2O9dXxYyEBi-",
        "colab_type": "code",
        "colab": {
          "base_uri": "https://localhost:8080/",
          "height": 170
        },
        "outputId": "00050640-2709-4902-9919-5e345ddfecca"
      },
      "source": [
        "# Set the nth Values of a Series\n",
        "series_a[1] = 0\n",
        "series_a"
      ],
      "execution_count": 75,
      "outputs": [
        {
          "output_type": "execute_result",
          "data": {
            "text/plain": [
              "a    12\n",
              "b     0\n",
              "c     7\n",
              "d     9\n",
              "e     8\n",
              "f     8\n",
              "g     7\n",
              "h     9\n",
              "dtype: int64"
            ]
          },
          "metadata": {
            "tags": []
          },
          "execution_count": 75
        }
      ]
    },
    {
      "cell_type": "code",
      "metadata": {
        "id": "vV-CwpJrEPnP",
        "colab_type": "code",
        "colab": {
          "base_uri": "https://localhost:8080/",
          "height": 85
        },
        "outputId": "029bcf58-a304-4ba8-bd35-8bf9a28cfd84"
      },
      "source": [
        "# Filtering Values\n",
        "series_a[series_a > 8]"
      ],
      "execution_count": 76,
      "outputs": [
        {
          "output_type": "execute_result",
          "data": {
            "text/plain": [
              "a    12\n",
              "d     9\n",
              "h     9\n",
              "dtype: int64"
            ]
          },
          "metadata": {
            "tags": []
          },
          "execution_count": 76
        }
      ]
    },
    {
      "cell_type": "code",
      "metadata": {
        "id": "Dz-aeZ25EaxT",
        "colab_type": "code",
        "colab": {
          "base_uri": "https://localhost:8080/",
          "height": 170
        },
        "outputId": "8c11d1d0-26c2-4896-b813-a24a560c1dbb"
      },
      "source": [
        "# Operations and Mathematical Functions\n",
        "series_a + 2"
      ],
      "execution_count": 77,
      "outputs": [
        {
          "output_type": "execute_result",
          "data": {
            "text/plain": [
              "a    14\n",
              "b     2\n",
              "c     9\n",
              "d    11\n",
              "e    10\n",
              "f    10\n",
              "g     9\n",
              "h    11\n",
              "dtype: int64"
            ]
          },
          "metadata": {
            "tags": []
          },
          "execution_count": 77
        }
      ]
    },
    {
      "cell_type": "code",
      "metadata": {
        "id": "9KP5dMJitQ8o",
        "colab_type": "code",
        "colab": {
          "base_uri": "https://localhost:8080/",
          "height": 34
        },
        "outputId": "ba3ac0a0-409b-4fcf-9f07-35ff68791cd1"
      },
      "source": [
        "# Show Unique Value\n",
        "series_a.unique()"
      ],
      "execution_count": 78,
      "outputs": [
        {
          "output_type": "execute_result",
          "data": {
            "text/plain": [
              "array([12,  0,  7,  9,  8])"
            ]
          },
          "metadata": {
            "tags": []
          },
          "execution_count": 78
        }
      ]
    },
    {
      "cell_type": "code",
      "metadata": {
        "id": "phB9M_bkuGSj",
        "colab_type": "code",
        "colab": {
          "base_uri": "https://localhost:8080/",
          "height": 119
        },
        "outputId": "140d455b-ba51-4cb3-bf2f-7c9687e78d0f"
      },
      "source": [
        "# Count Each Value\n",
        "series_a.value_counts()"
      ],
      "execution_count": 79,
      "outputs": [
        {
          "output_type": "execute_result",
          "data": {
            "text/plain": [
              "7     2\n",
              "8     2\n",
              "9     2\n",
              "12    1\n",
              "0     1\n",
              "dtype: int64"
            ]
          },
          "metadata": {
            "tags": []
          },
          "execution_count": 79
        }
      ]
    },
    {
      "cell_type": "markdown",
      "metadata": {
        "id": "8asRuM8MMOUp",
        "colab_type": "text"
      },
      "source": [
        "### DataFrame\n",
        "The DataFrame is a tabular data structure very similar to the Spreadsheet (the most familiar are Excel\n",
        "spreadsheets). This data structure is designed to extend the case of the Series to multiple dimensions."
      ]
    },
    {
      "cell_type": "markdown",
      "metadata": {
        "id": "inwfERx1vRQl",
        "colab_type": "text"
      },
      "source": [
        "Create Data Frame"
      ]
    },
    {
      "cell_type": "code",
      "metadata": {
        "id": "rd-hKUiHL6DQ",
        "colab_type": "code",
        "colab": {
          "base_uri": "https://localhost:8080/",
          "height": 204
        },
        "outputId": "c5c4d2c2-e8e6-4c10-b18d-87fcac17054f"
      },
      "source": [
        "# Create Data Frame\n",
        "data = {'color' : ['blue','green','yellow','red','white'],\n",
        "        'object' : ['ball','pen','pencil','paper','mug'],\n",
        "        'price' : [1.2,1.0,0.6,0.9,1.7]}\n",
        "df_stationary_a = pd.DataFrame(data)\n",
        "df_stationary_a"
      ],
      "execution_count": 80,
      "outputs": [
        {
          "output_type": "execute_result",
          "data": {
            "text/html": [
              "<div>\n",
              "<style scoped>\n",
              "    .dataframe tbody tr th:only-of-type {\n",
              "        vertical-align: middle;\n",
              "    }\n",
              "\n",
              "    .dataframe tbody tr th {\n",
              "        vertical-align: top;\n",
              "    }\n",
              "\n",
              "    .dataframe thead th {\n",
              "        text-align: right;\n",
              "    }\n",
              "</style>\n",
              "<table border=\"1\" class=\"dataframe\">\n",
              "  <thead>\n",
              "    <tr style=\"text-align: right;\">\n",
              "      <th></th>\n",
              "      <th>color</th>\n",
              "      <th>object</th>\n",
              "      <th>price</th>\n",
              "    </tr>\n",
              "  </thead>\n",
              "  <tbody>\n",
              "    <tr>\n",
              "      <th>0</th>\n",
              "      <td>blue</td>\n",
              "      <td>ball</td>\n",
              "      <td>1.2</td>\n",
              "    </tr>\n",
              "    <tr>\n",
              "      <th>1</th>\n",
              "      <td>green</td>\n",
              "      <td>pen</td>\n",
              "      <td>1.0</td>\n",
              "    </tr>\n",
              "    <tr>\n",
              "      <th>2</th>\n",
              "      <td>yellow</td>\n",
              "      <td>pencil</td>\n",
              "      <td>0.6</td>\n",
              "    </tr>\n",
              "    <tr>\n",
              "      <th>3</th>\n",
              "      <td>red</td>\n",
              "      <td>paper</td>\n",
              "      <td>0.9</td>\n",
              "    </tr>\n",
              "    <tr>\n",
              "      <th>4</th>\n",
              "      <td>white</td>\n",
              "      <td>mug</td>\n",
              "      <td>1.7</td>\n",
              "    </tr>\n",
              "  </tbody>\n",
              "</table>\n",
              "</div>"
            ],
            "text/plain": [
              "    color  object  price\n",
              "0    blue    ball    1.2\n",
              "1   green     pen    1.0\n",
              "2  yellow  pencil    0.6\n",
              "3     red   paper    0.9\n",
              "4   white     mug    1.7"
            ]
          },
          "metadata": {
            "tags": []
          },
          "execution_count": 80
        }
      ]
    },
    {
      "cell_type": "code",
      "metadata": {
        "id": "LzKJC06cL7IT",
        "colab_type": "code",
        "colab": {
          "base_uri": "https://localhost:8080/",
          "height": 204
        },
        "outputId": "cb4b98cf-207f-4384-c0b7-94dde29931c6"
      },
      "source": [
        "# Select Columns and Create a New Data Frame\n",
        "df_stationary_b = pd.DataFrame(df_stationary_a, columns=['object','price'])\n",
        "df_stationary_b"
      ],
      "execution_count": 81,
      "outputs": [
        {
          "output_type": "execute_result",
          "data": {
            "text/html": [
              "<div>\n",
              "<style scoped>\n",
              "    .dataframe tbody tr th:only-of-type {\n",
              "        vertical-align: middle;\n",
              "    }\n",
              "\n",
              "    .dataframe tbody tr th {\n",
              "        vertical-align: top;\n",
              "    }\n",
              "\n",
              "    .dataframe thead th {\n",
              "        text-align: right;\n",
              "    }\n",
              "</style>\n",
              "<table border=\"1\" class=\"dataframe\">\n",
              "  <thead>\n",
              "    <tr style=\"text-align: right;\">\n",
              "      <th></th>\n",
              "      <th>object</th>\n",
              "      <th>price</th>\n",
              "    </tr>\n",
              "  </thead>\n",
              "  <tbody>\n",
              "    <tr>\n",
              "      <th>0</th>\n",
              "      <td>ball</td>\n",
              "      <td>1.2</td>\n",
              "    </tr>\n",
              "    <tr>\n",
              "      <th>1</th>\n",
              "      <td>pen</td>\n",
              "      <td>1.0</td>\n",
              "    </tr>\n",
              "    <tr>\n",
              "      <th>2</th>\n",
              "      <td>pencil</td>\n",
              "      <td>0.6</td>\n",
              "    </tr>\n",
              "    <tr>\n",
              "      <th>3</th>\n",
              "      <td>paper</td>\n",
              "      <td>0.9</td>\n",
              "    </tr>\n",
              "    <tr>\n",
              "      <th>4</th>\n",
              "      <td>mug</td>\n",
              "      <td>1.7</td>\n",
              "    </tr>\n",
              "  </tbody>\n",
              "</table>\n",
              "</div>"
            ],
            "text/plain": [
              "   object  price\n",
              "0    ball    1.2\n",
              "1     pen    1.0\n",
              "2  pencil    0.6\n",
              "3   paper    0.9\n",
              "4     mug    1.7"
            ]
          },
          "metadata": {
            "tags": []
          },
          "execution_count": 81
        }
      ]
    },
    {
      "cell_type": "code",
      "metadata": {
        "id": "PLcWEhNAL7OQ",
        "colab_type": "code",
        "colab": {
          "base_uri": "https://localhost:8080/",
          "height": 204
        },
        "outputId": "05bd1313-8d6a-4ce0-f232-77d8044d75d6"
      },
      "source": [
        "# Set Index for the Data Frame\n",
        "df_stationary_c = pd.DataFrame(data, index=['one','two','three','four','five'])\n",
        "df_stationary_c"
      ],
      "execution_count": 82,
      "outputs": [
        {
          "output_type": "execute_result",
          "data": {
            "text/html": [
              "<div>\n",
              "<style scoped>\n",
              "    .dataframe tbody tr th:only-of-type {\n",
              "        vertical-align: middle;\n",
              "    }\n",
              "\n",
              "    .dataframe tbody tr th {\n",
              "        vertical-align: top;\n",
              "    }\n",
              "\n",
              "    .dataframe thead th {\n",
              "        text-align: right;\n",
              "    }\n",
              "</style>\n",
              "<table border=\"1\" class=\"dataframe\">\n",
              "  <thead>\n",
              "    <tr style=\"text-align: right;\">\n",
              "      <th></th>\n",
              "      <th>color</th>\n",
              "      <th>object</th>\n",
              "      <th>price</th>\n",
              "    </tr>\n",
              "  </thead>\n",
              "  <tbody>\n",
              "    <tr>\n",
              "      <th>one</th>\n",
              "      <td>blue</td>\n",
              "      <td>ball</td>\n",
              "      <td>1.2</td>\n",
              "    </tr>\n",
              "    <tr>\n",
              "      <th>two</th>\n",
              "      <td>green</td>\n",
              "      <td>pen</td>\n",
              "      <td>1.0</td>\n",
              "    </tr>\n",
              "    <tr>\n",
              "      <th>three</th>\n",
              "      <td>yellow</td>\n",
              "      <td>pencil</td>\n",
              "      <td>0.6</td>\n",
              "    </tr>\n",
              "    <tr>\n",
              "      <th>four</th>\n",
              "      <td>red</td>\n",
              "      <td>paper</td>\n",
              "      <td>0.9</td>\n",
              "    </tr>\n",
              "    <tr>\n",
              "      <th>five</th>\n",
              "      <td>white</td>\n",
              "      <td>mug</td>\n",
              "      <td>1.7</td>\n",
              "    </tr>\n",
              "  </tbody>\n",
              "</table>\n",
              "</div>"
            ],
            "text/plain": [
              "        color  object  price\n",
              "one      blue    ball    1.2\n",
              "two     green     pen    1.0\n",
              "three  yellow  pencil    0.6\n",
              "four      red   paper    0.9\n",
              "five    white     mug    1.7"
            ]
          },
          "metadata": {
            "tags": []
          },
          "execution_count": 82
        }
      ]
    },
    {
      "cell_type": "markdown",
      "metadata": {
        "id": "NqXGfd2FvTrQ",
        "colab_type": "text"
      },
      "source": [
        "Import Data"
      ]
    },
    {
      "cell_type": "code",
      "metadata": {
        "id": "KCD4CtauL7Uo",
        "colab_type": "code",
        "colab": {
          "base_uri": "https://localhost:8080/",
          "height": 609
        },
        "outputId": "3d9882eb-a34f-4a63-d5f8-a499d15769b0"
      },
      "source": [
        "# Import Data\n",
        "df_churn = pd.read_csv('https://raw.githubusercontent.com/rc-dbe/bigdatacertification/master/dataset/churn.csv', sep=';',)\n",
        "df_churn"
      ],
      "execution_count": 83,
      "outputs": [
        {
          "output_type": "execute_result",
          "data": {
            "text/html": [
              "<div>\n",
              "<style scoped>\n",
              "    .dataframe tbody tr th:only-of-type {\n",
              "        vertical-align: middle;\n",
              "    }\n",
              "\n",
              "    .dataframe tbody tr th {\n",
              "        vertical-align: top;\n",
              "    }\n",
              "\n",
              "    .dataframe thead th {\n",
              "        text-align: right;\n",
              "    }\n",
              "</style>\n",
              "<table border=\"1\" class=\"dataframe\">\n",
              "  <thead>\n",
              "    <tr style=\"text-align: right;\">\n",
              "      <th></th>\n",
              "      <th>customerID</th>\n",
              "      <th>gender</th>\n",
              "      <th>SeniorCitizen</th>\n",
              "      <th>Partner</th>\n",
              "      <th>Dependents</th>\n",
              "      <th>tenure</th>\n",
              "      <th>PhoneService</th>\n",
              "      <th>MultipleLines</th>\n",
              "      <th>InternetService</th>\n",
              "      <th>OnlineSecurity</th>\n",
              "      <th>OnlineBackup</th>\n",
              "      <th>DeviceProtection</th>\n",
              "      <th>TechSupport</th>\n",
              "      <th>StreamingTV</th>\n",
              "      <th>StreamingMovies</th>\n",
              "      <th>Contract</th>\n",
              "      <th>PaperlessBilling</th>\n",
              "      <th>PaymentMethod</th>\n",
              "      <th>MonthlyCharges</th>\n",
              "      <th>TotalCharges</th>\n",
              "      <th>Churn</th>\n",
              "    </tr>\n",
              "  </thead>\n",
              "  <tbody>\n",
              "    <tr>\n",
              "      <th>0</th>\n",
              "      <td>7590-VHVEG</td>\n",
              "      <td>Female</td>\n",
              "      <td>No</td>\n",
              "      <td>Yes</td>\n",
              "      <td>No</td>\n",
              "      <td>1</td>\n",
              "      <td>No</td>\n",
              "      <td>No phone service</td>\n",
              "      <td>DSL</td>\n",
              "      <td>No</td>\n",
              "      <td>Yes</td>\n",
              "      <td>No</td>\n",
              "      <td>No</td>\n",
              "      <td>No</td>\n",
              "      <td>No</td>\n",
              "      <td>Month-to-month</td>\n",
              "      <td>Yes</td>\n",
              "      <td>Electronic check</td>\n",
              "      <td>2985</td>\n",
              "      <td>2985.0</td>\n",
              "      <td>No</td>\n",
              "    </tr>\n",
              "    <tr>\n",
              "      <th>1</th>\n",
              "      <td>5575-GNVDE</td>\n",
              "      <td>Male</td>\n",
              "      <td>No</td>\n",
              "      <td>No</td>\n",
              "      <td>No</td>\n",
              "      <td>34</td>\n",
              "      <td>Yes</td>\n",
              "      <td>No</td>\n",
              "      <td>DSL</td>\n",
              "      <td>Yes</td>\n",
              "      <td>No</td>\n",
              "      <td>Yes</td>\n",
              "      <td>No</td>\n",
              "      <td>No</td>\n",
              "      <td>No</td>\n",
              "      <td>One year</td>\n",
              "      <td>No</td>\n",
              "      <td>Mailed check</td>\n",
              "      <td>5695</td>\n",
              "      <td>18895.0</td>\n",
              "      <td>No</td>\n",
              "    </tr>\n",
              "    <tr>\n",
              "      <th>2</th>\n",
              "      <td>3668-QPYBK</td>\n",
              "      <td>Male</td>\n",
              "      <td>No</td>\n",
              "      <td>No</td>\n",
              "      <td>No</td>\n",
              "      <td>2</td>\n",
              "      <td>Yes</td>\n",
              "      <td>No</td>\n",
              "      <td>DSL</td>\n",
              "      <td>Yes</td>\n",
              "      <td>Yes</td>\n",
              "      <td>No</td>\n",
              "      <td>No</td>\n",
              "      <td>No</td>\n",
              "      <td>No</td>\n",
              "      <td>Month-to-month</td>\n",
              "      <td>Yes</td>\n",
              "      <td>Mailed check</td>\n",
              "      <td>5385</td>\n",
              "      <td>10815.0</td>\n",
              "      <td>Yes</td>\n",
              "    </tr>\n",
              "    <tr>\n",
              "      <th>3</th>\n",
              "      <td>7795-CFOCW</td>\n",
              "      <td>Male</td>\n",
              "      <td>No</td>\n",
              "      <td>No</td>\n",
              "      <td>No</td>\n",
              "      <td>45</td>\n",
              "      <td>No</td>\n",
              "      <td>No phone service</td>\n",
              "      <td>DSL</td>\n",
              "      <td>Yes</td>\n",
              "      <td>No</td>\n",
              "      <td>Yes</td>\n",
              "      <td>Yes</td>\n",
              "      <td>No</td>\n",
              "      <td>No</td>\n",
              "      <td>One year</td>\n",
              "      <td>No</td>\n",
              "      <td>Bank transfer (automatic)</td>\n",
              "      <td>423</td>\n",
              "      <td>184075.0</td>\n",
              "      <td>No</td>\n",
              "    </tr>\n",
              "    <tr>\n",
              "      <th>4</th>\n",
              "      <td>9237-HQITU</td>\n",
              "      <td>Female</td>\n",
              "      <td>No</td>\n",
              "      <td>No</td>\n",
              "      <td>No</td>\n",
              "      <td>2</td>\n",
              "      <td>Yes</td>\n",
              "      <td>No</td>\n",
              "      <td>Fiber optic</td>\n",
              "      <td>No</td>\n",
              "      <td>No</td>\n",
              "      <td>No</td>\n",
              "      <td>No</td>\n",
              "      <td>No</td>\n",
              "      <td>No</td>\n",
              "      <td>Month-to-month</td>\n",
              "      <td>Yes</td>\n",
              "      <td>Electronic check</td>\n",
              "      <td>707</td>\n",
              "      <td>15165.0</td>\n",
              "      <td>Yes</td>\n",
              "    </tr>\n",
              "    <tr>\n",
              "      <th>...</th>\n",
              "      <td>...</td>\n",
              "      <td>...</td>\n",
              "      <td>...</td>\n",
              "      <td>...</td>\n",
              "      <td>...</td>\n",
              "      <td>...</td>\n",
              "      <td>...</td>\n",
              "      <td>...</td>\n",
              "      <td>...</td>\n",
              "      <td>...</td>\n",
              "      <td>...</td>\n",
              "      <td>...</td>\n",
              "      <td>...</td>\n",
              "      <td>...</td>\n",
              "      <td>...</td>\n",
              "      <td>...</td>\n",
              "      <td>...</td>\n",
              "      <td>...</td>\n",
              "      <td>...</td>\n",
              "      <td>...</td>\n",
              "      <td>...</td>\n",
              "    </tr>\n",
              "    <tr>\n",
              "      <th>7038</th>\n",
              "      <td>6840-RESVB</td>\n",
              "      <td>Male</td>\n",
              "      <td>No</td>\n",
              "      <td>Yes</td>\n",
              "      <td>Yes</td>\n",
              "      <td>24</td>\n",
              "      <td>Yes</td>\n",
              "      <td>Yes</td>\n",
              "      <td>DSL</td>\n",
              "      <td>Yes</td>\n",
              "      <td>No</td>\n",
              "      <td>Yes</td>\n",
              "      <td>Yes</td>\n",
              "      <td>Yes</td>\n",
              "      <td>Yes</td>\n",
              "      <td>One year</td>\n",
              "      <td>Yes</td>\n",
              "      <td>Mailed check</td>\n",
              "      <td>848</td>\n",
              "      <td>19905.0</td>\n",
              "      <td>No</td>\n",
              "    </tr>\n",
              "    <tr>\n",
              "      <th>7039</th>\n",
              "      <td>2234-XADUH</td>\n",
              "      <td>Female</td>\n",
              "      <td>No</td>\n",
              "      <td>Yes</td>\n",
              "      <td>Yes</td>\n",
              "      <td>72</td>\n",
              "      <td>Yes</td>\n",
              "      <td>Yes</td>\n",
              "      <td>Fiber optic</td>\n",
              "      <td>No</td>\n",
              "      <td>Yes</td>\n",
              "      <td>Yes</td>\n",
              "      <td>No</td>\n",
              "      <td>Yes</td>\n",
              "      <td>Yes</td>\n",
              "      <td>One year</td>\n",
              "      <td>Yes</td>\n",
              "      <td>Credit card (automatic)</td>\n",
              "      <td>1032</td>\n",
              "      <td>73629.0</td>\n",
              "      <td>No</td>\n",
              "    </tr>\n",
              "    <tr>\n",
              "      <th>7040</th>\n",
              "      <td>4801-JZAZL</td>\n",
              "      <td>Female</td>\n",
              "      <td>No</td>\n",
              "      <td>Yes</td>\n",
              "      <td>Yes</td>\n",
              "      <td>11</td>\n",
              "      <td>No</td>\n",
              "      <td>No phone service</td>\n",
              "      <td>DSL</td>\n",
              "      <td>Yes</td>\n",
              "      <td>No</td>\n",
              "      <td>No</td>\n",
              "      <td>No</td>\n",
              "      <td>No</td>\n",
              "      <td>No</td>\n",
              "      <td>Month-to-month</td>\n",
              "      <td>Yes</td>\n",
              "      <td>Electronic check</td>\n",
              "      <td>296</td>\n",
              "      <td>34645.0</td>\n",
              "      <td>No</td>\n",
              "    </tr>\n",
              "    <tr>\n",
              "      <th>7041</th>\n",
              "      <td>8361-LTMKD</td>\n",
              "      <td>Male</td>\n",
              "      <td>Yes</td>\n",
              "      <td>Yes</td>\n",
              "      <td>No</td>\n",
              "      <td>4</td>\n",
              "      <td>Yes</td>\n",
              "      <td>Yes</td>\n",
              "      <td>Fiber optic</td>\n",
              "      <td>No</td>\n",
              "      <td>No</td>\n",
              "      <td>No</td>\n",
              "      <td>No</td>\n",
              "      <td>No</td>\n",
              "      <td>No</td>\n",
              "      <td>Month-to-month</td>\n",
              "      <td>Yes</td>\n",
              "      <td>Mailed check</td>\n",
              "      <td>744</td>\n",
              "      <td>3066.0</td>\n",
              "      <td>Yes</td>\n",
              "    </tr>\n",
              "    <tr>\n",
              "      <th>7042</th>\n",
              "      <td>3186-AJIEK</td>\n",
              "      <td>Male</td>\n",
              "      <td>No</td>\n",
              "      <td>No</td>\n",
              "      <td>No</td>\n",
              "      <td>66</td>\n",
              "      <td>Yes</td>\n",
              "      <td>No</td>\n",
              "      <td>Fiber optic</td>\n",
              "      <td>Yes</td>\n",
              "      <td>No</td>\n",
              "      <td>Yes</td>\n",
              "      <td>Yes</td>\n",
              "      <td>Yes</td>\n",
              "      <td>Yes</td>\n",
              "      <td>Two year</td>\n",
              "      <td>Yes</td>\n",
              "      <td>Bank transfer (automatic)</td>\n",
              "      <td>10565</td>\n",
              "      <td>68445.0</td>\n",
              "      <td>No</td>\n",
              "    </tr>\n",
              "  </tbody>\n",
              "</table>\n",
              "<p>7043 rows × 21 columns</p>\n",
              "</div>"
            ],
            "text/plain": [
              "      customerID  gender SeniorCitizen  ... MonthlyCharges TotalCharges  Churn\n",
              "0     7590-VHVEG  Female            No  ...           2985       2985.0     No\n",
              "1     5575-GNVDE    Male            No  ...           5695      18895.0     No\n",
              "2     3668-QPYBK    Male            No  ...           5385      10815.0    Yes\n",
              "3     7795-CFOCW    Male            No  ...            423     184075.0     No\n",
              "4     9237-HQITU  Female            No  ...            707      15165.0    Yes\n",
              "...          ...     ...           ...  ...            ...          ...    ...\n",
              "7038  6840-RESVB    Male            No  ...            848      19905.0     No\n",
              "7039  2234-XADUH  Female            No  ...           1032      73629.0     No\n",
              "7040  4801-JZAZL  Female            No  ...            296      34645.0     No\n",
              "7041  8361-LTMKD    Male           Yes  ...            744       3066.0    Yes\n",
              "7042  3186-AJIEK    Male            No  ...          10565      68445.0     No\n",
              "\n",
              "[7043 rows x 21 columns]"
            ]
          },
          "metadata": {
            "tags": []
          },
          "execution_count": 83
        }
      ]
    },
    {
      "cell_type": "markdown",
      "metadata": {
        "id": "sJHaqeLMvo8l",
        "colab_type": "text"
      },
      "source": [
        "Data Exploration"
      ]
    },
    {
      "cell_type": "code",
      "metadata": {
        "id": "iLAsb8amHL5f",
        "colab_type": "code",
        "colab": {
          "base_uri": "https://localhost:8080/",
          "height": 391
        },
        "outputId": "2b9782f2-bcee-44f6-cf9f-dcfc879b9c95"
      },
      "source": [
        "# Show Missing Values on Data Frame\n",
        "df_churn.isnull().sum()"
      ],
      "execution_count": 84,
      "outputs": [
        {
          "output_type": "execute_result",
          "data": {
            "text/plain": [
              "customerID           0\n",
              "gender               0\n",
              "SeniorCitizen        0\n",
              "Partner              0\n",
              "Dependents           0\n",
              "tenure               0\n",
              "PhoneService         0\n",
              "MultipleLines        0\n",
              "InternetService      0\n",
              "OnlineSecurity       0\n",
              "OnlineBackup         0\n",
              "DeviceProtection     0\n",
              "TechSupport          0\n",
              "StreamingTV          0\n",
              "StreamingMovies      0\n",
              "Contract             0\n",
              "PaperlessBilling     0\n",
              "PaymentMethod        0\n",
              "MonthlyCharges       0\n",
              "TotalCharges        11\n",
              "Churn                0\n",
              "dtype: int64"
            ]
          },
          "metadata": {
            "tags": []
          },
          "execution_count": 84
        }
      ]
    },
    {
      "cell_type": "code",
      "metadata": {
        "id": "wdM3mOg6Hy10",
        "colab_type": "code",
        "colab": {}
      },
      "source": [
        "# Impute Missing Values with Median Value\n",
        "median = df_churn[\"TotalCharges\"].median()\n",
        "df_churn[\"TotalCharges\"].fillna(median, inplace=True)"
      ],
      "execution_count": 0,
      "outputs": []
    },
    {
      "cell_type": "code",
      "metadata": {
        "id": "iJLRVmHsIi8Z",
        "colab_type": "code",
        "colab": {
          "base_uri": "https://localhost:8080/",
          "height": 459
        },
        "outputId": "fc6a4b80-f23b-4bad-e230-af1dee89d585"
      },
      "source": [
        "# Check the Data Information\n",
        "df_churn.info()"
      ],
      "execution_count": 86,
      "outputs": [
        {
          "output_type": "stream",
          "text": [
            "<class 'pandas.core.frame.DataFrame'>\n",
            "RangeIndex: 7043 entries, 0 to 7042\n",
            "Data columns (total 21 columns):\n",
            "customerID          7043 non-null object\n",
            "gender              7043 non-null object\n",
            "SeniorCitizen       7043 non-null object\n",
            "Partner             7043 non-null object\n",
            "Dependents          7043 non-null object\n",
            "tenure              7043 non-null int64\n",
            "PhoneService        7043 non-null object\n",
            "MultipleLines       7043 non-null object\n",
            "InternetService     7043 non-null object\n",
            "OnlineSecurity      7043 non-null object\n",
            "OnlineBackup        7043 non-null object\n",
            "DeviceProtection    7043 non-null object\n",
            "TechSupport         7043 non-null object\n",
            "StreamingTV         7043 non-null object\n",
            "StreamingMovies     7043 non-null object\n",
            "Contract            7043 non-null object\n",
            "PaperlessBilling    7043 non-null object\n",
            "PaymentMethod       7043 non-null object\n",
            "MonthlyCharges      7043 non-null int64\n",
            "TotalCharges        7043 non-null float64\n",
            "Churn               7043 non-null object\n",
            "dtypes: float64(1), int64(2), object(18)\n",
            "memory usage: 1.1+ MB\n"
          ],
          "name": "stdout"
        }
      ]
    },
    {
      "cell_type": "code",
      "metadata": {
        "id": "SfkwH6K4Tibq",
        "colab_type": "code",
        "colab": {
          "base_uri": "https://localhost:8080/",
          "height": 297
        },
        "outputId": "a1049c73-bef4-456b-8f7c-0ad791dba747"
      },
      "source": [
        "# Describe the Statistics of Data\n",
        "df_churn.describe()"
      ],
      "execution_count": 87,
      "outputs": [
        {
          "output_type": "execute_result",
          "data": {
            "text/html": [
              "<div>\n",
              "<style scoped>\n",
              "    .dataframe tbody tr th:only-of-type {\n",
              "        vertical-align: middle;\n",
              "    }\n",
              "\n",
              "    .dataframe tbody tr th {\n",
              "        vertical-align: top;\n",
              "    }\n",
              "\n",
              "    .dataframe thead th {\n",
              "        text-align: right;\n",
              "    }\n",
              "</style>\n",
              "<table border=\"1\" class=\"dataframe\">\n",
              "  <thead>\n",
              "    <tr style=\"text-align: right;\">\n",
              "      <th></th>\n",
              "      <th>tenure</th>\n",
              "      <th>MonthlyCharges</th>\n",
              "      <th>TotalCharges</th>\n",
              "    </tr>\n",
              "  </thead>\n",
              "  <tbody>\n",
              "    <tr>\n",
              "      <th>count</th>\n",
              "      <td>7043.000000</td>\n",
              "      <td>7043.000000</td>\n",
              "      <td>7043.000000</td>\n",
              "    </tr>\n",
              "    <tr>\n",
              "      <th>mean</th>\n",
              "      <td>32.371149</td>\n",
              "      <td>3517.437456</td>\n",
              "      <td>126112.150930</td>\n",
              "    </tr>\n",
              "    <tr>\n",
              "      <th>std</th>\n",
              "      <td>24.559481</td>\n",
              "      <td>3634.996251</td>\n",
              "      <td>192405.057371</td>\n",
              "    </tr>\n",
              "    <tr>\n",
              "      <th>min</th>\n",
              "      <td>0.000000</td>\n",
              "      <td>19.000000</td>\n",
              "      <td>19.000000</td>\n",
              "    </tr>\n",
              "    <tr>\n",
              "      <th>25%</th>\n",
              "      <td>9.000000</td>\n",
              "      <td>647.500000</td>\n",
              "      <td>7580.500000</td>\n",
              "    </tr>\n",
              "    <tr>\n",
              "      <th>50%</th>\n",
              "      <td>29.000000</td>\n",
              "      <td>1885.000000</td>\n",
              "      <td>36769.000000</td>\n",
              "    </tr>\n",
              "    <tr>\n",
              "      <th>75%</th>\n",
              "      <td>55.000000</td>\n",
              "      <td>7015.000000</td>\n",
              "      <td>142715.000000</td>\n",
              "    </tr>\n",
              "    <tr>\n",
              "      <th>max</th>\n",
              "      <td>72.000000</td>\n",
              "      <td>11875.000000</td>\n",
              "      <td>867245.000000</td>\n",
              "    </tr>\n",
              "  </tbody>\n",
              "</table>\n",
              "</div>"
            ],
            "text/plain": [
              "            tenure  MonthlyCharges   TotalCharges\n",
              "count  7043.000000     7043.000000    7043.000000\n",
              "mean     32.371149     3517.437456  126112.150930\n",
              "std      24.559481     3634.996251  192405.057371\n",
              "min       0.000000       19.000000      19.000000\n",
              "25%       9.000000      647.500000    7580.500000\n",
              "50%      29.000000     1885.000000   36769.000000\n",
              "75%      55.000000     7015.000000  142715.000000\n",
              "max      72.000000    11875.000000  867245.000000"
            ]
          },
          "metadata": {
            "tags": []
          },
          "execution_count": 87
        }
      ]
    },
    {
      "cell_type": "code",
      "metadata": {
        "id": "_LPrYN0kWHOJ",
        "colab_type": "code",
        "colab": {}
      },
      "source": [
        "# Save Data Frame as CSV\n",
        "df_churn.to_csv('churn bersih.csv', index=False)"
      ],
      "execution_count": 0,
      "outputs": []
    },
    {
      "cell_type": "markdown",
      "metadata": {
        "id": "Ds2eMHFoEVBZ",
        "colab_type": "text"
      },
      "source": [
        "# Data Design and Transformation with Pandas"
      ]
    },
    {
      "cell_type": "markdown",
      "metadata": {
        "id": "LCBk5qreGjBU",
        "colab_type": "text"
      },
      "source": [
        "It is often the case with data science projects that you’ll have to deal with messy or incomplete data. The raw data we obtain from different data sources is often unusable at the beginning. All the activity that you do on the raw data to make it “clean” enough to input to your analytical algorithm is called data wrangling.\n",
        "\n",
        "In basic terms data wrangling is the process of unifying and organising different data sets. This step iteratively changes the shape of a dataset until it works well for finding insights or building a good analytic model. Data wrangling is the process where individuals manually convert and map raw data into another format in order to make it more accessible and usable. \n",
        "\n",
        "Pandas is mainly used for machine learning in form of dataframes. Pandas allow importing data of various file formats such as csv, excel etc. Pandas allows various data manipulation operations such as groupby, join, merge, melt, concatenation as well as data cleaning features such as filling, replacing or imputing null values. The Pandas library provides useful functions to support Data Wrangling tasks."
      ]
    },
    {
      "cell_type": "markdown",
      "metadata": {
        "id": "TLmIEi-N_oAi",
        "colab_type": "text"
      },
      "source": [
        "Import Libraries"
      ]
    },
    {
      "cell_type": "code",
      "metadata": {
        "id": "gSpp8LNxZWrL",
        "colab_type": "code",
        "colab": {}
      },
      "source": [
        "# Import Libraries for Data Manupulation\n",
        "import numpy as np\n",
        "import pandas as pd"
      ],
      "execution_count": 0,
      "outputs": []
    },
    {
      "cell_type": "markdown",
      "metadata": {
        "id": "aEM0s4IkEZdV",
        "colab_type": "text"
      },
      "source": [
        "## Joining Data"
      ]
    },
    {
      "cell_type": "markdown",
      "metadata": {
        "id": "44tYK75S51rc",
        "colab_type": "text"
      },
      "source": [
        "Organizations typically find that their data comes from many different sources and this means that it can become scattered and unorganised. Joining data is pusposed to organise different data sets."
      ]
    },
    {
      "cell_type": "markdown",
      "metadata": {
        "id": "6zz6nl8aHrTm",
        "colab_type": "text"
      },
      "source": [
        "### Concatenating"
      ]
    },
    {
      "cell_type": "markdown",
      "metadata": {
        "id": "sjuxkiwFcDdK",
        "colab_type": "text"
      },
      "source": [
        "Concatenating is defined as combining multiple data sources together. The concat function is performing concatenation operations along an axis. Let us create different objects and do concatenation."
      ]
    },
    {
      "cell_type": "markdown",
      "metadata": {
        "id": "rpX4-dWT-mPn",
        "colab_type": "text"
      },
      "source": [
        "Create data frame"
      ]
    },
    {
      "cell_type": "code",
      "metadata": {
        "id": "7topSoLD-m7A",
        "colab_type": "code",
        "colab": {
          "base_uri": "https://localhost:8080/",
          "height": 173
        },
        "outputId": "a3ac70c9-f6c0-4f5b-d8e6-2672c367289f"
      },
      "source": [
        "# Create data frame 1\n",
        "df1 = pd.DataFrame({'A': ['A0', 'A1', 'A2', 'A3'],\n",
        "                    'B': ['B0', 'B1', 'B2', 'B3'],\n",
        "                    'C': ['C0', 'C1', 'C2', 'C3'],\n",
        "                    'D': ['D0', 'D1', 'D2', 'D3']},\n",
        "                    index=[0, 1, 2, 3]) \n",
        "df1"
      ],
      "execution_count": 90,
      "outputs": [
        {
          "output_type": "execute_result",
          "data": {
            "text/html": [
              "<div>\n",
              "<style scoped>\n",
              "    .dataframe tbody tr th:only-of-type {\n",
              "        vertical-align: middle;\n",
              "    }\n",
              "\n",
              "    .dataframe tbody tr th {\n",
              "        vertical-align: top;\n",
              "    }\n",
              "\n",
              "    .dataframe thead th {\n",
              "        text-align: right;\n",
              "    }\n",
              "</style>\n",
              "<table border=\"1\" class=\"dataframe\">\n",
              "  <thead>\n",
              "    <tr style=\"text-align: right;\">\n",
              "      <th></th>\n",
              "      <th>A</th>\n",
              "      <th>B</th>\n",
              "      <th>C</th>\n",
              "      <th>D</th>\n",
              "    </tr>\n",
              "  </thead>\n",
              "  <tbody>\n",
              "    <tr>\n",
              "      <th>0</th>\n",
              "      <td>A0</td>\n",
              "      <td>B0</td>\n",
              "      <td>C0</td>\n",
              "      <td>D0</td>\n",
              "    </tr>\n",
              "    <tr>\n",
              "      <th>1</th>\n",
              "      <td>A1</td>\n",
              "      <td>B1</td>\n",
              "      <td>C1</td>\n",
              "      <td>D1</td>\n",
              "    </tr>\n",
              "    <tr>\n",
              "      <th>2</th>\n",
              "      <td>A2</td>\n",
              "      <td>B2</td>\n",
              "      <td>C2</td>\n",
              "      <td>D2</td>\n",
              "    </tr>\n",
              "    <tr>\n",
              "      <th>3</th>\n",
              "      <td>A3</td>\n",
              "      <td>B3</td>\n",
              "      <td>C3</td>\n",
              "      <td>D3</td>\n",
              "    </tr>\n",
              "  </tbody>\n",
              "</table>\n",
              "</div>"
            ],
            "text/plain": [
              "    A   B   C   D\n",
              "0  A0  B0  C0  D0\n",
              "1  A1  B1  C1  D1\n",
              "2  A2  B2  C2  D2\n",
              "3  A3  B3  C3  D3"
            ]
          },
          "metadata": {
            "tags": []
          },
          "execution_count": 90
        }
      ]
    },
    {
      "cell_type": "code",
      "metadata": {
        "id": "bk7mTq0v_Ebn",
        "colab_type": "code",
        "colab": {
          "base_uri": "https://localhost:8080/",
          "height": 173
        },
        "outputId": "3c3bc02d-64bf-4bbb-a810-671bdf608b7a"
      },
      "source": [
        "# Create data frame 2\n",
        "df2 = pd.DataFrame({'A': ['A4', 'A5', 'A6', 'A7'],\n",
        "                    'B': ['B4', 'B5', 'B6', 'B7'],\n",
        "                    'C': ['C4', 'C5', 'C6', 'C7'],\n",
        "                    'D': ['D4', 'D5', 'D6', 'D7']},\n",
        "                    index=[4, 5, 6, 7])\n",
        "df2"
      ],
      "execution_count": 91,
      "outputs": [
        {
          "output_type": "execute_result",
          "data": {
            "text/html": [
              "<div>\n",
              "<style scoped>\n",
              "    .dataframe tbody tr th:only-of-type {\n",
              "        vertical-align: middle;\n",
              "    }\n",
              "\n",
              "    .dataframe tbody tr th {\n",
              "        vertical-align: top;\n",
              "    }\n",
              "\n",
              "    .dataframe thead th {\n",
              "        text-align: right;\n",
              "    }\n",
              "</style>\n",
              "<table border=\"1\" class=\"dataframe\">\n",
              "  <thead>\n",
              "    <tr style=\"text-align: right;\">\n",
              "      <th></th>\n",
              "      <th>A</th>\n",
              "      <th>B</th>\n",
              "      <th>C</th>\n",
              "      <th>D</th>\n",
              "    </tr>\n",
              "  </thead>\n",
              "  <tbody>\n",
              "    <tr>\n",
              "      <th>4</th>\n",
              "      <td>A4</td>\n",
              "      <td>B4</td>\n",
              "      <td>C4</td>\n",
              "      <td>D4</td>\n",
              "    </tr>\n",
              "    <tr>\n",
              "      <th>5</th>\n",
              "      <td>A5</td>\n",
              "      <td>B5</td>\n",
              "      <td>C5</td>\n",
              "      <td>D5</td>\n",
              "    </tr>\n",
              "    <tr>\n",
              "      <th>6</th>\n",
              "      <td>A6</td>\n",
              "      <td>B6</td>\n",
              "      <td>C6</td>\n",
              "      <td>D6</td>\n",
              "    </tr>\n",
              "    <tr>\n",
              "      <th>7</th>\n",
              "      <td>A7</td>\n",
              "      <td>B7</td>\n",
              "      <td>C7</td>\n",
              "      <td>D7</td>\n",
              "    </tr>\n",
              "  </tbody>\n",
              "</table>\n",
              "</div>"
            ],
            "text/plain": [
              "    A   B   C   D\n",
              "4  A4  B4  C4  D4\n",
              "5  A5  B5  C5  D5\n",
              "6  A6  B6  C6  D6\n",
              "7  A7  B7  C7  D7"
            ]
          },
          "metadata": {
            "tags": []
          },
          "execution_count": 91
        }
      ]
    },
    {
      "cell_type": "code",
      "metadata": {
        "id": "BWVDtwHV_GWt",
        "colab_type": "code",
        "colab": {
          "base_uri": "https://localhost:8080/",
          "height": 173
        },
        "outputId": "a8a9f966-bc69-46f9-bbd8-9c072d362175"
      },
      "source": [
        "# Create data frame 3\n",
        "df3 = pd.DataFrame({'A': ['A8', 'A9', 'A10', 'A11'],\n",
        "                    'B': ['B8', 'B9', 'B10', 'B11'],\n",
        "                    'C': ['C8', 'C9', 'C10', 'C11'],\n",
        "                    'D': ['D8', 'D9', 'D10', 'D11']},\n",
        "                    index=[0, 1, 2, 3])\n",
        "df3"
      ],
      "execution_count": 92,
      "outputs": [
        {
          "output_type": "execute_result",
          "data": {
            "text/html": [
              "<div>\n",
              "<style scoped>\n",
              "    .dataframe tbody tr th:only-of-type {\n",
              "        vertical-align: middle;\n",
              "    }\n",
              "\n",
              "    .dataframe tbody tr th {\n",
              "        vertical-align: top;\n",
              "    }\n",
              "\n",
              "    .dataframe thead th {\n",
              "        text-align: right;\n",
              "    }\n",
              "</style>\n",
              "<table border=\"1\" class=\"dataframe\">\n",
              "  <thead>\n",
              "    <tr style=\"text-align: right;\">\n",
              "      <th></th>\n",
              "      <th>A</th>\n",
              "      <th>B</th>\n",
              "      <th>C</th>\n",
              "      <th>D</th>\n",
              "    </tr>\n",
              "  </thead>\n",
              "  <tbody>\n",
              "    <tr>\n",
              "      <th>0</th>\n",
              "      <td>A8</td>\n",
              "      <td>B8</td>\n",
              "      <td>C8</td>\n",
              "      <td>D8</td>\n",
              "    </tr>\n",
              "    <tr>\n",
              "      <th>1</th>\n",
              "      <td>A9</td>\n",
              "      <td>B9</td>\n",
              "      <td>C9</td>\n",
              "      <td>D9</td>\n",
              "    </tr>\n",
              "    <tr>\n",
              "      <th>2</th>\n",
              "      <td>A10</td>\n",
              "      <td>B10</td>\n",
              "      <td>C10</td>\n",
              "      <td>D10</td>\n",
              "    </tr>\n",
              "    <tr>\n",
              "      <th>3</th>\n",
              "      <td>A11</td>\n",
              "      <td>B11</td>\n",
              "      <td>C11</td>\n",
              "      <td>D11</td>\n",
              "    </tr>\n",
              "  </tbody>\n",
              "</table>\n",
              "</div>"
            ],
            "text/plain": [
              "     A    B    C    D\n",
              "0   A8   B8   C8   D8\n",
              "1   A9   B9   C9   D9\n",
              "2  A10  B10  C10  D10\n",
              "3  A11  B11  C11  D11"
            ]
          },
          "metadata": {
            "tags": []
          },
          "execution_count": 92
        }
      ]
    },
    {
      "cell_type": "code",
      "metadata": {
        "id": "EZqjtIkUA9rw",
        "colab_type": "code",
        "colab": {
          "base_uri": "https://localhost:8080/",
          "height": 173
        },
        "outputId": "9d8130cf-71f8-4f34-efec-3603ccb3fe95"
      },
      "source": [
        "# Create data frame 4\n",
        "df4 = pd.DataFrame({'B': ['B2', 'B3', 'B6', 'B7'],\n",
        "                    'D': ['D2', 'D3', 'D6', 'D7'],\n",
        "                    'F': ['F2', 'F3', 'F6', 'F7']},\n",
        "                    index=[2, 3, 6, 7])\n",
        "df4"
      ],
      "execution_count": 93,
      "outputs": [
        {
          "output_type": "execute_result",
          "data": {
            "text/html": [
              "<div>\n",
              "<style scoped>\n",
              "    .dataframe tbody tr th:only-of-type {\n",
              "        vertical-align: middle;\n",
              "    }\n",
              "\n",
              "    .dataframe tbody tr th {\n",
              "        vertical-align: top;\n",
              "    }\n",
              "\n",
              "    .dataframe thead th {\n",
              "        text-align: right;\n",
              "    }\n",
              "</style>\n",
              "<table border=\"1\" class=\"dataframe\">\n",
              "  <thead>\n",
              "    <tr style=\"text-align: right;\">\n",
              "      <th></th>\n",
              "      <th>B</th>\n",
              "      <th>D</th>\n",
              "      <th>F</th>\n",
              "    </tr>\n",
              "  </thead>\n",
              "  <tbody>\n",
              "    <tr>\n",
              "      <th>2</th>\n",
              "      <td>B2</td>\n",
              "      <td>D2</td>\n",
              "      <td>F2</td>\n",
              "    </tr>\n",
              "    <tr>\n",
              "      <th>3</th>\n",
              "      <td>B3</td>\n",
              "      <td>D3</td>\n",
              "      <td>F3</td>\n",
              "    </tr>\n",
              "    <tr>\n",
              "      <th>6</th>\n",
              "      <td>B6</td>\n",
              "      <td>D6</td>\n",
              "      <td>F6</td>\n",
              "    </tr>\n",
              "    <tr>\n",
              "      <th>7</th>\n",
              "      <td>B7</td>\n",
              "      <td>D7</td>\n",
              "      <td>F7</td>\n",
              "    </tr>\n",
              "  </tbody>\n",
              "</table>\n",
              "</div>"
            ],
            "text/plain": [
              "    B   D   F\n",
              "2  B2  D2  F2\n",
              "3  B3  D3  F3\n",
              "6  B6  D6  F6\n",
              "7  B7  D7  F7"
            ]
          },
          "metadata": {
            "tags": []
          },
          "execution_count": 93
        }
      ]
    },
    {
      "cell_type": "markdown",
      "metadata": {
        "id": "EkvQsu0gBIX6",
        "colab_type": "text"
      },
      "source": [
        "Concat the same size data frame vertically"
      ]
    },
    {
      "cell_type": "code",
      "metadata": {
        "id": "Zou9-eQg_eUs",
        "colab_type": "code",
        "colab": {
          "base_uri": "https://localhost:8080/",
          "height": 297
        },
        "outputId": "25c0cd48-52c9-4d2d-8893-2c12315f14b5"
      },
      "source": [
        "# Concat Data Frame\n",
        "pd.concat([df1, df2])"
      ],
      "execution_count": 94,
      "outputs": [
        {
          "output_type": "execute_result",
          "data": {
            "text/html": [
              "<div>\n",
              "<style scoped>\n",
              "    .dataframe tbody tr th:only-of-type {\n",
              "        vertical-align: middle;\n",
              "    }\n",
              "\n",
              "    .dataframe tbody tr th {\n",
              "        vertical-align: top;\n",
              "    }\n",
              "\n",
              "    .dataframe thead th {\n",
              "        text-align: right;\n",
              "    }\n",
              "</style>\n",
              "<table border=\"1\" class=\"dataframe\">\n",
              "  <thead>\n",
              "    <tr style=\"text-align: right;\">\n",
              "      <th></th>\n",
              "      <th>A</th>\n",
              "      <th>B</th>\n",
              "      <th>C</th>\n",
              "      <th>D</th>\n",
              "    </tr>\n",
              "  </thead>\n",
              "  <tbody>\n",
              "    <tr>\n",
              "      <th>0</th>\n",
              "      <td>A0</td>\n",
              "      <td>B0</td>\n",
              "      <td>C0</td>\n",
              "      <td>D0</td>\n",
              "    </tr>\n",
              "    <tr>\n",
              "      <th>1</th>\n",
              "      <td>A1</td>\n",
              "      <td>B1</td>\n",
              "      <td>C1</td>\n",
              "      <td>D1</td>\n",
              "    </tr>\n",
              "    <tr>\n",
              "      <th>2</th>\n",
              "      <td>A2</td>\n",
              "      <td>B2</td>\n",
              "      <td>C2</td>\n",
              "      <td>D2</td>\n",
              "    </tr>\n",
              "    <tr>\n",
              "      <th>3</th>\n",
              "      <td>A3</td>\n",
              "      <td>B3</td>\n",
              "      <td>C3</td>\n",
              "      <td>D3</td>\n",
              "    </tr>\n",
              "    <tr>\n",
              "      <th>4</th>\n",
              "      <td>A4</td>\n",
              "      <td>B4</td>\n",
              "      <td>C4</td>\n",
              "      <td>D4</td>\n",
              "    </tr>\n",
              "    <tr>\n",
              "      <th>5</th>\n",
              "      <td>A5</td>\n",
              "      <td>B5</td>\n",
              "      <td>C5</td>\n",
              "      <td>D5</td>\n",
              "    </tr>\n",
              "    <tr>\n",
              "      <th>6</th>\n",
              "      <td>A6</td>\n",
              "      <td>B6</td>\n",
              "      <td>C6</td>\n",
              "      <td>D6</td>\n",
              "    </tr>\n",
              "    <tr>\n",
              "      <th>7</th>\n",
              "      <td>A7</td>\n",
              "      <td>B7</td>\n",
              "      <td>C7</td>\n",
              "      <td>D7</td>\n",
              "    </tr>\n",
              "  </tbody>\n",
              "</table>\n",
              "</div>"
            ],
            "text/plain": [
              "    A   B   C   D\n",
              "0  A0  B0  C0  D0\n",
              "1  A1  B1  C1  D1\n",
              "2  A2  B2  C2  D2\n",
              "3  A3  B3  C3  D3\n",
              "4  A4  B4  C4  D4\n",
              "5  A5  B5  C5  D5\n",
              "6  A6  B6  C6  D6\n",
              "7  A7  B7  C7  D7"
            ]
          },
          "metadata": {
            "tags": []
          },
          "execution_count": 94
        }
      ]
    },
    {
      "cell_type": "code",
      "metadata": {
        "id": "QLytReAZ__bD",
        "colab_type": "code",
        "colab": {
          "base_uri": "https://localhost:8080/",
          "height": 297
        },
        "outputId": "4dd4bb2c-4a5c-441e-9774-1b0e2d1575b7"
      },
      "source": [
        "# Concat Data Frame with Keys\n",
        "pd.concat([df1, df2, df3], keys=['df1', 'df2'])"
      ],
      "execution_count": 95,
      "outputs": [
        {
          "output_type": "execute_result",
          "data": {
            "text/html": [
              "<div>\n",
              "<style scoped>\n",
              "    .dataframe tbody tr th:only-of-type {\n",
              "        vertical-align: middle;\n",
              "    }\n",
              "\n",
              "    .dataframe tbody tr th {\n",
              "        vertical-align: top;\n",
              "    }\n",
              "\n",
              "    .dataframe thead th {\n",
              "        text-align: right;\n",
              "    }\n",
              "</style>\n",
              "<table border=\"1\" class=\"dataframe\">\n",
              "  <thead>\n",
              "    <tr style=\"text-align: right;\">\n",
              "      <th></th>\n",
              "      <th></th>\n",
              "      <th>A</th>\n",
              "      <th>B</th>\n",
              "      <th>C</th>\n",
              "      <th>D</th>\n",
              "    </tr>\n",
              "  </thead>\n",
              "  <tbody>\n",
              "    <tr>\n",
              "      <th rowspan=\"4\" valign=\"top\">df1</th>\n",
              "      <th>0</th>\n",
              "      <td>A0</td>\n",
              "      <td>B0</td>\n",
              "      <td>C0</td>\n",
              "      <td>D0</td>\n",
              "    </tr>\n",
              "    <tr>\n",
              "      <th>1</th>\n",
              "      <td>A1</td>\n",
              "      <td>B1</td>\n",
              "      <td>C1</td>\n",
              "      <td>D1</td>\n",
              "    </tr>\n",
              "    <tr>\n",
              "      <th>2</th>\n",
              "      <td>A2</td>\n",
              "      <td>B2</td>\n",
              "      <td>C2</td>\n",
              "      <td>D2</td>\n",
              "    </tr>\n",
              "    <tr>\n",
              "      <th>3</th>\n",
              "      <td>A3</td>\n",
              "      <td>B3</td>\n",
              "      <td>C3</td>\n",
              "      <td>D3</td>\n",
              "    </tr>\n",
              "    <tr>\n",
              "      <th rowspan=\"4\" valign=\"top\">df2</th>\n",
              "      <th>4</th>\n",
              "      <td>A4</td>\n",
              "      <td>B4</td>\n",
              "      <td>C4</td>\n",
              "      <td>D4</td>\n",
              "    </tr>\n",
              "    <tr>\n",
              "      <th>5</th>\n",
              "      <td>A5</td>\n",
              "      <td>B5</td>\n",
              "      <td>C5</td>\n",
              "      <td>D5</td>\n",
              "    </tr>\n",
              "    <tr>\n",
              "      <th>6</th>\n",
              "      <td>A6</td>\n",
              "      <td>B6</td>\n",
              "      <td>C6</td>\n",
              "      <td>D6</td>\n",
              "    </tr>\n",
              "    <tr>\n",
              "      <th>7</th>\n",
              "      <td>A7</td>\n",
              "      <td>B7</td>\n",
              "      <td>C7</td>\n",
              "      <td>D7</td>\n",
              "    </tr>\n",
              "  </tbody>\n",
              "</table>\n",
              "</div>"
            ],
            "text/plain": [
              "        A   B   C   D\n",
              "df1 0  A0  B0  C0  D0\n",
              "    1  A1  B1  C1  D1\n",
              "    2  A2  B2  C2  D2\n",
              "    3  A3  B3  C3  D3\n",
              "df2 4  A4  B4  C4  D4\n",
              "    5  A5  B5  C5  D5\n",
              "    6  A6  B6  C6  D6\n",
              "    7  A7  B7  C7  D7"
            ]
          },
          "metadata": {
            "tags": []
          },
          "execution_count": 95
        }
      ]
    },
    {
      "cell_type": "markdown",
      "metadata": {
        "id": "bZrRYRmHCWam",
        "colab_type": "text"
      },
      "source": [
        "Concat the same size data frame horizontally"
      ]
    },
    {
      "cell_type": "code",
      "metadata": {
        "id": "-CI66VmRBvYs",
        "colab_type": "code",
        "colab": {
          "base_uri": "https://localhost:8080/",
          "height": 173
        },
        "outputId": "6fd8f9d1-1abb-4927-99f1-cbe425d0e411"
      },
      "source": [
        "# Concat Data Frame\n",
        "pd.concat([df1, df3], axis=1)"
      ],
      "execution_count": 96,
      "outputs": [
        {
          "output_type": "execute_result",
          "data": {
            "text/html": [
              "<div>\n",
              "<style scoped>\n",
              "    .dataframe tbody tr th:only-of-type {\n",
              "        vertical-align: middle;\n",
              "    }\n",
              "\n",
              "    .dataframe tbody tr th {\n",
              "        vertical-align: top;\n",
              "    }\n",
              "\n",
              "    .dataframe thead th {\n",
              "        text-align: right;\n",
              "    }\n",
              "</style>\n",
              "<table border=\"1\" class=\"dataframe\">\n",
              "  <thead>\n",
              "    <tr style=\"text-align: right;\">\n",
              "      <th></th>\n",
              "      <th>A</th>\n",
              "      <th>B</th>\n",
              "      <th>C</th>\n",
              "      <th>D</th>\n",
              "      <th>A</th>\n",
              "      <th>B</th>\n",
              "      <th>C</th>\n",
              "      <th>D</th>\n",
              "    </tr>\n",
              "  </thead>\n",
              "  <tbody>\n",
              "    <tr>\n",
              "      <th>0</th>\n",
              "      <td>A0</td>\n",
              "      <td>B0</td>\n",
              "      <td>C0</td>\n",
              "      <td>D0</td>\n",
              "      <td>A8</td>\n",
              "      <td>B8</td>\n",
              "      <td>C8</td>\n",
              "      <td>D8</td>\n",
              "    </tr>\n",
              "    <tr>\n",
              "      <th>1</th>\n",
              "      <td>A1</td>\n",
              "      <td>B1</td>\n",
              "      <td>C1</td>\n",
              "      <td>D1</td>\n",
              "      <td>A9</td>\n",
              "      <td>B9</td>\n",
              "      <td>C9</td>\n",
              "      <td>D9</td>\n",
              "    </tr>\n",
              "    <tr>\n",
              "      <th>2</th>\n",
              "      <td>A2</td>\n",
              "      <td>B2</td>\n",
              "      <td>C2</td>\n",
              "      <td>D2</td>\n",
              "      <td>A10</td>\n",
              "      <td>B10</td>\n",
              "      <td>C10</td>\n",
              "      <td>D10</td>\n",
              "    </tr>\n",
              "    <tr>\n",
              "      <th>3</th>\n",
              "      <td>A3</td>\n",
              "      <td>B3</td>\n",
              "      <td>C3</td>\n",
              "      <td>D3</td>\n",
              "      <td>A11</td>\n",
              "      <td>B11</td>\n",
              "      <td>C11</td>\n",
              "      <td>D11</td>\n",
              "    </tr>\n",
              "  </tbody>\n",
              "</table>\n",
              "</div>"
            ],
            "text/plain": [
              "    A   B   C   D    A    B    C    D\n",
              "0  A0  B0  C0  D0   A8   B8   C8   D8\n",
              "1  A1  B1  C1  D1   A9   B9   C9   D9\n",
              "2  A2  B2  C2  D2  A10  B10  C10  D10\n",
              "3  A3  B3  C3  D3  A11  B11  C11  D11"
            ]
          },
          "metadata": {
            "tags": []
          },
          "execution_count": 96
        }
      ]
    },
    {
      "cell_type": "code",
      "metadata": {
        "id": "C-WKT2-mCcWY",
        "colab_type": "code",
        "colab": {
          "base_uri": "https://localhost:8080/",
          "height": 204
        },
        "outputId": "2bc7f77d-6704-4996-fc3e-bf059eddd7b0"
      },
      "source": [
        "# Concat Data Frame with Keys\n",
        "pd.concat([df1, df3], axis=1, keys=['df1', 'df2'])"
      ],
      "execution_count": 97,
      "outputs": [
        {
          "output_type": "execute_result",
          "data": {
            "text/html": [
              "<div>\n",
              "<style scoped>\n",
              "    .dataframe tbody tr th:only-of-type {\n",
              "        vertical-align: middle;\n",
              "    }\n",
              "\n",
              "    .dataframe tbody tr th {\n",
              "        vertical-align: top;\n",
              "    }\n",
              "\n",
              "    .dataframe thead tr th {\n",
              "        text-align: left;\n",
              "    }\n",
              "</style>\n",
              "<table border=\"1\" class=\"dataframe\">\n",
              "  <thead>\n",
              "    <tr>\n",
              "      <th></th>\n",
              "      <th colspan=\"4\" halign=\"left\">df1</th>\n",
              "      <th colspan=\"4\" halign=\"left\">df2</th>\n",
              "    </tr>\n",
              "    <tr>\n",
              "      <th></th>\n",
              "      <th>A</th>\n",
              "      <th>B</th>\n",
              "      <th>C</th>\n",
              "      <th>D</th>\n",
              "      <th>A</th>\n",
              "      <th>B</th>\n",
              "      <th>C</th>\n",
              "      <th>D</th>\n",
              "    </tr>\n",
              "  </thead>\n",
              "  <tbody>\n",
              "    <tr>\n",
              "      <th>0</th>\n",
              "      <td>A0</td>\n",
              "      <td>B0</td>\n",
              "      <td>C0</td>\n",
              "      <td>D0</td>\n",
              "      <td>A8</td>\n",
              "      <td>B8</td>\n",
              "      <td>C8</td>\n",
              "      <td>D8</td>\n",
              "    </tr>\n",
              "    <tr>\n",
              "      <th>1</th>\n",
              "      <td>A1</td>\n",
              "      <td>B1</td>\n",
              "      <td>C1</td>\n",
              "      <td>D1</td>\n",
              "      <td>A9</td>\n",
              "      <td>B9</td>\n",
              "      <td>C9</td>\n",
              "      <td>D9</td>\n",
              "    </tr>\n",
              "    <tr>\n",
              "      <th>2</th>\n",
              "      <td>A2</td>\n",
              "      <td>B2</td>\n",
              "      <td>C2</td>\n",
              "      <td>D2</td>\n",
              "      <td>A10</td>\n",
              "      <td>B10</td>\n",
              "      <td>C10</td>\n",
              "      <td>D10</td>\n",
              "    </tr>\n",
              "    <tr>\n",
              "      <th>3</th>\n",
              "      <td>A3</td>\n",
              "      <td>B3</td>\n",
              "      <td>C3</td>\n",
              "      <td>D3</td>\n",
              "      <td>A11</td>\n",
              "      <td>B11</td>\n",
              "      <td>C11</td>\n",
              "      <td>D11</td>\n",
              "    </tr>\n",
              "  </tbody>\n",
              "</table>\n",
              "</div>"
            ],
            "text/plain": [
              "  df1              df2               \n",
              "    A   B   C   D    A    B    C    D\n",
              "0  A0  B0  C0  D0   A8   B8   C8   D8\n",
              "1  A1  B1  C1  D1   A9   B9   C9   D9\n",
              "2  A2  B2  C2  D2  A10  B10  C10  D10\n",
              "3  A3  B3  C3  D3  A11  B11  C11  D11"
            ]
          },
          "metadata": {
            "tags": []
          },
          "execution_count": 97
        }
      ]
    },
    {
      "cell_type": "markdown",
      "metadata": {
        "id": "ZQGSrtrjBdoD",
        "colab_type": "text"
      },
      "source": [
        "Concat the different size data frame vertically"
      ]
    },
    {
      "cell_type": "code",
      "metadata": {
        "id": "BTb8Ff4kDKsP",
        "colab_type": "code",
        "colab": {
          "base_uri": "https://localhost:8080/",
          "height": 453
        },
        "outputId": "d6c77b0e-886f-4f3e-e8d6-0835abcac490"
      },
      "source": [
        "# Concat with Join Outer\n",
        "pd.concat([df1, df4], join='outer', keys=['df1', 'df4'])"
      ],
      "execution_count": 98,
      "outputs": [
        {
          "output_type": "stream",
          "text": [
            "/usr/local/lib/python3.6/dist-packages/ipykernel_launcher.py:1: FutureWarning: Sorting because non-concatenation axis is not aligned. A future version\n",
            "of pandas will change to not sort by default.\n",
            "\n",
            "To accept the future behavior, pass 'sort=False'.\n",
            "\n",
            "To retain the current behavior and silence the warning, pass 'sort=True'.\n",
            "\n",
            "  \"\"\"Entry point for launching an IPython kernel.\n"
          ],
          "name": "stderr"
        },
        {
          "output_type": "execute_result",
          "data": {
            "text/html": [
              "<div>\n",
              "<style scoped>\n",
              "    .dataframe tbody tr th:only-of-type {\n",
              "        vertical-align: middle;\n",
              "    }\n",
              "\n",
              "    .dataframe tbody tr th {\n",
              "        vertical-align: top;\n",
              "    }\n",
              "\n",
              "    .dataframe thead th {\n",
              "        text-align: right;\n",
              "    }\n",
              "</style>\n",
              "<table border=\"1\" class=\"dataframe\">\n",
              "  <thead>\n",
              "    <tr style=\"text-align: right;\">\n",
              "      <th></th>\n",
              "      <th></th>\n",
              "      <th>A</th>\n",
              "      <th>B</th>\n",
              "      <th>C</th>\n",
              "      <th>D</th>\n",
              "      <th>F</th>\n",
              "    </tr>\n",
              "  </thead>\n",
              "  <tbody>\n",
              "    <tr>\n",
              "      <th rowspan=\"4\" valign=\"top\">df1</th>\n",
              "      <th>0</th>\n",
              "      <td>A0</td>\n",
              "      <td>B0</td>\n",
              "      <td>C0</td>\n",
              "      <td>D0</td>\n",
              "      <td>NaN</td>\n",
              "    </tr>\n",
              "    <tr>\n",
              "      <th>1</th>\n",
              "      <td>A1</td>\n",
              "      <td>B1</td>\n",
              "      <td>C1</td>\n",
              "      <td>D1</td>\n",
              "      <td>NaN</td>\n",
              "    </tr>\n",
              "    <tr>\n",
              "      <th>2</th>\n",
              "      <td>A2</td>\n",
              "      <td>B2</td>\n",
              "      <td>C2</td>\n",
              "      <td>D2</td>\n",
              "      <td>NaN</td>\n",
              "    </tr>\n",
              "    <tr>\n",
              "      <th>3</th>\n",
              "      <td>A3</td>\n",
              "      <td>B3</td>\n",
              "      <td>C3</td>\n",
              "      <td>D3</td>\n",
              "      <td>NaN</td>\n",
              "    </tr>\n",
              "    <tr>\n",
              "      <th rowspan=\"4\" valign=\"top\">df4</th>\n",
              "      <th>2</th>\n",
              "      <td>NaN</td>\n",
              "      <td>B2</td>\n",
              "      <td>NaN</td>\n",
              "      <td>D2</td>\n",
              "      <td>F2</td>\n",
              "    </tr>\n",
              "    <tr>\n",
              "      <th>3</th>\n",
              "      <td>NaN</td>\n",
              "      <td>B3</td>\n",
              "      <td>NaN</td>\n",
              "      <td>D3</td>\n",
              "      <td>F3</td>\n",
              "    </tr>\n",
              "    <tr>\n",
              "      <th>6</th>\n",
              "      <td>NaN</td>\n",
              "      <td>B6</td>\n",
              "      <td>NaN</td>\n",
              "      <td>D6</td>\n",
              "      <td>F6</td>\n",
              "    </tr>\n",
              "    <tr>\n",
              "      <th>7</th>\n",
              "      <td>NaN</td>\n",
              "      <td>B7</td>\n",
              "      <td>NaN</td>\n",
              "      <td>D7</td>\n",
              "      <td>F7</td>\n",
              "    </tr>\n",
              "  </tbody>\n",
              "</table>\n",
              "</div>"
            ],
            "text/plain": [
              "         A   B    C   D    F\n",
              "df1 0   A0  B0   C0  D0  NaN\n",
              "    1   A1  B1   C1  D1  NaN\n",
              "    2   A2  B2   C2  D2  NaN\n",
              "    3   A3  B3   C3  D3  NaN\n",
              "df4 2  NaN  B2  NaN  D2   F2\n",
              "    3  NaN  B3  NaN  D3   F3\n",
              "    6  NaN  B6  NaN  D6   F6\n",
              "    7  NaN  B7  NaN  D7   F7"
            ]
          },
          "metadata": {
            "tags": []
          },
          "execution_count": 98
        }
      ]
    },
    {
      "cell_type": "code",
      "metadata": {
        "id": "9EPrcmEpBhzK",
        "colab_type": "code",
        "colab": {
          "base_uri": "https://localhost:8080/",
          "height": 297
        },
        "outputId": "da0a539e-5614-4a87-c417-98a97314b76b"
      },
      "source": [
        "# Concat with Join Inner\n",
        "pd.concat([df1, df4], join='inner', keys=['df1', 'df4'])"
      ],
      "execution_count": 99,
      "outputs": [
        {
          "output_type": "execute_result",
          "data": {
            "text/html": [
              "<div>\n",
              "<style scoped>\n",
              "    .dataframe tbody tr th:only-of-type {\n",
              "        vertical-align: middle;\n",
              "    }\n",
              "\n",
              "    .dataframe tbody tr th {\n",
              "        vertical-align: top;\n",
              "    }\n",
              "\n",
              "    .dataframe thead th {\n",
              "        text-align: right;\n",
              "    }\n",
              "</style>\n",
              "<table border=\"1\" class=\"dataframe\">\n",
              "  <thead>\n",
              "    <tr style=\"text-align: right;\">\n",
              "      <th></th>\n",
              "      <th></th>\n",
              "      <th>B</th>\n",
              "      <th>D</th>\n",
              "    </tr>\n",
              "  </thead>\n",
              "  <tbody>\n",
              "    <tr>\n",
              "      <th rowspan=\"4\" valign=\"top\">df1</th>\n",
              "      <th>0</th>\n",
              "      <td>B0</td>\n",
              "      <td>D0</td>\n",
              "    </tr>\n",
              "    <tr>\n",
              "      <th>1</th>\n",
              "      <td>B1</td>\n",
              "      <td>D1</td>\n",
              "    </tr>\n",
              "    <tr>\n",
              "      <th>2</th>\n",
              "      <td>B2</td>\n",
              "      <td>D2</td>\n",
              "    </tr>\n",
              "    <tr>\n",
              "      <th>3</th>\n",
              "      <td>B3</td>\n",
              "      <td>D3</td>\n",
              "    </tr>\n",
              "    <tr>\n",
              "      <th rowspan=\"4\" valign=\"top\">df4</th>\n",
              "      <th>2</th>\n",
              "      <td>B2</td>\n",
              "      <td>D2</td>\n",
              "    </tr>\n",
              "    <tr>\n",
              "      <th>3</th>\n",
              "      <td>B3</td>\n",
              "      <td>D3</td>\n",
              "    </tr>\n",
              "    <tr>\n",
              "      <th>6</th>\n",
              "      <td>B6</td>\n",
              "      <td>D6</td>\n",
              "    </tr>\n",
              "    <tr>\n",
              "      <th>7</th>\n",
              "      <td>B7</td>\n",
              "      <td>D7</td>\n",
              "    </tr>\n",
              "  </tbody>\n",
              "</table>\n",
              "</div>"
            ],
            "text/plain": [
              "        B   D\n",
              "df1 0  B0  D0\n",
              "    1  B1  D1\n",
              "    2  B2  D2\n",
              "    3  B3  D3\n",
              "df4 2  B2  D2\n",
              "    3  B3  D3\n",
              "    6  B6  D6\n",
              "    7  B7  D7"
            ]
          },
          "metadata": {
            "tags": []
          },
          "execution_count": 99
        }
      ]
    },
    {
      "cell_type": "markdown",
      "metadata": {
        "id": "M53IUMoAELwm",
        "colab_type": "text"
      },
      "source": [
        "Concat the different size data frame horizontally"
      ]
    },
    {
      "cell_type": "code",
      "metadata": {
        "id": "7vakFJQNDmDy",
        "colab_type": "code",
        "colab": {
          "base_uri": "https://localhost:8080/",
          "height": 266
        },
        "outputId": "63ba51b1-6585-4aa7-9bbb-585f26b7bb63"
      },
      "source": [
        "# Concat with Join Outer\n",
        "pd.concat([df1, df4], axis=1, join='outer', keys=['df1', 'df4'])"
      ],
      "execution_count": 100,
      "outputs": [
        {
          "output_type": "execute_result",
          "data": {
            "text/html": [
              "<div>\n",
              "<style scoped>\n",
              "    .dataframe tbody tr th:only-of-type {\n",
              "        vertical-align: middle;\n",
              "    }\n",
              "\n",
              "    .dataframe tbody tr th {\n",
              "        vertical-align: top;\n",
              "    }\n",
              "\n",
              "    .dataframe thead tr th {\n",
              "        text-align: left;\n",
              "    }\n",
              "</style>\n",
              "<table border=\"1\" class=\"dataframe\">\n",
              "  <thead>\n",
              "    <tr>\n",
              "      <th></th>\n",
              "      <th colspan=\"4\" halign=\"left\">df1</th>\n",
              "      <th colspan=\"3\" halign=\"left\">df4</th>\n",
              "    </tr>\n",
              "    <tr>\n",
              "      <th></th>\n",
              "      <th>A</th>\n",
              "      <th>B</th>\n",
              "      <th>C</th>\n",
              "      <th>D</th>\n",
              "      <th>B</th>\n",
              "      <th>D</th>\n",
              "      <th>F</th>\n",
              "    </tr>\n",
              "  </thead>\n",
              "  <tbody>\n",
              "    <tr>\n",
              "      <th>0</th>\n",
              "      <td>A0</td>\n",
              "      <td>B0</td>\n",
              "      <td>C0</td>\n",
              "      <td>D0</td>\n",
              "      <td>NaN</td>\n",
              "      <td>NaN</td>\n",
              "      <td>NaN</td>\n",
              "    </tr>\n",
              "    <tr>\n",
              "      <th>1</th>\n",
              "      <td>A1</td>\n",
              "      <td>B1</td>\n",
              "      <td>C1</td>\n",
              "      <td>D1</td>\n",
              "      <td>NaN</td>\n",
              "      <td>NaN</td>\n",
              "      <td>NaN</td>\n",
              "    </tr>\n",
              "    <tr>\n",
              "      <th>2</th>\n",
              "      <td>A2</td>\n",
              "      <td>B2</td>\n",
              "      <td>C2</td>\n",
              "      <td>D2</td>\n",
              "      <td>B2</td>\n",
              "      <td>D2</td>\n",
              "      <td>F2</td>\n",
              "    </tr>\n",
              "    <tr>\n",
              "      <th>3</th>\n",
              "      <td>A3</td>\n",
              "      <td>B3</td>\n",
              "      <td>C3</td>\n",
              "      <td>D3</td>\n",
              "      <td>B3</td>\n",
              "      <td>D3</td>\n",
              "      <td>F3</td>\n",
              "    </tr>\n",
              "    <tr>\n",
              "      <th>6</th>\n",
              "      <td>NaN</td>\n",
              "      <td>NaN</td>\n",
              "      <td>NaN</td>\n",
              "      <td>NaN</td>\n",
              "      <td>B6</td>\n",
              "      <td>D6</td>\n",
              "      <td>F6</td>\n",
              "    </tr>\n",
              "    <tr>\n",
              "      <th>7</th>\n",
              "      <td>NaN</td>\n",
              "      <td>NaN</td>\n",
              "      <td>NaN</td>\n",
              "      <td>NaN</td>\n",
              "      <td>B7</td>\n",
              "      <td>D7</td>\n",
              "      <td>F7</td>\n",
              "    </tr>\n",
              "  </tbody>\n",
              "</table>\n",
              "</div>"
            ],
            "text/plain": [
              "   df1                 df4          \n",
              "     A    B    C    D    B    D    F\n",
              "0   A0   B0   C0   D0  NaN  NaN  NaN\n",
              "1   A1   B1   C1   D1  NaN  NaN  NaN\n",
              "2   A2   B2   C2   D2   B2   D2   F2\n",
              "3   A3   B3   C3   D3   B3   D3   F3\n",
              "6  NaN  NaN  NaN  NaN   B6   D6   F6\n",
              "7  NaN  NaN  NaN  NaN   B7   D7   F7"
            ]
          },
          "metadata": {
            "tags": []
          },
          "execution_count": 100
        }
      ]
    },
    {
      "cell_type": "code",
      "metadata": {
        "id": "ZBUSXEGlDiEc",
        "colab_type": "code",
        "colab": {
          "base_uri": "https://localhost:8080/",
          "height": 142
        },
        "outputId": "f53f9ce3-6afd-4102-8221-7440dff86040"
      },
      "source": [
        "# Concat with Join Inner\n",
        "pd.concat([df1, df4], axis=1, join='inner', keys=['df1', 'df4'])"
      ],
      "execution_count": 101,
      "outputs": [
        {
          "output_type": "execute_result",
          "data": {
            "text/html": [
              "<div>\n",
              "<style scoped>\n",
              "    .dataframe tbody tr th:only-of-type {\n",
              "        vertical-align: middle;\n",
              "    }\n",
              "\n",
              "    .dataframe tbody tr th {\n",
              "        vertical-align: top;\n",
              "    }\n",
              "\n",
              "    .dataframe thead tr th {\n",
              "        text-align: left;\n",
              "    }\n",
              "</style>\n",
              "<table border=\"1\" class=\"dataframe\">\n",
              "  <thead>\n",
              "    <tr>\n",
              "      <th></th>\n",
              "      <th colspan=\"4\" halign=\"left\">df1</th>\n",
              "      <th colspan=\"3\" halign=\"left\">df4</th>\n",
              "    </tr>\n",
              "    <tr>\n",
              "      <th></th>\n",
              "      <th>A</th>\n",
              "      <th>B</th>\n",
              "      <th>C</th>\n",
              "      <th>D</th>\n",
              "      <th>B</th>\n",
              "      <th>D</th>\n",
              "      <th>F</th>\n",
              "    </tr>\n",
              "  </thead>\n",
              "  <tbody>\n",
              "    <tr>\n",
              "      <th>2</th>\n",
              "      <td>A2</td>\n",
              "      <td>B2</td>\n",
              "      <td>C2</td>\n",
              "      <td>D2</td>\n",
              "      <td>B2</td>\n",
              "      <td>D2</td>\n",
              "      <td>F2</td>\n",
              "    </tr>\n",
              "    <tr>\n",
              "      <th>3</th>\n",
              "      <td>A3</td>\n",
              "      <td>B3</td>\n",
              "      <td>C3</td>\n",
              "      <td>D3</td>\n",
              "      <td>B3</td>\n",
              "      <td>D3</td>\n",
              "      <td>F3</td>\n",
              "    </tr>\n",
              "  </tbody>\n",
              "</table>\n",
              "</div>"
            ],
            "text/plain": [
              "  df1             df4        \n",
              "    A   B   C   D   B   D   F\n",
              "2  A2  B2  C2  D2  B2  D2  F2\n",
              "3  A3  B3  C3  D3  B3  D3  F3"
            ]
          },
          "metadata": {
            "tags": []
          },
          "execution_count": 101
        }
      ]
    },
    {
      "cell_type": "markdown",
      "metadata": {
        "id": "3lUDFdpfFPWa",
        "colab_type": "text"
      },
      "source": [
        "Ignoring indexes on the concatenation axis"
      ]
    },
    {
      "cell_type": "code",
      "metadata": {
        "id": "-YVyohhaFQvH",
        "colab_type": "code",
        "colab": {
          "base_uri": "https://localhost:8080/",
          "height": 235
        },
        "outputId": "2b91a87d-a6ca-4b2f-d001-27d371e73af3"
      },
      "source": [
        "# Concat and Ignore Index\n",
        "pd.concat([df1, df4], axis=1, join='outer', ignore_index=True)"
      ],
      "execution_count": 102,
      "outputs": [
        {
          "output_type": "execute_result",
          "data": {
            "text/html": [
              "<div>\n",
              "<style scoped>\n",
              "    .dataframe tbody tr th:only-of-type {\n",
              "        vertical-align: middle;\n",
              "    }\n",
              "\n",
              "    .dataframe tbody tr th {\n",
              "        vertical-align: top;\n",
              "    }\n",
              "\n",
              "    .dataframe thead th {\n",
              "        text-align: right;\n",
              "    }\n",
              "</style>\n",
              "<table border=\"1\" class=\"dataframe\">\n",
              "  <thead>\n",
              "    <tr style=\"text-align: right;\">\n",
              "      <th></th>\n",
              "      <th>0</th>\n",
              "      <th>1</th>\n",
              "      <th>2</th>\n",
              "      <th>3</th>\n",
              "      <th>4</th>\n",
              "      <th>5</th>\n",
              "      <th>6</th>\n",
              "    </tr>\n",
              "  </thead>\n",
              "  <tbody>\n",
              "    <tr>\n",
              "      <th>0</th>\n",
              "      <td>A0</td>\n",
              "      <td>B0</td>\n",
              "      <td>C0</td>\n",
              "      <td>D0</td>\n",
              "      <td>NaN</td>\n",
              "      <td>NaN</td>\n",
              "      <td>NaN</td>\n",
              "    </tr>\n",
              "    <tr>\n",
              "      <th>1</th>\n",
              "      <td>A1</td>\n",
              "      <td>B1</td>\n",
              "      <td>C1</td>\n",
              "      <td>D1</td>\n",
              "      <td>NaN</td>\n",
              "      <td>NaN</td>\n",
              "      <td>NaN</td>\n",
              "    </tr>\n",
              "    <tr>\n",
              "      <th>2</th>\n",
              "      <td>A2</td>\n",
              "      <td>B2</td>\n",
              "      <td>C2</td>\n",
              "      <td>D2</td>\n",
              "      <td>B2</td>\n",
              "      <td>D2</td>\n",
              "      <td>F2</td>\n",
              "    </tr>\n",
              "    <tr>\n",
              "      <th>3</th>\n",
              "      <td>A3</td>\n",
              "      <td>B3</td>\n",
              "      <td>C3</td>\n",
              "      <td>D3</td>\n",
              "      <td>B3</td>\n",
              "      <td>D3</td>\n",
              "      <td>F3</td>\n",
              "    </tr>\n",
              "    <tr>\n",
              "      <th>6</th>\n",
              "      <td>NaN</td>\n",
              "      <td>NaN</td>\n",
              "      <td>NaN</td>\n",
              "      <td>NaN</td>\n",
              "      <td>B6</td>\n",
              "      <td>D6</td>\n",
              "      <td>F6</td>\n",
              "    </tr>\n",
              "    <tr>\n",
              "      <th>7</th>\n",
              "      <td>NaN</td>\n",
              "      <td>NaN</td>\n",
              "      <td>NaN</td>\n",
              "      <td>NaN</td>\n",
              "      <td>B7</td>\n",
              "      <td>D7</td>\n",
              "      <td>F7</td>\n",
              "    </tr>\n",
              "  </tbody>\n",
              "</table>\n",
              "</div>"
            ],
            "text/plain": [
              "     0    1    2    3    4    5    6\n",
              "0   A0   B0   C0   D0  NaN  NaN  NaN\n",
              "1   A1   B1   C1   D1  NaN  NaN  NaN\n",
              "2   A2   B2   C2   D2   B2   D2   F2\n",
              "3   A3   B3   C3   D3   B3   D3   F3\n",
              "6  NaN  NaN  NaN  NaN   B6   D6   F6\n",
              "7  NaN  NaN  NaN  NaN   B7   D7   F7"
            ]
          },
          "metadata": {
            "tags": []
          },
          "execution_count": 102
        }
      ]
    },
    {
      "cell_type": "markdown",
      "metadata": {
        "id": "8FFBkHt_FJoN",
        "colab_type": "text"
      },
      "source": [
        "### Merging"
      ]
    },
    {
      "cell_type": "markdown",
      "metadata": {
        "id": "m8D8E-ldZoiQ",
        "colab_type": "text"
      },
      "source": [
        "Merge operations combine data by linking rows using key(s). These operations are central to relational databases. The merge function in pandas is the main entry point for using these algorithms on your data."
      ]
    },
    {
      "cell_type": "markdown",
      "metadata": {
        "id": "wr0I9JI43pGe",
        "colab_type": "text"
      },
      "source": [
        "Create data frame"
      ]
    },
    {
      "cell_type": "code",
      "metadata": {
        "id": "OrYPJy0TETUr",
        "colab_type": "code",
        "colab": {
          "base_uri": "https://localhost:8080/",
          "height": 266
        },
        "outputId": "d16e9f9f-d1f9-42b3-b4fb-8b7acfe654e3"
      },
      "source": [
        "# Create Pet Weight Data Frame\n",
        "df_pets_age = pd.DataFrame( {'pet'  : ['cat', 'cat', 'dog', 'dog', 'dog', 'otter', 'otter'],\n",
        "                             'age'  : [1, 1, 3, 3, 5, 2, 4]})\n",
        "df_pets_age"
      ],
      "execution_count": 103,
      "outputs": [
        {
          "output_type": "execute_result",
          "data": {
            "text/html": [
              "<div>\n",
              "<style scoped>\n",
              "    .dataframe tbody tr th:only-of-type {\n",
              "        vertical-align: middle;\n",
              "    }\n",
              "\n",
              "    .dataframe tbody tr th {\n",
              "        vertical-align: top;\n",
              "    }\n",
              "\n",
              "    .dataframe thead th {\n",
              "        text-align: right;\n",
              "    }\n",
              "</style>\n",
              "<table border=\"1\" class=\"dataframe\">\n",
              "  <thead>\n",
              "    <tr style=\"text-align: right;\">\n",
              "      <th></th>\n",
              "      <th>pet</th>\n",
              "      <th>age</th>\n",
              "    </tr>\n",
              "  </thead>\n",
              "  <tbody>\n",
              "    <tr>\n",
              "      <th>0</th>\n",
              "      <td>cat</td>\n",
              "      <td>1</td>\n",
              "    </tr>\n",
              "    <tr>\n",
              "      <th>1</th>\n",
              "      <td>cat</td>\n",
              "      <td>1</td>\n",
              "    </tr>\n",
              "    <tr>\n",
              "      <th>2</th>\n",
              "      <td>dog</td>\n",
              "      <td>3</td>\n",
              "    </tr>\n",
              "    <tr>\n",
              "      <th>3</th>\n",
              "      <td>dog</td>\n",
              "      <td>3</td>\n",
              "    </tr>\n",
              "    <tr>\n",
              "      <th>4</th>\n",
              "      <td>dog</td>\n",
              "      <td>5</td>\n",
              "    </tr>\n",
              "    <tr>\n",
              "      <th>5</th>\n",
              "      <td>otter</td>\n",
              "      <td>2</td>\n",
              "    </tr>\n",
              "    <tr>\n",
              "      <th>6</th>\n",
              "      <td>otter</td>\n",
              "      <td>4</td>\n",
              "    </tr>\n",
              "  </tbody>\n",
              "</table>\n",
              "</div>"
            ],
            "text/plain": [
              "     pet  age\n",
              "0    cat    1\n",
              "1    cat    1\n",
              "2    dog    3\n",
              "3    dog    3\n",
              "4    dog    5\n",
              "5  otter    2\n",
              "6  otter    4"
            ]
          },
          "metadata": {
            "tags": []
          },
          "execution_count": 103
        }
      ]
    },
    {
      "cell_type": "code",
      "metadata": {
        "id": "UUyA1iWO4AmS",
        "colab_type": "code",
        "colab": {
          "base_uri": "https://localhost:8080/",
          "height": 173
        },
        "outputId": "ac00c8ed-9e69-4d8b-a22b-0c5925c4e6b3"
      },
      "source": [
        "# Create Pet Color Data Frame\n",
        "df_pets_color = pd.DataFrame({'pet': ['cat', 'dog', 'otter', 'lion'],\n",
        "                             'color' : ['white', 'grey', 'brown', 'red']})\n",
        "df_pets_color"
      ],
      "execution_count": 104,
      "outputs": [
        {
          "output_type": "execute_result",
          "data": {
            "text/html": [
              "<div>\n",
              "<style scoped>\n",
              "    .dataframe tbody tr th:only-of-type {\n",
              "        vertical-align: middle;\n",
              "    }\n",
              "\n",
              "    .dataframe tbody tr th {\n",
              "        vertical-align: top;\n",
              "    }\n",
              "\n",
              "    .dataframe thead th {\n",
              "        text-align: right;\n",
              "    }\n",
              "</style>\n",
              "<table border=\"1\" class=\"dataframe\">\n",
              "  <thead>\n",
              "    <tr style=\"text-align: right;\">\n",
              "      <th></th>\n",
              "      <th>pet</th>\n",
              "      <th>color</th>\n",
              "    </tr>\n",
              "  </thead>\n",
              "  <tbody>\n",
              "    <tr>\n",
              "      <th>0</th>\n",
              "      <td>cat</td>\n",
              "      <td>white</td>\n",
              "    </tr>\n",
              "    <tr>\n",
              "      <th>1</th>\n",
              "      <td>dog</td>\n",
              "      <td>grey</td>\n",
              "    </tr>\n",
              "    <tr>\n",
              "      <th>2</th>\n",
              "      <td>otter</td>\n",
              "      <td>brown</td>\n",
              "    </tr>\n",
              "    <tr>\n",
              "      <th>3</th>\n",
              "      <td>lion</td>\n",
              "      <td>red</td>\n",
              "    </tr>\n",
              "  </tbody>\n",
              "</table>\n",
              "</div>"
            ],
            "text/plain": [
              "     pet  color\n",
              "0    cat  white\n",
              "1    dog   grey\n",
              "2  otter  brown\n",
              "3   lion    red"
            ]
          },
          "metadata": {
            "tags": []
          },
          "execution_count": 104
        }
      ]
    },
    {
      "cell_type": "code",
      "metadata": {
        "id": "qHdKO0oJ5LII",
        "colab_type": "code",
        "colab": {
          "base_uri": "https://localhost:8080/",
          "height": 173
        },
        "outputId": "b80b37be-89de-4faf-ad16-c29f9c7bf59d"
      },
      "source": [
        "# Create Animal Type Data Frame\n",
        "df_animals_type = pd.DataFrame({'animal': ['cat', 'dog', 'otter', 'lion'],\n",
        "                                'type' : ['tame', 'tame', 'tame', 'wild']})\n",
        "df_animals_type"
      ],
      "execution_count": 105,
      "outputs": [
        {
          "output_type": "execute_result",
          "data": {
            "text/html": [
              "<div>\n",
              "<style scoped>\n",
              "    .dataframe tbody tr th:only-of-type {\n",
              "        vertical-align: middle;\n",
              "    }\n",
              "\n",
              "    .dataframe tbody tr th {\n",
              "        vertical-align: top;\n",
              "    }\n",
              "\n",
              "    .dataframe thead th {\n",
              "        text-align: right;\n",
              "    }\n",
              "</style>\n",
              "<table border=\"1\" class=\"dataframe\">\n",
              "  <thead>\n",
              "    <tr style=\"text-align: right;\">\n",
              "      <th></th>\n",
              "      <th>animal</th>\n",
              "      <th>type</th>\n",
              "    </tr>\n",
              "  </thead>\n",
              "  <tbody>\n",
              "    <tr>\n",
              "      <th>0</th>\n",
              "      <td>cat</td>\n",
              "      <td>tame</td>\n",
              "    </tr>\n",
              "    <tr>\n",
              "      <th>1</th>\n",
              "      <td>dog</td>\n",
              "      <td>tame</td>\n",
              "    </tr>\n",
              "    <tr>\n",
              "      <th>2</th>\n",
              "      <td>otter</td>\n",
              "      <td>tame</td>\n",
              "    </tr>\n",
              "    <tr>\n",
              "      <th>3</th>\n",
              "      <td>lion</td>\n",
              "      <td>wild</td>\n",
              "    </tr>\n",
              "  </tbody>\n",
              "</table>\n",
              "</div>"
            ],
            "text/plain": [
              "  animal  type\n",
              "0    cat  tame\n",
              "1    dog  tame\n",
              "2  otter  tame\n",
              "3   lion  wild"
            ]
          },
          "metadata": {
            "tags": []
          },
          "execution_count": 105
        }
      ]
    },
    {
      "cell_type": "markdown",
      "metadata": {
        "id": "Ct7_FfRl6CHs",
        "colab_type": "text"
      },
      "source": [
        "Merge with the same key column name"
      ]
    },
    {
      "cell_type": "code",
      "metadata": {
        "id": "ryZ4NprEFe_C",
        "colab_type": "code",
        "colab": {
          "base_uri": "https://localhost:8080/",
          "height": 266
        },
        "outputId": "ea9527dc-cb4a-4242-c9cf-fe52c9ffc564"
      },
      "source": [
        "# Merge Pet Age and Pet Color based on pet Column\n",
        "df_pets = pd.merge(df_pets_age, df_pets_color, on='pet')\n",
        "df_pets"
      ],
      "execution_count": 106,
      "outputs": [
        {
          "output_type": "execute_result",
          "data": {
            "text/html": [
              "<div>\n",
              "<style scoped>\n",
              "    .dataframe tbody tr th:only-of-type {\n",
              "        vertical-align: middle;\n",
              "    }\n",
              "\n",
              "    .dataframe tbody tr th {\n",
              "        vertical-align: top;\n",
              "    }\n",
              "\n",
              "    .dataframe thead th {\n",
              "        text-align: right;\n",
              "    }\n",
              "</style>\n",
              "<table border=\"1\" class=\"dataframe\">\n",
              "  <thead>\n",
              "    <tr style=\"text-align: right;\">\n",
              "      <th></th>\n",
              "      <th>pet</th>\n",
              "      <th>age</th>\n",
              "      <th>color</th>\n",
              "    </tr>\n",
              "  </thead>\n",
              "  <tbody>\n",
              "    <tr>\n",
              "      <th>0</th>\n",
              "      <td>cat</td>\n",
              "      <td>1</td>\n",
              "      <td>white</td>\n",
              "    </tr>\n",
              "    <tr>\n",
              "      <th>1</th>\n",
              "      <td>cat</td>\n",
              "      <td>1</td>\n",
              "      <td>white</td>\n",
              "    </tr>\n",
              "    <tr>\n",
              "      <th>2</th>\n",
              "      <td>dog</td>\n",
              "      <td>3</td>\n",
              "      <td>grey</td>\n",
              "    </tr>\n",
              "    <tr>\n",
              "      <th>3</th>\n",
              "      <td>dog</td>\n",
              "      <td>3</td>\n",
              "      <td>grey</td>\n",
              "    </tr>\n",
              "    <tr>\n",
              "      <th>4</th>\n",
              "      <td>dog</td>\n",
              "      <td>5</td>\n",
              "      <td>grey</td>\n",
              "    </tr>\n",
              "    <tr>\n",
              "      <th>5</th>\n",
              "      <td>otter</td>\n",
              "      <td>2</td>\n",
              "      <td>brown</td>\n",
              "    </tr>\n",
              "    <tr>\n",
              "      <th>6</th>\n",
              "      <td>otter</td>\n",
              "      <td>4</td>\n",
              "      <td>brown</td>\n",
              "    </tr>\n",
              "  </tbody>\n",
              "</table>\n",
              "</div>"
            ],
            "text/plain": [
              "     pet  age  color\n",
              "0    cat    1  white\n",
              "1    cat    1  white\n",
              "2    dog    3   grey\n",
              "3    dog    3   grey\n",
              "4    dog    5   grey\n",
              "5  otter    2  brown\n",
              "6  otter    4  brown"
            ]
          },
          "metadata": {
            "tags": []
          },
          "execution_count": 106
        }
      ]
    },
    {
      "cell_type": "markdown",
      "metadata": {
        "id": "CIE2_4DgbHkv",
        "colab_type": "text"
      },
      "source": [
        "If the column names are different in each data frame, you can specify them separately:"
      ]
    },
    {
      "cell_type": "code",
      "metadata": {
        "id": "ezmUfLybbV96",
        "colab_type": "code",
        "colab": {
          "base_uri": "https://localhost:8080/",
          "height": 266
        },
        "outputId": "c411ee39-8492-4482-9445-637953f930ba"
      },
      "source": [
        "# Merge Pet Weight and Pet Color based on pet Column and animal Column\n",
        "df_pets1 = pd.merge(df_pets_age, df_animals_type, left_on='pet', right_on='animal')\n",
        "df_pets1"
      ],
      "execution_count": 107,
      "outputs": [
        {
          "output_type": "execute_result",
          "data": {
            "text/html": [
              "<div>\n",
              "<style scoped>\n",
              "    .dataframe tbody tr th:only-of-type {\n",
              "        vertical-align: middle;\n",
              "    }\n",
              "\n",
              "    .dataframe tbody tr th {\n",
              "        vertical-align: top;\n",
              "    }\n",
              "\n",
              "    .dataframe thead th {\n",
              "        text-align: right;\n",
              "    }\n",
              "</style>\n",
              "<table border=\"1\" class=\"dataframe\">\n",
              "  <thead>\n",
              "    <tr style=\"text-align: right;\">\n",
              "      <th></th>\n",
              "      <th>pet</th>\n",
              "      <th>age</th>\n",
              "      <th>animal</th>\n",
              "      <th>type</th>\n",
              "    </tr>\n",
              "  </thead>\n",
              "  <tbody>\n",
              "    <tr>\n",
              "      <th>0</th>\n",
              "      <td>cat</td>\n",
              "      <td>1</td>\n",
              "      <td>cat</td>\n",
              "      <td>tame</td>\n",
              "    </tr>\n",
              "    <tr>\n",
              "      <th>1</th>\n",
              "      <td>cat</td>\n",
              "      <td>1</td>\n",
              "      <td>cat</td>\n",
              "      <td>tame</td>\n",
              "    </tr>\n",
              "    <tr>\n",
              "      <th>2</th>\n",
              "      <td>dog</td>\n",
              "      <td>3</td>\n",
              "      <td>dog</td>\n",
              "      <td>tame</td>\n",
              "    </tr>\n",
              "    <tr>\n",
              "      <th>3</th>\n",
              "      <td>dog</td>\n",
              "      <td>3</td>\n",
              "      <td>dog</td>\n",
              "      <td>tame</td>\n",
              "    </tr>\n",
              "    <tr>\n",
              "      <th>4</th>\n",
              "      <td>dog</td>\n",
              "      <td>5</td>\n",
              "      <td>dog</td>\n",
              "      <td>tame</td>\n",
              "    </tr>\n",
              "    <tr>\n",
              "      <th>5</th>\n",
              "      <td>otter</td>\n",
              "      <td>2</td>\n",
              "      <td>otter</td>\n",
              "      <td>tame</td>\n",
              "    </tr>\n",
              "    <tr>\n",
              "      <th>6</th>\n",
              "      <td>otter</td>\n",
              "      <td>4</td>\n",
              "      <td>otter</td>\n",
              "      <td>tame</td>\n",
              "    </tr>\n",
              "  </tbody>\n",
              "</table>\n",
              "</div>"
            ],
            "text/plain": [
              "     pet  age animal  type\n",
              "0    cat    1    cat  tame\n",
              "1    cat    1    cat  tame\n",
              "2    dog    3    dog  tame\n",
              "3    dog    3    dog  tame\n",
              "4    dog    5    dog  tame\n",
              "5  otter    2  otter  tame\n",
              "6  otter    4  otter  tame"
            ]
          },
          "metadata": {
            "tags": []
          },
          "execution_count": 107
        }
      ]
    },
    {
      "cell_type": "markdown",
      "metadata": {
        "id": "JQJ9cfrNLPks",
        "colab_type": "text"
      },
      "source": [
        "### Reshaping"
      ]
    },
    {
      "cell_type": "markdown",
      "metadata": {
        "id": "ZdhnVuuccqEs",
        "colab_type": "text"
      },
      "source": [
        "Reshaping means the transformation of the structure of data to make it suitable for further analysis."
      ]
    },
    {
      "cell_type": "markdown",
      "metadata": {
        "id": "q6jN1H9aSOBc",
        "colab_type": "text"
      },
      "source": [
        "Create data frame"
      ]
    },
    {
      "cell_type": "code",
      "metadata": {
        "id": "m31it5MRLSvt",
        "colab_type": "code",
        "colab": {
          "base_uri": "https://localhost:8080/",
          "height": 142
        },
        "outputId": "e0621f84-9d97-4627-9fda-6cfc3926bfb9"
      },
      "source": [
        "# Create Data Frame\n",
        "df_city = pd.DataFrame({'kecamatan' : pd.Series([21, 30], index =['medan', 'bandung']), \n",
        "                        'kelurahan' : pd.Series([151, 151], index =['medan', 'bandung']),\n",
        "                        'area' : pd.Series([265, 167], index =['medan', 'bandung'])})\n",
        "df_city.index.name = 'city'\n",
        "df_city"
      ],
      "execution_count": 108,
      "outputs": [
        {
          "output_type": "execute_result",
          "data": {
            "text/html": [
              "<div>\n",
              "<style scoped>\n",
              "    .dataframe tbody tr th:only-of-type {\n",
              "        vertical-align: middle;\n",
              "    }\n",
              "\n",
              "    .dataframe tbody tr th {\n",
              "        vertical-align: top;\n",
              "    }\n",
              "\n",
              "    .dataframe thead th {\n",
              "        text-align: right;\n",
              "    }\n",
              "</style>\n",
              "<table border=\"1\" class=\"dataframe\">\n",
              "  <thead>\n",
              "    <tr style=\"text-align: right;\">\n",
              "      <th></th>\n",
              "      <th>kecamatan</th>\n",
              "      <th>kelurahan</th>\n",
              "      <th>area</th>\n",
              "    </tr>\n",
              "    <tr>\n",
              "      <th>city</th>\n",
              "      <th></th>\n",
              "      <th></th>\n",
              "      <th></th>\n",
              "    </tr>\n",
              "  </thead>\n",
              "  <tbody>\n",
              "    <tr>\n",
              "      <th>medan</th>\n",
              "      <td>21</td>\n",
              "      <td>151</td>\n",
              "      <td>265</td>\n",
              "    </tr>\n",
              "    <tr>\n",
              "      <th>bandung</th>\n",
              "      <td>30</td>\n",
              "      <td>151</td>\n",
              "      <td>167</td>\n",
              "    </tr>\n",
              "  </tbody>\n",
              "</table>\n",
              "</div>"
            ],
            "text/plain": [
              "         kecamatan  kelurahan  area\n",
              "city                               \n",
              "medan           21        151   265\n",
              "bandung         30        151   167"
            ]
          },
          "metadata": {
            "tags": []
          },
          "execution_count": 108
        }
      ]
    },
    {
      "cell_type": "markdown",
      "metadata": {
        "id": "crWQg3-2csHT",
        "colab_type": "text"
      },
      "source": [
        "Using the stack method on this data pivots the columns into the rows, producing a Series:"
      ]
    },
    {
      "cell_type": "code",
      "metadata": {
        "id": "hpmvT3jXRuEA",
        "colab_type": "code",
        "colab": {
          "base_uri": "https://localhost:8080/",
          "height": 153
        },
        "outputId": "1999a40b-37cc-42f1-fc99-4501da566a9d"
      },
      "source": [
        "# Stack Data\n",
        "result = df_city.stack()\n",
        "result"
      ],
      "execution_count": 110,
      "outputs": [
        {
          "output_type": "execute_result",
          "data": {
            "text/plain": [
              "city              \n",
              "medan    kecamatan     21\n",
              "         kelurahan    151\n",
              "         area         265\n",
              "bandung  kecamatan     30\n",
              "         kelurahan    151\n",
              "         area         167\n",
              "dtype: int64"
            ]
          },
          "metadata": {
            "tags": []
          },
          "execution_count": 110
        }
      ]
    },
    {
      "cell_type": "markdown",
      "metadata": {
        "id": "gdFbIIgVcvd2",
        "colab_type": "text"
      },
      "source": [
        "\n",
        "From a hierarchically-indexed Series, you can rearrange the data back into a DataFrame with unstack:"
      ]
    },
    {
      "cell_type": "code",
      "metadata": {
        "id": "hAMEKBV4Rwzo",
        "colab_type": "code",
        "colab": {
          "base_uri": "https://localhost:8080/",
          "height": 142
        },
        "outputId": "50b80f3f-79ca-4bed-ff4b-acb3e9d1c198"
      },
      "source": [
        "# Unstack Data\n",
        "result.unstack()"
      ],
      "execution_count": 111,
      "outputs": [
        {
          "output_type": "execute_result",
          "data": {
            "text/html": [
              "<div>\n",
              "<style scoped>\n",
              "    .dataframe tbody tr th:only-of-type {\n",
              "        vertical-align: middle;\n",
              "    }\n",
              "\n",
              "    .dataframe tbody tr th {\n",
              "        vertical-align: top;\n",
              "    }\n",
              "\n",
              "    .dataframe thead th {\n",
              "        text-align: right;\n",
              "    }\n",
              "</style>\n",
              "<table border=\"1\" class=\"dataframe\">\n",
              "  <thead>\n",
              "    <tr style=\"text-align: right;\">\n",
              "      <th></th>\n",
              "      <th>kecamatan</th>\n",
              "      <th>kelurahan</th>\n",
              "      <th>area</th>\n",
              "    </tr>\n",
              "    <tr>\n",
              "      <th>city</th>\n",
              "      <th></th>\n",
              "      <th></th>\n",
              "      <th></th>\n",
              "    </tr>\n",
              "  </thead>\n",
              "  <tbody>\n",
              "    <tr>\n",
              "      <th>medan</th>\n",
              "      <td>21</td>\n",
              "      <td>151</td>\n",
              "      <td>265</td>\n",
              "    </tr>\n",
              "    <tr>\n",
              "      <th>bandung</th>\n",
              "      <td>30</td>\n",
              "      <td>151</td>\n",
              "      <td>167</td>\n",
              "    </tr>\n",
              "  </tbody>\n",
              "</table>\n",
              "</div>"
            ],
            "text/plain": [
              "         kecamatan  kelurahan  area\n",
              "city                               \n",
              "medan           21        151   265\n",
              "bandung         30        151   167"
            ]
          },
          "metadata": {
            "tags": []
          },
          "execution_count": 111
        }
      ]
    },
    {
      "cell_type": "markdown",
      "metadata": {
        "id": "SgCp6WWScwk6",
        "colab_type": "text"
      },
      "source": [
        "\n",
        "By default the innermost level is unstacked (same with stack). You can unstack a different level by passing a level number or name:"
      ]
    },
    {
      "cell_type": "code",
      "metadata": {
        "id": "vHhaPGrXR6VP",
        "colab_type": "code",
        "colab": {
          "base_uri": "https://localhost:8080/",
          "height": 142
        },
        "outputId": "3c9a3518-8013-4648-e094-e94914dac702"
      },
      "source": [
        "# Unstack in Different Level\n",
        "result.unstack(0)"
      ],
      "execution_count": 112,
      "outputs": [
        {
          "output_type": "execute_result",
          "data": {
            "text/html": [
              "<div>\n",
              "<style scoped>\n",
              "    .dataframe tbody tr th:only-of-type {\n",
              "        vertical-align: middle;\n",
              "    }\n",
              "\n",
              "    .dataframe tbody tr th {\n",
              "        vertical-align: top;\n",
              "    }\n",
              "\n",
              "    .dataframe thead th {\n",
              "        text-align: right;\n",
              "    }\n",
              "</style>\n",
              "<table border=\"1\" class=\"dataframe\">\n",
              "  <thead>\n",
              "    <tr style=\"text-align: right;\">\n",
              "      <th>city</th>\n",
              "      <th>medan</th>\n",
              "      <th>bandung</th>\n",
              "    </tr>\n",
              "  </thead>\n",
              "  <tbody>\n",
              "    <tr>\n",
              "      <th>kecamatan</th>\n",
              "      <td>21</td>\n",
              "      <td>30</td>\n",
              "    </tr>\n",
              "    <tr>\n",
              "      <th>kelurahan</th>\n",
              "      <td>151</td>\n",
              "      <td>151</td>\n",
              "    </tr>\n",
              "    <tr>\n",
              "      <th>area</th>\n",
              "      <td>265</td>\n",
              "      <td>167</td>\n",
              "    </tr>\n",
              "  </tbody>\n",
              "</table>\n",
              "</div>"
            ],
            "text/plain": [
              "city       medan  bandung\n",
              "kecamatan     21       30\n",
              "kelurahan    151      151\n",
              "area         265      167"
            ]
          },
          "metadata": {
            "tags": []
          },
          "execution_count": 112
        }
      ]
    },
    {
      "cell_type": "code",
      "metadata": {
        "id": "CcxB4vz9R_QF",
        "colab_type": "code",
        "colab": {
          "base_uri": "https://localhost:8080/",
          "height": 142
        },
        "outputId": "fedd6c84-8e50-4a2d-b63a-295b3c13da87"
      },
      "source": [
        "# Unstack in Different Level\n",
        "result.unstack('city')"
      ],
      "execution_count": 113,
      "outputs": [
        {
          "output_type": "execute_result",
          "data": {
            "text/html": [
              "<div>\n",
              "<style scoped>\n",
              "    .dataframe tbody tr th:only-of-type {\n",
              "        vertical-align: middle;\n",
              "    }\n",
              "\n",
              "    .dataframe tbody tr th {\n",
              "        vertical-align: top;\n",
              "    }\n",
              "\n",
              "    .dataframe thead th {\n",
              "        text-align: right;\n",
              "    }\n",
              "</style>\n",
              "<table border=\"1\" class=\"dataframe\">\n",
              "  <thead>\n",
              "    <tr style=\"text-align: right;\">\n",
              "      <th>city</th>\n",
              "      <th>medan</th>\n",
              "      <th>bandung</th>\n",
              "    </tr>\n",
              "  </thead>\n",
              "  <tbody>\n",
              "    <tr>\n",
              "      <th>kecamatan</th>\n",
              "      <td>21</td>\n",
              "      <td>30</td>\n",
              "    </tr>\n",
              "    <tr>\n",
              "      <th>kelurahan</th>\n",
              "      <td>151</td>\n",
              "      <td>151</td>\n",
              "    </tr>\n",
              "    <tr>\n",
              "      <th>area</th>\n",
              "      <td>265</td>\n",
              "      <td>167</td>\n",
              "    </tr>\n",
              "  </tbody>\n",
              "</table>\n",
              "</div>"
            ],
            "text/plain": [
              "city       medan  bandung\n",
              "kecamatan     21       30\n",
              "kelurahan    151      151\n",
              "area         265      167"
            ]
          },
          "metadata": {
            "tags": []
          },
          "execution_count": 113
        }
      ]
    },
    {
      "cell_type": "markdown",
      "metadata": {
        "id": "SMUoRYiOSwuP",
        "colab_type": "text"
      },
      "source": [
        "## Data Cleansing"
      ]
    },
    {
      "cell_type": "markdown",
      "metadata": {
        "id": "D-X35xaZTCpC",
        "colab_type": "text"
      },
      "source": [
        "### Removing Duplicates"
      ]
    },
    {
      "cell_type": "markdown",
      "metadata": {
        "id": "dwDn2-8bWluN",
        "colab_type": "text"
      },
      "source": [
        "Duplicate rows may be found in a DataFrame for any number of reasons. Here is an example. We use pet dataframe that already created before."
      ]
    },
    {
      "cell_type": "markdown",
      "metadata": {
        "id": "w4aRdZtwSeCl",
        "colab_type": "text"
      },
      "source": [
        "Show data frame"
      ]
    },
    {
      "cell_type": "code",
      "metadata": {
        "id": "aPHmp8hDS-6j",
        "colab_type": "code",
        "colab": {
          "base_uri": "https://localhost:8080/",
          "height": 266
        },
        "outputId": "9302629a-2c11-4d8c-fa1f-9288a6ae033a"
      },
      "source": [
        "# Show the Data Frame\n",
        "df_pets"
      ],
      "execution_count": 114,
      "outputs": [
        {
          "output_type": "execute_result",
          "data": {
            "text/html": [
              "<div>\n",
              "<style scoped>\n",
              "    .dataframe tbody tr th:only-of-type {\n",
              "        vertical-align: middle;\n",
              "    }\n",
              "\n",
              "    .dataframe tbody tr th {\n",
              "        vertical-align: top;\n",
              "    }\n",
              "\n",
              "    .dataframe thead th {\n",
              "        text-align: right;\n",
              "    }\n",
              "</style>\n",
              "<table border=\"1\" class=\"dataframe\">\n",
              "  <thead>\n",
              "    <tr style=\"text-align: right;\">\n",
              "      <th></th>\n",
              "      <th>pet</th>\n",
              "      <th>age</th>\n",
              "      <th>color</th>\n",
              "    </tr>\n",
              "  </thead>\n",
              "  <tbody>\n",
              "    <tr>\n",
              "      <th>0</th>\n",
              "      <td>cat</td>\n",
              "      <td>1</td>\n",
              "      <td>white</td>\n",
              "    </tr>\n",
              "    <tr>\n",
              "      <th>1</th>\n",
              "      <td>cat</td>\n",
              "      <td>1</td>\n",
              "      <td>white</td>\n",
              "    </tr>\n",
              "    <tr>\n",
              "      <th>2</th>\n",
              "      <td>dog</td>\n",
              "      <td>3</td>\n",
              "      <td>grey</td>\n",
              "    </tr>\n",
              "    <tr>\n",
              "      <th>3</th>\n",
              "      <td>dog</td>\n",
              "      <td>3</td>\n",
              "      <td>grey</td>\n",
              "    </tr>\n",
              "    <tr>\n",
              "      <th>4</th>\n",
              "      <td>dog</td>\n",
              "      <td>5</td>\n",
              "      <td>grey</td>\n",
              "    </tr>\n",
              "    <tr>\n",
              "      <th>5</th>\n",
              "      <td>otter</td>\n",
              "      <td>2</td>\n",
              "      <td>brown</td>\n",
              "    </tr>\n",
              "    <tr>\n",
              "      <th>6</th>\n",
              "      <td>otter</td>\n",
              "      <td>4</td>\n",
              "      <td>brown</td>\n",
              "    </tr>\n",
              "  </tbody>\n",
              "</table>\n",
              "</div>"
            ],
            "text/plain": [
              "     pet  age  color\n",
              "0    cat    1  white\n",
              "1    cat    1  white\n",
              "2    dog    3   grey\n",
              "3    dog    3   grey\n",
              "4    dog    5   grey\n",
              "5  otter    2  brown\n",
              "6  otter    4  brown"
            ]
          },
          "metadata": {
            "tags": []
          },
          "execution_count": 114
        }
      ]
    },
    {
      "cell_type": "markdown",
      "metadata": {
        "id": "9vfCH-0OWpxv",
        "colab_type": "text"
      },
      "source": [
        "The DataFrame method duplicated returns a boolean Series indicating whether each row is a duplicate or not:"
      ]
    },
    {
      "cell_type": "code",
      "metadata": {
        "id": "KWpWTJjmTNsO",
        "colab_type": "code",
        "colab": {
          "base_uri": "https://localhost:8080/",
          "height": 153
        },
        "outputId": "a2b2a839-445f-4bb2-97be-268f0ea0144f"
      },
      "source": [
        "# Check for Duplication\n",
        "df_pets.duplicated()"
      ],
      "execution_count": 115,
      "outputs": [
        {
          "output_type": "execute_result",
          "data": {
            "text/plain": [
              "0    False\n",
              "1     True\n",
              "2    False\n",
              "3     True\n",
              "4    False\n",
              "5    False\n",
              "6    False\n",
              "dtype: bool"
            ]
          },
          "metadata": {
            "tags": []
          },
          "execution_count": 115
        }
      ]
    },
    {
      "cell_type": "markdown",
      "metadata": {
        "id": "5COnE15hWsxb",
        "colab_type": "text"
      },
      "source": [
        "Relatedly, drop_duplicates returns a DataFrame where the duplicated array is True:"
      ]
    },
    {
      "cell_type": "code",
      "metadata": {
        "id": "ZazfWiHBTX9m",
        "colab_type": "code",
        "colab": {
          "base_uri": "https://localhost:8080/",
          "height": 204
        },
        "outputId": "928bde1c-4d9f-4ebf-f54a-8911fa85e8f0"
      },
      "source": [
        "# Drop Duplicates in The Dataframe\n",
        "df_pets.drop_duplicates()"
      ],
      "execution_count": 116,
      "outputs": [
        {
          "output_type": "execute_result",
          "data": {
            "text/html": [
              "<div>\n",
              "<style scoped>\n",
              "    .dataframe tbody tr th:only-of-type {\n",
              "        vertical-align: middle;\n",
              "    }\n",
              "\n",
              "    .dataframe tbody tr th {\n",
              "        vertical-align: top;\n",
              "    }\n",
              "\n",
              "    .dataframe thead th {\n",
              "        text-align: right;\n",
              "    }\n",
              "</style>\n",
              "<table border=\"1\" class=\"dataframe\">\n",
              "  <thead>\n",
              "    <tr style=\"text-align: right;\">\n",
              "      <th></th>\n",
              "      <th>pet</th>\n",
              "      <th>age</th>\n",
              "      <th>color</th>\n",
              "    </tr>\n",
              "  </thead>\n",
              "  <tbody>\n",
              "    <tr>\n",
              "      <th>0</th>\n",
              "      <td>cat</td>\n",
              "      <td>1</td>\n",
              "      <td>white</td>\n",
              "    </tr>\n",
              "    <tr>\n",
              "      <th>2</th>\n",
              "      <td>dog</td>\n",
              "      <td>3</td>\n",
              "      <td>grey</td>\n",
              "    </tr>\n",
              "    <tr>\n",
              "      <th>4</th>\n",
              "      <td>dog</td>\n",
              "      <td>5</td>\n",
              "      <td>grey</td>\n",
              "    </tr>\n",
              "    <tr>\n",
              "      <th>5</th>\n",
              "      <td>otter</td>\n",
              "      <td>2</td>\n",
              "      <td>brown</td>\n",
              "    </tr>\n",
              "    <tr>\n",
              "      <th>6</th>\n",
              "      <td>otter</td>\n",
              "      <td>4</td>\n",
              "      <td>brown</td>\n",
              "    </tr>\n",
              "  </tbody>\n",
              "</table>\n",
              "</div>"
            ],
            "text/plain": [
              "     pet  age  color\n",
              "0    cat    1  white\n",
              "2    dog    3   grey\n",
              "4    dog    5   grey\n",
              "5  otter    2  brown\n",
              "6  otter    4  brown"
            ]
          },
          "metadata": {
            "tags": []
          },
          "execution_count": 116
        }
      ]
    },
    {
      "cell_type": "markdown",
      "metadata": {
        "id": "nFGXnpMHEyVo",
        "colab_type": "text"
      },
      "source": [
        "Drop duplicates based on one column"
      ]
    },
    {
      "cell_type": "code",
      "metadata": {
        "id": "rTIAMEASTk86",
        "colab_type": "code",
        "colab": {
          "base_uri": "https://localhost:8080/",
          "height": 142
        },
        "outputId": "3b4f7495-c1a3-44d5-b9c6-d11de32dbbcd"
      },
      "source": [
        "# Drop Duplicates based on Column Pet\n",
        "df_pets.drop_duplicates(['pet'])"
      ],
      "execution_count": 117,
      "outputs": [
        {
          "output_type": "execute_result",
          "data": {
            "text/html": [
              "<div>\n",
              "<style scoped>\n",
              "    .dataframe tbody tr th:only-of-type {\n",
              "        vertical-align: middle;\n",
              "    }\n",
              "\n",
              "    .dataframe tbody tr th {\n",
              "        vertical-align: top;\n",
              "    }\n",
              "\n",
              "    .dataframe thead th {\n",
              "        text-align: right;\n",
              "    }\n",
              "</style>\n",
              "<table border=\"1\" class=\"dataframe\">\n",
              "  <thead>\n",
              "    <tr style=\"text-align: right;\">\n",
              "      <th></th>\n",
              "      <th>pet</th>\n",
              "      <th>age</th>\n",
              "      <th>color</th>\n",
              "    </tr>\n",
              "  </thead>\n",
              "  <tbody>\n",
              "    <tr>\n",
              "      <th>0</th>\n",
              "      <td>cat</td>\n",
              "      <td>1</td>\n",
              "      <td>white</td>\n",
              "    </tr>\n",
              "    <tr>\n",
              "      <th>2</th>\n",
              "      <td>dog</td>\n",
              "      <td>3</td>\n",
              "      <td>grey</td>\n",
              "    </tr>\n",
              "    <tr>\n",
              "      <th>5</th>\n",
              "      <td>otter</td>\n",
              "      <td>2</td>\n",
              "      <td>brown</td>\n",
              "    </tr>\n",
              "  </tbody>\n",
              "</table>\n",
              "</div>"
            ],
            "text/plain": [
              "     pet  age  color\n",
              "0    cat    1  white\n",
              "2    dog    3   grey\n",
              "5  otter    2  brown"
            ]
          },
          "metadata": {
            "tags": []
          },
          "execution_count": 117
        }
      ]
    },
    {
      "cell_type": "code",
      "metadata": {
        "id": "nieIZedwDnJ_",
        "colab_type": "code",
        "colab": {
          "base_uri": "https://localhost:8080/",
          "height": 204
        },
        "outputId": "a77fde18-c2ac-4a1a-8769-2d29637c7c6d"
      },
      "source": [
        "# Drop Duplicates based on Column Weight\n",
        "df_pets.drop_duplicates(['age'])"
      ],
      "execution_count": 118,
      "outputs": [
        {
          "output_type": "execute_result",
          "data": {
            "text/html": [
              "<div>\n",
              "<style scoped>\n",
              "    .dataframe tbody tr th:only-of-type {\n",
              "        vertical-align: middle;\n",
              "    }\n",
              "\n",
              "    .dataframe tbody tr th {\n",
              "        vertical-align: top;\n",
              "    }\n",
              "\n",
              "    .dataframe thead th {\n",
              "        text-align: right;\n",
              "    }\n",
              "</style>\n",
              "<table border=\"1\" class=\"dataframe\">\n",
              "  <thead>\n",
              "    <tr style=\"text-align: right;\">\n",
              "      <th></th>\n",
              "      <th>pet</th>\n",
              "      <th>age</th>\n",
              "      <th>color</th>\n",
              "    </tr>\n",
              "  </thead>\n",
              "  <tbody>\n",
              "    <tr>\n",
              "      <th>0</th>\n",
              "      <td>cat</td>\n",
              "      <td>1</td>\n",
              "      <td>white</td>\n",
              "    </tr>\n",
              "    <tr>\n",
              "      <th>2</th>\n",
              "      <td>dog</td>\n",
              "      <td>3</td>\n",
              "      <td>grey</td>\n",
              "    </tr>\n",
              "    <tr>\n",
              "      <th>4</th>\n",
              "      <td>dog</td>\n",
              "      <td>5</td>\n",
              "      <td>grey</td>\n",
              "    </tr>\n",
              "    <tr>\n",
              "      <th>5</th>\n",
              "      <td>otter</td>\n",
              "      <td>2</td>\n",
              "      <td>brown</td>\n",
              "    </tr>\n",
              "    <tr>\n",
              "      <th>6</th>\n",
              "      <td>otter</td>\n",
              "      <td>4</td>\n",
              "      <td>brown</td>\n",
              "    </tr>\n",
              "  </tbody>\n",
              "</table>\n",
              "</div>"
            ],
            "text/plain": [
              "     pet  age  color\n",
              "0    cat    1  white\n",
              "2    dog    3   grey\n",
              "4    dog    5   grey\n",
              "5  otter    2  brown\n",
              "6  otter    4  brown"
            ]
          },
          "metadata": {
            "tags": []
          },
          "execution_count": 118
        }
      ]
    },
    {
      "cell_type": "code",
      "metadata": {
        "id": "_iUsxsFvEbOx",
        "colab_type": "code",
        "colab": {
          "base_uri": "https://localhost:8080/",
          "height": 142
        },
        "outputId": "1d27819c-e5eb-4db8-bcce-b9ca26fe1a5e"
      },
      "source": [
        "# Drop Duplicates based on Column Gender\n",
        "df_pets.drop_duplicates(['color'])"
      ],
      "execution_count": 119,
      "outputs": [
        {
          "output_type": "execute_result",
          "data": {
            "text/html": [
              "<div>\n",
              "<style scoped>\n",
              "    .dataframe tbody tr th:only-of-type {\n",
              "        vertical-align: middle;\n",
              "    }\n",
              "\n",
              "    .dataframe tbody tr th {\n",
              "        vertical-align: top;\n",
              "    }\n",
              "\n",
              "    .dataframe thead th {\n",
              "        text-align: right;\n",
              "    }\n",
              "</style>\n",
              "<table border=\"1\" class=\"dataframe\">\n",
              "  <thead>\n",
              "    <tr style=\"text-align: right;\">\n",
              "      <th></th>\n",
              "      <th>pet</th>\n",
              "      <th>age</th>\n",
              "      <th>color</th>\n",
              "    </tr>\n",
              "  </thead>\n",
              "  <tbody>\n",
              "    <tr>\n",
              "      <th>0</th>\n",
              "      <td>cat</td>\n",
              "      <td>1</td>\n",
              "      <td>white</td>\n",
              "    </tr>\n",
              "    <tr>\n",
              "      <th>2</th>\n",
              "      <td>dog</td>\n",
              "      <td>3</td>\n",
              "      <td>grey</td>\n",
              "    </tr>\n",
              "    <tr>\n",
              "      <th>5</th>\n",
              "      <td>otter</td>\n",
              "      <td>2</td>\n",
              "      <td>brown</td>\n",
              "    </tr>\n",
              "  </tbody>\n",
              "</table>\n",
              "</div>"
            ],
            "text/plain": [
              "     pet  age  color\n",
              "0    cat    1  white\n",
              "2    dog    3   grey\n",
              "5  otter    2  brown"
            ]
          },
          "metadata": {
            "tags": []
          },
          "execution_count": 119
        }
      ]
    },
    {
      "cell_type": "markdown",
      "metadata": {
        "id": "hCEf59fYE8rf",
        "colab_type": "text"
      },
      "source": [
        "Drop duplicates based on more than one columns"
      ]
    },
    {
      "cell_type": "code",
      "metadata": {
        "id": "0RfSqtp1Ejwd",
        "colab_type": "code",
        "colab": {
          "base_uri": "https://localhost:8080/",
          "height": 204
        },
        "outputId": "c9eb4852-78e1-44fd-b35a-e68814cfe79a"
      },
      "source": [
        "# Drop Duplicates based on Column Pet and Weight\n",
        "df_pets.drop_duplicates(['pet', 'age'])"
      ],
      "execution_count": 120,
      "outputs": [
        {
          "output_type": "execute_result",
          "data": {
            "text/html": [
              "<div>\n",
              "<style scoped>\n",
              "    .dataframe tbody tr th:only-of-type {\n",
              "        vertical-align: middle;\n",
              "    }\n",
              "\n",
              "    .dataframe tbody tr th {\n",
              "        vertical-align: top;\n",
              "    }\n",
              "\n",
              "    .dataframe thead th {\n",
              "        text-align: right;\n",
              "    }\n",
              "</style>\n",
              "<table border=\"1\" class=\"dataframe\">\n",
              "  <thead>\n",
              "    <tr style=\"text-align: right;\">\n",
              "      <th></th>\n",
              "      <th>pet</th>\n",
              "      <th>age</th>\n",
              "      <th>color</th>\n",
              "    </tr>\n",
              "  </thead>\n",
              "  <tbody>\n",
              "    <tr>\n",
              "      <th>0</th>\n",
              "      <td>cat</td>\n",
              "      <td>1</td>\n",
              "      <td>white</td>\n",
              "    </tr>\n",
              "    <tr>\n",
              "      <th>2</th>\n",
              "      <td>dog</td>\n",
              "      <td>3</td>\n",
              "      <td>grey</td>\n",
              "    </tr>\n",
              "    <tr>\n",
              "      <th>4</th>\n",
              "      <td>dog</td>\n",
              "      <td>5</td>\n",
              "      <td>grey</td>\n",
              "    </tr>\n",
              "    <tr>\n",
              "      <th>5</th>\n",
              "      <td>otter</td>\n",
              "      <td>2</td>\n",
              "      <td>brown</td>\n",
              "    </tr>\n",
              "    <tr>\n",
              "      <th>6</th>\n",
              "      <td>otter</td>\n",
              "      <td>4</td>\n",
              "      <td>brown</td>\n",
              "    </tr>\n",
              "  </tbody>\n",
              "</table>\n",
              "</div>"
            ],
            "text/plain": [
              "     pet  age  color\n",
              "0    cat    1  white\n",
              "2    dog    3   grey\n",
              "4    dog    5   grey\n",
              "5  otter    2  brown\n",
              "6  otter    4  brown"
            ]
          },
          "metadata": {
            "tags": []
          },
          "execution_count": 120
        }
      ]
    },
    {
      "cell_type": "markdown",
      "metadata": {
        "id": "zlJ1w69tUJaR",
        "colab_type": "text"
      },
      "source": [
        "### Replacing Values"
      ]
    },
    {
      "cell_type": "markdown",
      "metadata": {
        "id": "4Gco82NZW5_q",
        "colab_type": "text"
      },
      "source": [
        "In replacing values, we replace values with different new values. We use pet data frame that already created before."
      ]
    },
    {
      "cell_type": "markdown",
      "metadata": {
        "id": "NX15OduDSzw6",
        "colab_type": "text"
      },
      "source": [
        "Show data frame"
      ]
    },
    {
      "cell_type": "code",
      "metadata": {
        "id": "lJIsWuNyUiDl",
        "colab_type": "code",
        "colab": {
          "base_uri": "https://localhost:8080/",
          "height": 266
        },
        "outputId": "483e053a-c33d-48a0-d615-331d2c9424ac"
      },
      "source": [
        "# Show the Data Frame\n",
        "df_pets"
      ],
      "execution_count": 121,
      "outputs": [
        {
          "output_type": "execute_result",
          "data": {
            "text/html": [
              "<div>\n",
              "<style scoped>\n",
              "    .dataframe tbody tr th:only-of-type {\n",
              "        vertical-align: middle;\n",
              "    }\n",
              "\n",
              "    .dataframe tbody tr th {\n",
              "        vertical-align: top;\n",
              "    }\n",
              "\n",
              "    .dataframe thead th {\n",
              "        text-align: right;\n",
              "    }\n",
              "</style>\n",
              "<table border=\"1\" class=\"dataframe\">\n",
              "  <thead>\n",
              "    <tr style=\"text-align: right;\">\n",
              "      <th></th>\n",
              "      <th>pet</th>\n",
              "      <th>age</th>\n",
              "      <th>color</th>\n",
              "    </tr>\n",
              "  </thead>\n",
              "  <tbody>\n",
              "    <tr>\n",
              "      <th>0</th>\n",
              "      <td>cat</td>\n",
              "      <td>1</td>\n",
              "      <td>white</td>\n",
              "    </tr>\n",
              "    <tr>\n",
              "      <th>1</th>\n",
              "      <td>cat</td>\n",
              "      <td>1</td>\n",
              "      <td>white</td>\n",
              "    </tr>\n",
              "    <tr>\n",
              "      <th>2</th>\n",
              "      <td>dog</td>\n",
              "      <td>3</td>\n",
              "      <td>grey</td>\n",
              "    </tr>\n",
              "    <tr>\n",
              "      <th>3</th>\n",
              "      <td>dog</td>\n",
              "      <td>3</td>\n",
              "      <td>grey</td>\n",
              "    </tr>\n",
              "    <tr>\n",
              "      <th>4</th>\n",
              "      <td>dog</td>\n",
              "      <td>5</td>\n",
              "      <td>grey</td>\n",
              "    </tr>\n",
              "    <tr>\n",
              "      <th>5</th>\n",
              "      <td>otter</td>\n",
              "      <td>2</td>\n",
              "      <td>brown</td>\n",
              "    </tr>\n",
              "    <tr>\n",
              "      <th>6</th>\n",
              "      <td>otter</td>\n",
              "      <td>4</td>\n",
              "      <td>brown</td>\n",
              "    </tr>\n",
              "  </tbody>\n",
              "</table>\n",
              "</div>"
            ],
            "text/plain": [
              "     pet  age  color\n",
              "0    cat    1  white\n",
              "1    cat    1  white\n",
              "2    dog    3   grey\n",
              "3    dog    3   grey\n",
              "4    dog    5   grey\n",
              "5  otter    2  brown\n",
              "6  otter    4  brown"
            ]
          },
          "metadata": {
            "tags": []
          },
          "execution_count": 121
        }
      ]
    },
    {
      "cell_type": "markdown",
      "metadata": {
        "id": "Hxo36lFLW9yq",
        "colab_type": "text"
      },
      "source": [
        "If we consider that otter with the age of 4 is an uncorrect and unknown data, we can replace these values with NA values (missing values)."
      ]
    },
    {
      "cell_type": "code",
      "metadata": {
        "id": "s02WY662UlIM",
        "colab_type": "code",
        "colab": {
          "base_uri": "https://localhost:8080/",
          "height": 266
        },
        "outputId": "9019b64b-411c-4129-c571-0566f11c7e95"
      },
      "source": [
        "# Set Value as Missing Data\n",
        "df_pets.replace(4, np.nan)"
      ],
      "execution_count": 122,
      "outputs": [
        {
          "output_type": "execute_result",
          "data": {
            "text/html": [
              "<div>\n",
              "<style scoped>\n",
              "    .dataframe tbody tr th:only-of-type {\n",
              "        vertical-align: middle;\n",
              "    }\n",
              "\n",
              "    .dataframe tbody tr th {\n",
              "        vertical-align: top;\n",
              "    }\n",
              "\n",
              "    .dataframe thead th {\n",
              "        text-align: right;\n",
              "    }\n",
              "</style>\n",
              "<table border=\"1\" class=\"dataframe\">\n",
              "  <thead>\n",
              "    <tr style=\"text-align: right;\">\n",
              "      <th></th>\n",
              "      <th>pet</th>\n",
              "      <th>age</th>\n",
              "      <th>color</th>\n",
              "    </tr>\n",
              "  </thead>\n",
              "  <tbody>\n",
              "    <tr>\n",
              "      <th>0</th>\n",
              "      <td>cat</td>\n",
              "      <td>1.0</td>\n",
              "      <td>white</td>\n",
              "    </tr>\n",
              "    <tr>\n",
              "      <th>1</th>\n",
              "      <td>cat</td>\n",
              "      <td>1.0</td>\n",
              "      <td>white</td>\n",
              "    </tr>\n",
              "    <tr>\n",
              "      <th>2</th>\n",
              "      <td>dog</td>\n",
              "      <td>3.0</td>\n",
              "      <td>grey</td>\n",
              "    </tr>\n",
              "    <tr>\n",
              "      <th>3</th>\n",
              "      <td>dog</td>\n",
              "      <td>3.0</td>\n",
              "      <td>grey</td>\n",
              "    </tr>\n",
              "    <tr>\n",
              "      <th>4</th>\n",
              "      <td>dog</td>\n",
              "      <td>5.0</td>\n",
              "      <td>grey</td>\n",
              "    </tr>\n",
              "    <tr>\n",
              "      <th>5</th>\n",
              "      <td>otter</td>\n",
              "      <td>2.0</td>\n",
              "      <td>brown</td>\n",
              "    </tr>\n",
              "    <tr>\n",
              "      <th>6</th>\n",
              "      <td>otter</td>\n",
              "      <td>NaN</td>\n",
              "      <td>brown</td>\n",
              "    </tr>\n",
              "  </tbody>\n",
              "</table>\n",
              "</div>"
            ],
            "text/plain": [
              "     pet  age  color\n",
              "0    cat  1.0  white\n",
              "1    cat  1.0  white\n",
              "2    dog  3.0   grey\n",
              "3    dog  3.0   grey\n",
              "4    dog  5.0   grey\n",
              "5  otter  2.0  brown\n",
              "6  otter  NaN  brown"
            ]
          },
          "metadata": {
            "tags": []
          },
          "execution_count": 122
        }
      ]
    },
    {
      "cell_type": "markdown",
      "metadata": {
        "id": "rppc1mxVXAIQ",
        "colab_type": "text"
      },
      "source": [
        "Replace multiple values at once"
      ]
    },
    {
      "cell_type": "code",
      "metadata": {
        "id": "-KFeiGNfUr28",
        "colab_type": "code",
        "colab": {
          "base_uri": "https://localhost:8080/",
          "height": 266
        },
        "outputId": "dd4fe6fc-80b7-4d8a-9a8b-c0b270a1ecdf"
      },
      "source": [
        "# Set 4 and 5 Values as Missing Data\n",
        "df_pets.replace([4, 5], np.nan)"
      ],
      "execution_count": 123,
      "outputs": [
        {
          "output_type": "execute_result",
          "data": {
            "text/html": [
              "<div>\n",
              "<style scoped>\n",
              "    .dataframe tbody tr th:only-of-type {\n",
              "        vertical-align: middle;\n",
              "    }\n",
              "\n",
              "    .dataframe tbody tr th {\n",
              "        vertical-align: top;\n",
              "    }\n",
              "\n",
              "    .dataframe thead th {\n",
              "        text-align: right;\n",
              "    }\n",
              "</style>\n",
              "<table border=\"1\" class=\"dataframe\">\n",
              "  <thead>\n",
              "    <tr style=\"text-align: right;\">\n",
              "      <th></th>\n",
              "      <th>pet</th>\n",
              "      <th>age</th>\n",
              "      <th>color</th>\n",
              "    </tr>\n",
              "  </thead>\n",
              "  <tbody>\n",
              "    <tr>\n",
              "      <th>0</th>\n",
              "      <td>cat</td>\n",
              "      <td>1.0</td>\n",
              "      <td>white</td>\n",
              "    </tr>\n",
              "    <tr>\n",
              "      <th>1</th>\n",
              "      <td>cat</td>\n",
              "      <td>1.0</td>\n",
              "      <td>white</td>\n",
              "    </tr>\n",
              "    <tr>\n",
              "      <th>2</th>\n",
              "      <td>dog</td>\n",
              "      <td>3.0</td>\n",
              "      <td>grey</td>\n",
              "    </tr>\n",
              "    <tr>\n",
              "      <th>3</th>\n",
              "      <td>dog</td>\n",
              "      <td>3.0</td>\n",
              "      <td>grey</td>\n",
              "    </tr>\n",
              "    <tr>\n",
              "      <th>4</th>\n",
              "      <td>dog</td>\n",
              "      <td>NaN</td>\n",
              "      <td>grey</td>\n",
              "    </tr>\n",
              "    <tr>\n",
              "      <th>5</th>\n",
              "      <td>otter</td>\n",
              "      <td>2.0</td>\n",
              "      <td>brown</td>\n",
              "    </tr>\n",
              "    <tr>\n",
              "      <th>6</th>\n",
              "      <td>otter</td>\n",
              "      <td>NaN</td>\n",
              "      <td>brown</td>\n",
              "    </tr>\n",
              "  </tbody>\n",
              "</table>\n",
              "</div>"
            ],
            "text/plain": [
              "     pet  age  color\n",
              "0    cat  1.0  white\n",
              "1    cat  1.0  white\n",
              "2    dog  3.0   grey\n",
              "3    dog  3.0   grey\n",
              "4    dog  NaN   grey\n",
              "5  otter  2.0  brown\n",
              "6  otter  NaN  brown"
            ]
          },
          "metadata": {
            "tags": []
          },
          "execution_count": 123
        }
      ]
    },
    {
      "cell_type": "markdown",
      "metadata": {
        "id": "WVgsHvKFXFxA",
        "colab_type": "text"
      },
      "source": [
        "Replace multiple values with different value for each"
      ]
    },
    {
      "cell_type": "code",
      "metadata": {
        "id": "kAEAPuaVU4NZ",
        "colab_type": "code",
        "colab": {
          "base_uri": "https://localhost:8080/",
          "height": 266
        },
        "outputId": "8cb357e1-0e47-4fce-9fd5-458b6b47a6a0"
      },
      "source": [
        "# Set 4 as Missing Data and 5 as 10\n",
        "df_pets.replace({4: np.nan, 5: 10})"
      ],
      "execution_count": 124,
      "outputs": [
        {
          "output_type": "execute_result",
          "data": {
            "text/html": [
              "<div>\n",
              "<style scoped>\n",
              "    .dataframe tbody tr th:only-of-type {\n",
              "        vertical-align: middle;\n",
              "    }\n",
              "\n",
              "    .dataframe tbody tr th {\n",
              "        vertical-align: top;\n",
              "    }\n",
              "\n",
              "    .dataframe thead th {\n",
              "        text-align: right;\n",
              "    }\n",
              "</style>\n",
              "<table border=\"1\" class=\"dataframe\">\n",
              "  <thead>\n",
              "    <tr style=\"text-align: right;\">\n",
              "      <th></th>\n",
              "      <th>pet</th>\n",
              "      <th>age</th>\n",
              "      <th>color</th>\n",
              "    </tr>\n",
              "  </thead>\n",
              "  <tbody>\n",
              "    <tr>\n",
              "      <th>0</th>\n",
              "      <td>cat</td>\n",
              "      <td>1.0</td>\n",
              "      <td>white</td>\n",
              "    </tr>\n",
              "    <tr>\n",
              "      <th>1</th>\n",
              "      <td>cat</td>\n",
              "      <td>1.0</td>\n",
              "      <td>white</td>\n",
              "    </tr>\n",
              "    <tr>\n",
              "      <th>2</th>\n",
              "      <td>dog</td>\n",
              "      <td>3.0</td>\n",
              "      <td>grey</td>\n",
              "    </tr>\n",
              "    <tr>\n",
              "      <th>3</th>\n",
              "      <td>dog</td>\n",
              "      <td>3.0</td>\n",
              "      <td>grey</td>\n",
              "    </tr>\n",
              "    <tr>\n",
              "      <th>4</th>\n",
              "      <td>dog</td>\n",
              "      <td>10.0</td>\n",
              "      <td>grey</td>\n",
              "    </tr>\n",
              "    <tr>\n",
              "      <th>5</th>\n",
              "      <td>otter</td>\n",
              "      <td>2.0</td>\n",
              "      <td>brown</td>\n",
              "    </tr>\n",
              "    <tr>\n",
              "      <th>6</th>\n",
              "      <td>otter</td>\n",
              "      <td>NaN</td>\n",
              "      <td>brown</td>\n",
              "    </tr>\n",
              "  </tbody>\n",
              "</table>\n",
              "</div>"
            ],
            "text/plain": [
              "     pet   age  color\n",
              "0    cat   1.0  white\n",
              "1    cat   1.0  white\n",
              "2    dog   3.0   grey\n",
              "3    dog   3.0   grey\n",
              "4    dog  10.0   grey\n",
              "5  otter   2.0  brown\n",
              "6  otter   NaN  brown"
            ]
          },
          "metadata": {
            "tags": []
          },
          "execution_count": 124
        }
      ]
    },
    {
      "cell_type": "markdown",
      "metadata": {
        "id": "EIJTH8wjW6CY",
        "colab_type": "text"
      },
      "source": [
        "Create pet data with missing value"
      ]
    },
    {
      "cell_type": "code",
      "metadata": {
        "id": "i_tLI265W-I-",
        "colab_type": "code",
        "colab": {
          "base_uri": "https://localhost:8080/",
          "height": 266
        },
        "outputId": "27e88ae9-e0d3-441f-b36c-b25bc92e72ae"
      },
      "source": [
        "# Create Data Frame with Missing Value\n",
        "df_pets_a = df_pets.replace({4: np.nan, 5: 10})\n",
        "df_pets_a"
      ],
      "execution_count": 125,
      "outputs": [
        {
          "output_type": "execute_result",
          "data": {
            "text/html": [
              "<div>\n",
              "<style scoped>\n",
              "    .dataframe tbody tr th:only-of-type {\n",
              "        vertical-align: middle;\n",
              "    }\n",
              "\n",
              "    .dataframe tbody tr th {\n",
              "        vertical-align: top;\n",
              "    }\n",
              "\n",
              "    .dataframe thead th {\n",
              "        text-align: right;\n",
              "    }\n",
              "</style>\n",
              "<table border=\"1\" class=\"dataframe\">\n",
              "  <thead>\n",
              "    <tr style=\"text-align: right;\">\n",
              "      <th></th>\n",
              "      <th>pet</th>\n",
              "      <th>age</th>\n",
              "      <th>color</th>\n",
              "    </tr>\n",
              "  </thead>\n",
              "  <tbody>\n",
              "    <tr>\n",
              "      <th>0</th>\n",
              "      <td>cat</td>\n",
              "      <td>1.0</td>\n",
              "      <td>white</td>\n",
              "    </tr>\n",
              "    <tr>\n",
              "      <th>1</th>\n",
              "      <td>cat</td>\n",
              "      <td>1.0</td>\n",
              "      <td>white</td>\n",
              "    </tr>\n",
              "    <tr>\n",
              "      <th>2</th>\n",
              "      <td>dog</td>\n",
              "      <td>3.0</td>\n",
              "      <td>grey</td>\n",
              "    </tr>\n",
              "    <tr>\n",
              "      <th>3</th>\n",
              "      <td>dog</td>\n",
              "      <td>3.0</td>\n",
              "      <td>grey</td>\n",
              "    </tr>\n",
              "    <tr>\n",
              "      <th>4</th>\n",
              "      <td>dog</td>\n",
              "      <td>10.0</td>\n",
              "      <td>grey</td>\n",
              "    </tr>\n",
              "    <tr>\n",
              "      <th>5</th>\n",
              "      <td>otter</td>\n",
              "      <td>2.0</td>\n",
              "      <td>brown</td>\n",
              "    </tr>\n",
              "    <tr>\n",
              "      <th>6</th>\n",
              "      <td>otter</td>\n",
              "      <td>NaN</td>\n",
              "      <td>brown</td>\n",
              "    </tr>\n",
              "  </tbody>\n",
              "</table>\n",
              "</div>"
            ],
            "text/plain": [
              "     pet   age  color\n",
              "0    cat   1.0  white\n",
              "1    cat   1.0  white\n",
              "2    dog   3.0   grey\n",
              "3    dog   3.0   grey\n",
              "4    dog  10.0   grey\n",
              "5  otter   2.0  brown\n",
              "6  otter   NaN  brown"
            ]
          },
          "metadata": {
            "tags": []
          },
          "execution_count": 125
        }
      ]
    },
    {
      "cell_type": "markdown",
      "metadata": {
        "id": "25kYJSviV-yo",
        "colab_type": "text"
      },
      "source": [
        "### Impute Missing Values"
      ]
    },
    {
      "cell_type": "markdown",
      "metadata": {
        "id": "_piE9CHiWa_x",
        "colab_type": "text"
      },
      "source": [
        "Filling in missing data with the fill NA method. Here is an example. We use pet data frame with missing value that already created before."
      ]
    },
    {
      "cell_type": "markdown",
      "metadata": {
        "id": "WH619XikXuT7",
        "colab_type": "text"
      },
      "source": [
        "Show data frame"
      ]
    },
    {
      "cell_type": "code",
      "metadata": {
        "id": "VlGvF8j0Xqm7",
        "colab_type": "code",
        "colab": {
          "base_uri": "https://localhost:8080/",
          "height": 266
        },
        "outputId": "6e9ed8d5-21c6-4bcd-ee6c-19fe1d629281"
      },
      "source": [
        "# Show Data Frame\n",
        "df_pets_a"
      ],
      "execution_count": 126,
      "outputs": [
        {
          "output_type": "execute_result",
          "data": {
            "text/html": [
              "<div>\n",
              "<style scoped>\n",
              "    .dataframe tbody tr th:only-of-type {\n",
              "        vertical-align: middle;\n",
              "    }\n",
              "\n",
              "    .dataframe tbody tr th {\n",
              "        vertical-align: top;\n",
              "    }\n",
              "\n",
              "    .dataframe thead th {\n",
              "        text-align: right;\n",
              "    }\n",
              "</style>\n",
              "<table border=\"1\" class=\"dataframe\">\n",
              "  <thead>\n",
              "    <tr style=\"text-align: right;\">\n",
              "      <th></th>\n",
              "      <th>pet</th>\n",
              "      <th>age</th>\n",
              "      <th>color</th>\n",
              "    </tr>\n",
              "  </thead>\n",
              "  <tbody>\n",
              "    <tr>\n",
              "      <th>0</th>\n",
              "      <td>cat</td>\n",
              "      <td>1.0</td>\n",
              "      <td>white</td>\n",
              "    </tr>\n",
              "    <tr>\n",
              "      <th>1</th>\n",
              "      <td>cat</td>\n",
              "      <td>1.0</td>\n",
              "      <td>white</td>\n",
              "    </tr>\n",
              "    <tr>\n",
              "      <th>2</th>\n",
              "      <td>dog</td>\n",
              "      <td>3.0</td>\n",
              "      <td>grey</td>\n",
              "    </tr>\n",
              "    <tr>\n",
              "      <th>3</th>\n",
              "      <td>dog</td>\n",
              "      <td>3.0</td>\n",
              "      <td>grey</td>\n",
              "    </tr>\n",
              "    <tr>\n",
              "      <th>4</th>\n",
              "      <td>dog</td>\n",
              "      <td>10.0</td>\n",
              "      <td>grey</td>\n",
              "    </tr>\n",
              "    <tr>\n",
              "      <th>5</th>\n",
              "      <td>otter</td>\n",
              "      <td>2.0</td>\n",
              "      <td>brown</td>\n",
              "    </tr>\n",
              "    <tr>\n",
              "      <th>6</th>\n",
              "      <td>otter</td>\n",
              "      <td>NaN</td>\n",
              "      <td>brown</td>\n",
              "    </tr>\n",
              "  </tbody>\n",
              "</table>\n",
              "</div>"
            ],
            "text/plain": [
              "     pet   age  color\n",
              "0    cat   1.0  white\n",
              "1    cat   1.0  white\n",
              "2    dog   3.0   grey\n",
              "3    dog   3.0   grey\n",
              "4    dog  10.0   grey\n",
              "5  otter   2.0  brown\n",
              "6  otter   NaN  brown"
            ]
          },
          "metadata": {
            "tags": []
          },
          "execution_count": 126
        }
      ]
    },
    {
      "cell_type": "markdown",
      "metadata": {
        "id": "MlucZx6PYoK9",
        "colab_type": "text"
      },
      "source": [
        "Search for column with missing values"
      ]
    },
    {
      "cell_type": "code",
      "metadata": {
        "id": "x4eG_M3AZMCq",
        "colab_type": "code",
        "colab": {
          "base_uri": "https://localhost:8080/",
          "height": 85
        },
        "outputId": "53eb0b5e-d9ff-46c2-c2a4-b36f917e9155"
      },
      "source": [
        "# Show Missing Values on Data Frame\n",
        "df_pets_a.isnull().sum()"
      ],
      "execution_count": 127,
      "outputs": [
        {
          "output_type": "execute_result",
          "data": {
            "text/plain": [
              "pet      0\n",
              "age      1\n",
              "color    0\n",
              "dtype: int64"
            ]
          },
          "metadata": {
            "tags": []
          },
          "execution_count": 127
        }
      ]
    },
    {
      "cell_type": "markdown",
      "metadata": {
        "id": "Ogl4cjDzVspJ",
        "colab_type": "text"
      },
      "source": [
        "Impute missing value"
      ]
    },
    {
      "cell_type": "code",
      "metadata": {
        "id": "3PqBOHq4Vv6y",
        "colab_type": "code",
        "colab": {
          "base_uri": "https://localhost:8080/",
          "height": 266
        },
        "outputId": "b50b3f04-4c42-4ab8-b848-00b193d88396"
      },
      "source": [
        "# Impute Missing Values with Median Value\n",
        "median = df_pets_a['age'].median()\n",
        "df_pets_a['age'].fillna(median, inplace=True)\n",
        "df_pets_a"
      ],
      "execution_count": 128,
      "outputs": [
        {
          "output_type": "execute_result",
          "data": {
            "text/html": [
              "<div>\n",
              "<style scoped>\n",
              "    .dataframe tbody tr th:only-of-type {\n",
              "        vertical-align: middle;\n",
              "    }\n",
              "\n",
              "    .dataframe tbody tr th {\n",
              "        vertical-align: top;\n",
              "    }\n",
              "\n",
              "    .dataframe thead th {\n",
              "        text-align: right;\n",
              "    }\n",
              "</style>\n",
              "<table border=\"1\" class=\"dataframe\">\n",
              "  <thead>\n",
              "    <tr style=\"text-align: right;\">\n",
              "      <th></th>\n",
              "      <th>pet</th>\n",
              "      <th>age</th>\n",
              "      <th>color</th>\n",
              "    </tr>\n",
              "  </thead>\n",
              "  <tbody>\n",
              "    <tr>\n",
              "      <th>0</th>\n",
              "      <td>cat</td>\n",
              "      <td>1.0</td>\n",
              "      <td>white</td>\n",
              "    </tr>\n",
              "    <tr>\n",
              "      <th>1</th>\n",
              "      <td>cat</td>\n",
              "      <td>1.0</td>\n",
              "      <td>white</td>\n",
              "    </tr>\n",
              "    <tr>\n",
              "      <th>2</th>\n",
              "      <td>dog</td>\n",
              "      <td>3.0</td>\n",
              "      <td>grey</td>\n",
              "    </tr>\n",
              "    <tr>\n",
              "      <th>3</th>\n",
              "      <td>dog</td>\n",
              "      <td>3.0</td>\n",
              "      <td>grey</td>\n",
              "    </tr>\n",
              "    <tr>\n",
              "      <th>4</th>\n",
              "      <td>dog</td>\n",
              "      <td>10.0</td>\n",
              "      <td>grey</td>\n",
              "    </tr>\n",
              "    <tr>\n",
              "      <th>5</th>\n",
              "      <td>otter</td>\n",
              "      <td>2.0</td>\n",
              "      <td>brown</td>\n",
              "    </tr>\n",
              "    <tr>\n",
              "      <th>6</th>\n",
              "      <td>otter</td>\n",
              "      <td>2.5</td>\n",
              "      <td>brown</td>\n",
              "    </tr>\n",
              "  </tbody>\n",
              "</table>\n",
              "</div>"
            ],
            "text/plain": [
              "     pet   age  color\n",
              "0    cat   1.0  white\n",
              "1    cat   1.0  white\n",
              "2    dog   3.0   grey\n",
              "3    dog   3.0   grey\n",
              "4    dog  10.0   grey\n",
              "5  otter   2.0  brown\n",
              "6  otter   2.5  brown"
            ]
          },
          "metadata": {
            "tags": []
          },
          "execution_count": 128
        }
      ]
    },
    {
      "cell_type": "markdown",
      "metadata": {
        "id": "A_LBFvUjZQwt",
        "colab_type": "text"
      },
      "source": [
        "Recheck the missing values"
      ]
    },
    {
      "cell_type": "code",
      "metadata": {
        "id": "7u5r8OphZYvG",
        "colab_type": "code",
        "colab": {
          "base_uri": "https://localhost:8080/",
          "height": 85
        },
        "outputId": "0c8275fd-2974-4708-ad74-6e7d5066c514"
      },
      "source": [
        "# Show Missing Values on Data Frame\n",
        "df_pets_a.isnull().sum()"
      ],
      "execution_count": 129,
      "outputs": [
        {
          "output_type": "execute_result",
          "data": {
            "text/plain": [
              "pet      0\n",
              "age      0\n",
              "color    0\n",
              "dtype: int64"
            ]
          },
          "metadata": {
            "tags": []
          },
          "execution_count": 129
        }
      ]
    },
    {
      "cell_type": "markdown",
      "metadata": {
        "id": "j4YCbkysU_xQ",
        "colab_type": "text"
      },
      "source": [
        "### Filtering"
      ]
    },
    {
      "cell_type": "markdown",
      "metadata": {
        "id": "PNUxuvA5VNLe",
        "colab_type": "text"
      },
      "source": [
        "Filtering value is largely a matter of applying array operations. Consider a data frame with some normally distributed data:"
      ]
    },
    {
      "cell_type": "code",
      "metadata": {
        "id": "LYi0O42zVCgf",
        "colab_type": "code",
        "colab": {
          "base_uri": "https://localhost:8080/",
          "height": 419
        },
        "outputId": "db2d02f9-afa8-49d5-baea-fdb8a882403e"
      },
      "source": [
        "# Create Data Frame with Random Value with 1000 Rows and 4 Columns\n",
        "np.random.seed(12345)\n",
        "df_random = pd.DataFrame(np.random.randn(1000, 4))\n",
        "df_random"
      ],
      "execution_count": 130,
      "outputs": [
        {
          "output_type": "execute_result",
          "data": {
            "text/html": [
              "<div>\n",
              "<style scoped>\n",
              "    .dataframe tbody tr th:only-of-type {\n",
              "        vertical-align: middle;\n",
              "    }\n",
              "\n",
              "    .dataframe tbody tr th {\n",
              "        vertical-align: top;\n",
              "    }\n",
              "\n",
              "    .dataframe thead th {\n",
              "        text-align: right;\n",
              "    }\n",
              "</style>\n",
              "<table border=\"1\" class=\"dataframe\">\n",
              "  <thead>\n",
              "    <tr style=\"text-align: right;\">\n",
              "      <th></th>\n",
              "      <th>0</th>\n",
              "      <th>1</th>\n",
              "      <th>2</th>\n",
              "      <th>3</th>\n",
              "    </tr>\n",
              "  </thead>\n",
              "  <tbody>\n",
              "    <tr>\n",
              "      <th>0</th>\n",
              "      <td>-0.204708</td>\n",
              "      <td>0.478943</td>\n",
              "      <td>-0.519439</td>\n",
              "      <td>-0.555730</td>\n",
              "    </tr>\n",
              "    <tr>\n",
              "      <th>1</th>\n",
              "      <td>1.965781</td>\n",
              "      <td>1.393406</td>\n",
              "      <td>0.092908</td>\n",
              "      <td>0.281746</td>\n",
              "    </tr>\n",
              "    <tr>\n",
              "      <th>2</th>\n",
              "      <td>0.769023</td>\n",
              "      <td>1.246435</td>\n",
              "      <td>1.007189</td>\n",
              "      <td>-1.296221</td>\n",
              "    </tr>\n",
              "    <tr>\n",
              "      <th>3</th>\n",
              "      <td>0.274992</td>\n",
              "      <td>0.228913</td>\n",
              "      <td>1.352917</td>\n",
              "      <td>0.886429</td>\n",
              "    </tr>\n",
              "    <tr>\n",
              "      <th>4</th>\n",
              "      <td>-2.001637</td>\n",
              "      <td>-0.371843</td>\n",
              "      <td>1.669025</td>\n",
              "      <td>-0.438570</td>\n",
              "    </tr>\n",
              "    <tr>\n",
              "      <th>...</th>\n",
              "      <td>...</td>\n",
              "      <td>...</td>\n",
              "      <td>...</td>\n",
              "      <td>...</td>\n",
              "    </tr>\n",
              "    <tr>\n",
              "      <th>995</th>\n",
              "      <td>1.089085</td>\n",
              "      <td>0.251232</td>\n",
              "      <td>-1.451985</td>\n",
              "      <td>1.653126</td>\n",
              "    </tr>\n",
              "    <tr>\n",
              "      <th>996</th>\n",
              "      <td>-0.478509</td>\n",
              "      <td>-0.010663</td>\n",
              "      <td>-1.060881</td>\n",
              "      <td>-1.502870</td>\n",
              "    </tr>\n",
              "    <tr>\n",
              "      <th>997</th>\n",
              "      <td>-1.946267</td>\n",
              "      <td>1.013592</td>\n",
              "      <td>0.037333</td>\n",
              "      <td>0.133304</td>\n",
              "    </tr>\n",
              "    <tr>\n",
              "      <th>998</th>\n",
              "      <td>-1.293122</td>\n",
              "      <td>-0.322542</td>\n",
              "      <td>-0.782960</td>\n",
              "      <td>-0.303340</td>\n",
              "    </tr>\n",
              "    <tr>\n",
              "      <th>999</th>\n",
              "      <td>0.089987</td>\n",
              "      <td>0.292291</td>\n",
              "      <td>1.177706</td>\n",
              "      <td>0.882755</td>\n",
              "    </tr>\n",
              "  </tbody>\n",
              "</table>\n",
              "<p>1000 rows × 4 columns</p>\n",
              "</div>"
            ],
            "text/plain": [
              "            0         1         2         3\n",
              "0   -0.204708  0.478943 -0.519439 -0.555730\n",
              "1    1.965781  1.393406  0.092908  0.281746\n",
              "2    0.769023  1.246435  1.007189 -1.296221\n",
              "3    0.274992  0.228913  1.352917  0.886429\n",
              "4   -2.001637 -0.371843  1.669025 -0.438570\n",
              "..        ...       ...       ...       ...\n",
              "995  1.089085  0.251232 -1.451985  1.653126\n",
              "996 -0.478509 -0.010663 -1.060881 -1.502870\n",
              "997 -1.946267  1.013592  0.037333  0.133304\n",
              "998 -1.293122 -0.322542 -0.782960 -0.303340\n",
              "999  0.089987  0.292291  1.177706  0.882755\n",
              "\n",
              "[1000 rows x 4 columns]"
            ]
          },
          "metadata": {
            "tags": []
          },
          "execution_count": 130
        }
      ]
    },
    {
      "cell_type": "code",
      "metadata": {
        "id": "VcoCEgy_Vp3h",
        "colab_type": "code",
        "colab": {
          "base_uri": "https://localhost:8080/",
          "height": 297
        },
        "outputId": "fd33ff61-0903-4aeb-980c-b189805edb82"
      },
      "source": [
        "# Describe the Data\n",
        "df_random.describe()"
      ],
      "execution_count": 131,
      "outputs": [
        {
          "output_type": "execute_result",
          "data": {
            "text/html": [
              "<div>\n",
              "<style scoped>\n",
              "    .dataframe tbody tr th:only-of-type {\n",
              "        vertical-align: middle;\n",
              "    }\n",
              "\n",
              "    .dataframe tbody tr th {\n",
              "        vertical-align: top;\n",
              "    }\n",
              "\n",
              "    .dataframe thead th {\n",
              "        text-align: right;\n",
              "    }\n",
              "</style>\n",
              "<table border=\"1\" class=\"dataframe\">\n",
              "  <thead>\n",
              "    <tr style=\"text-align: right;\">\n",
              "      <th></th>\n",
              "      <th>0</th>\n",
              "      <th>1</th>\n",
              "      <th>2</th>\n",
              "      <th>3</th>\n",
              "    </tr>\n",
              "  </thead>\n",
              "  <tbody>\n",
              "    <tr>\n",
              "      <th>count</th>\n",
              "      <td>1000.000000</td>\n",
              "      <td>1000.000000</td>\n",
              "      <td>1000.000000</td>\n",
              "      <td>1000.000000</td>\n",
              "    </tr>\n",
              "    <tr>\n",
              "      <th>mean</th>\n",
              "      <td>-0.067684</td>\n",
              "      <td>0.067924</td>\n",
              "      <td>0.025598</td>\n",
              "      <td>-0.002298</td>\n",
              "    </tr>\n",
              "    <tr>\n",
              "      <th>std</th>\n",
              "      <td>0.998035</td>\n",
              "      <td>0.992106</td>\n",
              "      <td>1.006835</td>\n",
              "      <td>0.996794</td>\n",
              "    </tr>\n",
              "    <tr>\n",
              "      <th>min</th>\n",
              "      <td>-3.428254</td>\n",
              "      <td>-3.548824</td>\n",
              "      <td>-3.184377</td>\n",
              "      <td>-3.745356</td>\n",
              "    </tr>\n",
              "    <tr>\n",
              "      <th>25%</th>\n",
              "      <td>-0.774890</td>\n",
              "      <td>-0.591841</td>\n",
              "      <td>-0.641675</td>\n",
              "      <td>-0.644144</td>\n",
              "    </tr>\n",
              "    <tr>\n",
              "      <th>50%</th>\n",
              "      <td>-0.116401</td>\n",
              "      <td>0.101143</td>\n",
              "      <td>0.002073</td>\n",
              "      <td>-0.013611</td>\n",
              "    </tr>\n",
              "    <tr>\n",
              "      <th>75%</th>\n",
              "      <td>0.616366</td>\n",
              "      <td>0.780282</td>\n",
              "      <td>0.680391</td>\n",
              "      <td>0.654328</td>\n",
              "    </tr>\n",
              "    <tr>\n",
              "      <th>max</th>\n",
              "      <td>3.366626</td>\n",
              "      <td>2.653656</td>\n",
              "      <td>3.260383</td>\n",
              "      <td>3.927528</td>\n",
              "    </tr>\n",
              "  </tbody>\n",
              "</table>\n",
              "</div>"
            ],
            "text/plain": [
              "                 0            1            2            3\n",
              "count  1000.000000  1000.000000  1000.000000  1000.000000\n",
              "mean     -0.067684     0.067924     0.025598    -0.002298\n",
              "std       0.998035     0.992106     1.006835     0.996794\n",
              "min      -3.428254    -3.548824    -3.184377    -3.745356\n",
              "25%      -0.774890    -0.591841    -0.641675    -0.644144\n",
              "50%      -0.116401     0.101143     0.002073    -0.013611\n",
              "75%       0.616366     0.780282     0.680391     0.654328\n",
              "max       3.366626     2.653656     3.260383     3.927528"
            ]
          },
          "metadata": {
            "tags": []
          },
          "execution_count": 131
        }
      ]
    },
    {
      "cell_type": "markdown",
      "metadata": {
        "id": "dyZ6masLVOxU",
        "colab_type": "text"
      },
      "source": [
        "Find values in one of the columns exceeding three in magnitude"
      ]
    },
    {
      "cell_type": "code",
      "metadata": {
        "id": "V5IpK_69VSDq",
        "colab_type": "code",
        "colab": {
          "base_uri": "https://localhost:8080/",
          "height": 119
        },
        "outputId": "5189293b-7756-4445-ae8a-69fea440c5c5"
      },
      "source": [
        "# Find Values in Column 2 which is Exceeding 3 in Magnitude\n",
        "column2 = df_random[2]\n",
        "column2[np.abs(column2) > 3]"
      ],
      "execution_count": 132,
      "outputs": [
        {
          "output_type": "execute_result",
          "data": {
            "text/plain": [
              "5      3.248944\n",
              "102    3.176873\n",
              "324    3.260383\n",
              "499   -3.056990\n",
              "586   -3.184377\n",
              "Name: 2, dtype: float64"
            ]
          },
          "metadata": {
            "tags": []
          },
          "execution_count": 132
        }
      ]
    },
    {
      "cell_type": "markdown",
      "metadata": {
        "id": "-jdD1oBrVRhx",
        "colab_type": "text"
      },
      "source": [
        "Select all rows having a value exceeding 3 or -3"
      ]
    },
    {
      "cell_type": "code",
      "metadata": {
        "id": "IrnBOS_aVbJZ",
        "colab_type": "code",
        "colab": {
          "base_uri": "https://localhost:8080/",
          "height": 390
        },
        "outputId": "3725c637-ade8-4aac-abb6-daea1a387f5f"
      },
      "source": [
        "# Select Rows Having a Value Exceeding 3 in Magnitude\n",
        "df_random[(np.abs(df_random) > 3).any(1)]"
      ],
      "execution_count": 133,
      "outputs": [
        {
          "output_type": "execute_result",
          "data": {
            "text/html": [
              "<div>\n",
              "<style scoped>\n",
              "    .dataframe tbody tr th:only-of-type {\n",
              "        vertical-align: middle;\n",
              "    }\n",
              "\n",
              "    .dataframe tbody tr th {\n",
              "        vertical-align: top;\n",
              "    }\n",
              "\n",
              "    .dataframe thead th {\n",
              "        text-align: right;\n",
              "    }\n",
              "</style>\n",
              "<table border=\"1\" class=\"dataframe\">\n",
              "  <thead>\n",
              "    <tr style=\"text-align: right;\">\n",
              "      <th></th>\n",
              "      <th>0</th>\n",
              "      <th>1</th>\n",
              "      <th>2</th>\n",
              "      <th>3</th>\n",
              "    </tr>\n",
              "  </thead>\n",
              "  <tbody>\n",
              "    <tr>\n",
              "      <th>5</th>\n",
              "      <td>-0.539741</td>\n",
              "      <td>0.476985</td>\n",
              "      <td>3.248944</td>\n",
              "      <td>-1.021228</td>\n",
              "    </tr>\n",
              "    <tr>\n",
              "      <th>97</th>\n",
              "      <td>-0.774363</td>\n",
              "      <td>0.552936</td>\n",
              "      <td>0.106061</td>\n",
              "      <td>3.927528</td>\n",
              "    </tr>\n",
              "    <tr>\n",
              "      <th>102</th>\n",
              "      <td>-0.655054</td>\n",
              "      <td>-0.565230</td>\n",
              "      <td>3.176873</td>\n",
              "      <td>0.959533</td>\n",
              "    </tr>\n",
              "    <tr>\n",
              "      <th>305</th>\n",
              "      <td>-2.315555</td>\n",
              "      <td>0.457246</td>\n",
              "      <td>-0.025907</td>\n",
              "      <td>-3.399312</td>\n",
              "    </tr>\n",
              "    <tr>\n",
              "      <th>324</th>\n",
              "      <td>0.050188</td>\n",
              "      <td>1.951312</td>\n",
              "      <td>3.260383</td>\n",
              "      <td>0.963301</td>\n",
              "    </tr>\n",
              "    <tr>\n",
              "      <th>400</th>\n",
              "      <td>0.146326</td>\n",
              "      <td>0.508391</td>\n",
              "      <td>-0.196713</td>\n",
              "      <td>-3.745356</td>\n",
              "    </tr>\n",
              "    <tr>\n",
              "      <th>499</th>\n",
              "      <td>-0.293333</td>\n",
              "      <td>-0.242459</td>\n",
              "      <td>-3.056990</td>\n",
              "      <td>1.918403</td>\n",
              "    </tr>\n",
              "    <tr>\n",
              "      <th>523</th>\n",
              "      <td>-3.428254</td>\n",
              "      <td>-0.296336</td>\n",
              "      <td>-0.439938</td>\n",
              "      <td>-0.867165</td>\n",
              "    </tr>\n",
              "    <tr>\n",
              "      <th>586</th>\n",
              "      <td>0.275144</td>\n",
              "      <td>1.179227</td>\n",
              "      <td>-3.184377</td>\n",
              "      <td>1.369891</td>\n",
              "    </tr>\n",
              "    <tr>\n",
              "      <th>808</th>\n",
              "      <td>-0.362528</td>\n",
              "      <td>-3.548824</td>\n",
              "      <td>1.553205</td>\n",
              "      <td>-2.186301</td>\n",
              "    </tr>\n",
              "    <tr>\n",
              "      <th>900</th>\n",
              "      <td>3.366626</td>\n",
              "      <td>-2.372214</td>\n",
              "      <td>0.851010</td>\n",
              "      <td>1.332846</td>\n",
              "    </tr>\n",
              "  </tbody>\n",
              "</table>\n",
              "</div>"
            ],
            "text/plain": [
              "            0         1         2         3\n",
              "5   -0.539741  0.476985  3.248944 -1.021228\n",
              "97  -0.774363  0.552936  0.106061  3.927528\n",
              "102 -0.655054 -0.565230  3.176873  0.959533\n",
              "305 -2.315555  0.457246 -0.025907 -3.399312\n",
              "324  0.050188  1.951312  3.260383  0.963301\n",
              "400  0.146326  0.508391 -0.196713 -3.745356\n",
              "499 -0.293333 -0.242459 -3.056990  1.918403\n",
              "523 -3.428254 -0.296336 -0.439938 -0.867165\n",
              "586  0.275144  1.179227 -3.184377  1.369891\n",
              "808 -0.362528 -3.548824  1.553205 -2.186301\n",
              "900  3.366626 -2.372214  0.851010  1.332846"
            ]
          },
          "metadata": {
            "tags": []
          },
          "execution_count": 133
        }
      ]
    },
    {
      "cell_type": "code",
      "metadata": {
        "id": "XoiWj2CylpSw",
        "colab_type": "code",
        "colab": {}
      },
      "source": [
        ""
      ],
      "execution_count": 0,
      "outputs": []
    }
  ]
}